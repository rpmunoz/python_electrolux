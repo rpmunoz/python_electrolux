{
 "cells": [
  {
   "cell_type": "markdown",
   "metadata": {},
   "source": [
    "# Visualización con Seaborn parte 1\n",
    "\n",
    "**Autor:** Roberto Muñoz <br />\n",
    "**E-mail:** <rmunoz@metricarts.com> <br />\n",
    "**Github:** <https://github.com/rpmunoz> <br />\n",
    "\n",
    "[Matplotlib](http://matplotlib.org/) es el módulo de dibujo de gráficas 2D y 3D que vamos a utilizar aunque no es el único existente. Matplotlib tiene multitud de librerías de las cuales nosotros, por semejanza a Matlab, utilizaremos pyplot.\n",
    "\n",
    "En el sitio web http://matplotlib.org/ se pueden encontrar multitud de programas y ejemplos de como hacer dibujos con Matplotlib."
   ]
  },
  {
   "cell_type": "code",
   "execution_count": null,
   "metadata": {},
   "outputs": [],
   "source": [
    "import pandas as pd\n",
    "import seaborn as sns\n",
    "import matplotlib.pyplot as plt\n",
    "import matplotlib.ticker as ticker\n",
    "\n",
    "sns.set(font_scale=1.5)"
   ]
  },
  {
   "cell_type": "code",
   "execution_count": null,
   "metadata": {},
   "outputs": [],
   "source": [
    "hbs_df = pd.DataFrame()\n",
    "hbs_df['Año'] = [1971,1985,1991,2001,2005,2010,2011,2012,2013,2014,2015,2016,2017]\n",
    "hbs_df['GDP'] = [None,1399,3590,4304,4759,5702,6165,6202,5158,4855,4396,4951,4867]\n",
    "hbs_df['Average CPI'] = [34.76,85.4,94.2,98.4,96.9,96.5,96.3,96.2,96.6,99.2,100,99.9,100.4]\n",
    "hbs_df['Change in Average CPI'] = [6.4,2,3.3,-0.7,-0.3,-0.7,-0.3,-0.1,0.3,2.8,0.8,-0.1,0.5]\n",
    "hbs_df['Real GDP'] = [191,319,420,464,490,492,491,499,509,511,518,522,531]\n",
    "#data_df['Real GDP growth'] = [4.3,5.2,3.4,0.4,1.7,4.2,-0.1,1.5,2.0,0.4,1.4,0.9,1.6]\n",
    "\n",
    "hbs_df.head()"
   ]
  },
  {
   "cell_type": "code",
   "execution_count": null,
   "metadata": {},
   "outputs": [],
   "source": [
    "wb_df = pd.DataFrame()\n",
    "wb_df['Año'] = [1960,1961,1962,1963,1964,1965,1966,1967,1968,1969,1970,1971,1972,1973,1974,1975,1976,1977,1978,1979,1980,1981,1982,1983,1984,1985,1986,1987,1988,1989,1990,1991,1992,1993,1994,1995,1996,1997,1998,1999,2000,2001,2002,2003,2004,2005,2006,2007,2008,2009,2010,2011,2012,2013,2014,2015,2016,2017,2018]\n",
    "wb_df['Real GDP growth'] = [None,12.0435364080116,8.90897299558078,8.47364238279388,11.6767081963974,5.81970787298265,10.6385615591633,11.0821423246932,12.8824681383227,12.4778945144981,0.399050644836521,4.69899204221254,8.41354725523766,8.03259997464704,-1.22523982750971,3.09157591618936,3.97498409103324,4.3903379502233,5.27194150293194,5.48404183246976,2.81759120759064,4.20933646528428,3.31245673720697,3.52304498515672,4.50199481614233,5.23338094683791,3.32652561629536,4.73066586035505,6.78502010952113,4.85803768631257,4.89271306574963,3.41749676176126,0.848069581265648,-0.517919847221194,0.993066363306738,2.74214032209983,3.09999929076874,1.07604523420474,-1.12840982886489,-0.251954272088312,2.7796328252636,0.406335903197757,0.117992776770365,1.52822014814711,2.20468788231929,1.66267040518831,1.42000655604772,1.65418388116862,-1.09354060042271,-5.41641279673998,4.1917392586067,-0.115421339715752,1.49508958593792,2.00026784110196,0.374719476337631,1.2229210410667,0.609093181240581,1.92875725128059,0.787965413355508]\n",
    "\n",
    "wb_df.head()"
   ]
  },
  {
   "cell_type": "code",
   "execution_count": null,
   "metadata": {},
   "outputs": [],
   "source": [
    "data_df = pd.merge(hbs_df, wb_df, on='Año', how='outer')\n",
    "data_df.head()"
   ]
  },
  {
   "cell_type": "code",
   "execution_count": null,
   "metadata": {},
   "outputs": [],
   "source": [
    "#data_df"
   ]
  },
  {
   "cell_type": "code",
   "execution_count": null,
   "metadata": {},
   "outputs": [],
   "source": [
    "fig, ax = plt.subplots(figsize=(12,9))\n",
    "sns.lineplot(x='Año', y='Real GDP', data=data_df, color='b',\n",
    "            label='Real GDP', ax=ax)\n",
    "ax.set_xlim(1999,2017)\n",
    "ax.set_ylim(450,550)\n",
    "ax.set_ylabel('Real GDP (Trillion Yen)')\n",
    "ax.xaxis.set_major_locator(ticker.MultipleLocator(2))\n",
    "ax.xaxis.set_major_formatter(ticker.ScalarFormatter())\n",
    "ax.legend(loc=2)\n",
    "\n",
    "ax2 = plt.twinx()\n",
    "sns.lineplot(x='Año', y='Real GDP growth', data=data_df, color='r',\n",
    "             label='% Real GDP growth', ax=ax2)\n",
    "ax2.set_ylim(-5,5)\n",
    "ax2.set_ylabel('% Real GDP growth')\n",
    "ax2.yaxis.set_major_formatter(ticker.FuncFormatter(lambda y, _: '{:.0%}'.format(y/100))) \n",
    "ax2.grid(False)\n",
    "ax2.legend(loc=1)"
   ]
  },
  {
   "cell_type": "code",
   "execution_count": null,
   "metadata": {},
   "outputs": [],
   "source": [
    "fig, ax = plt.subplots(figsize=(12,9))\n",
    "sns.lineplot(x='Año', y='Average CPI', data=data_df, color='b',\n",
    "            label='Average CPI', ax=ax)\n",
    "ax.set_xlim(1999,2017)\n",
    "ax.set_ylim(96,102)\n",
    "ax.xaxis.set_major_locator(ticker.MultipleLocator(2))\n",
    "ax.xaxis.set_major_formatter(ticker.ScalarFormatter())\n",
    "ax.legend(loc=2)\n",
    "\n",
    "ax2 = plt.twinx()\n",
    "sns.lineplot(x='Año', y='Change in Average CPI', data=data_df, color='r',\n",
    "             label='% Change in Average CPI', ax=ax2)\n",
    "ax2.set_ylim(-4,4)\n",
    "ax2.yaxis.set_major_formatter(ticker.FuncFormatter(lambda y, _: '{:.0%}'.format(y/100))) \n",
    "ax2.grid(False)\n",
    "ax2.legend(loc=1)"
   ]
  },
  {
   "cell_type": "code",
   "execution_count": null,
   "metadata": {},
   "outputs": [],
   "source": []
  }
 ],
 "metadata": {
  "kernelspec": {
   "display_name": "Python 3",
   "language": "python",
   "name": "python3"
  },
  "language_info": {
   "codemirror_mode": {
    "name": "ipython",
    "version": 3
   },
   "file_extension": ".py",
   "mimetype": "text/x-python",
   "name": "python",
   "nbconvert_exporter": "python",
   "pygments_lexer": "ipython3",
   "version": "3.7.3"
  }
 },
 "nbformat": 4,
 "nbformat_minor": 4
}
