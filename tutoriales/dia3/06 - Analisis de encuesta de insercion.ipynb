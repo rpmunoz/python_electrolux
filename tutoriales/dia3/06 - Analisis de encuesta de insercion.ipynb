{
 "cells": [
  {
   "cell_type": "markdown",
   "metadata": {},
   "source": [
    "# Análisis 2da Encuesta de inserción de científicos en Chile\n",
    "\n",
    "**Autor:** Roberto Muñoz <br />\n",
    "**E-mail:** <rmunoz@metricarts.com> <br />\n",
    "**Github:** <https://github.com/rpmunoz> <br />\n",
    "\n",
    "Análisis preliminar de la [2da Encuesta de inserción de científicos](https://anip.cl/wp-content/uploads/2018/07/Informe-encuesta-insercion-laboral-ANIP-2018.pdf) llevada a cabo por el Centro de estudios de la ANIP. "
   ]
  },
  {
   "cell_type": "code",
   "execution_count": null,
   "metadata": {
    "scrolled": true
   },
   "outputs": [],
   "source": [
    "import os\n",
    "import shutil\n",
    "import numpy as np\n",
    "import pandas as pd\n",
    "from scipy import stats, integrate\n",
    "\n",
    "import matplotlib.pyplot as plt\n",
    "import matplotlib.ticker as ticker\n",
    "import seaborn as sns\n",
    "from IPython.core.display import display, HTML\n",
    "\n",
    "%matplotlib inline\n",
    "params = {'legend.fontsize': 'large',\n",
    "          'figure.figsize': (8, 6),\n",
    "         'axes.labelsize': 'large',\n",
    "         'axes.titlesize':'large',\n",
    "         'xtick.labelsize':'large',\n",
    "         'ytick.labelsize':'large',\n",
    "         'axes.titlepad': 16,\n",
    "         'axes.titlesize': 20,\n",
    "         'axes.labelpad': 16,\n",
    "         'axes.labelsize': 16,\n",
    "         'lines.linewidth': 3,\n",
    "         'lines.markersize': 8,\n",
    "         'xtick.labelsize': 12,\n",
    "         'ytick.labelsize': 12}\n",
    "plt.rcParams.update(params)\n",
    "\n",
    "sns.despine()\n",
    "pd.set_option('display.max_columns', None)\n",
    "pd.set_option('max_colwidth', 100)"
   ]
  },
  {
   "cell_type": "code",
   "execution_count": null,
   "metadata": {},
   "outputs": [],
   "source": [
    "current_palette = sns.color_palette()\n",
    "sns.palplot(current_palette)"
   ]
  },
  {
   "cell_type": "code",
   "execution_count": null,
   "metadata": {},
   "outputs": [],
   "source": [
    "def autopct_generator(limit):\n",
    "    def inner_autopct(pct):\n",
    "        return ('%.1f%%' % pct) if pct > limit else ''\n",
    "    return inner_autopct"
   ]
  },
  {
   "cell_type": "markdown",
   "metadata": {},
   "source": [
    "## 1. Cargamos el nuevo archivo de datos\n",
    "\n",
    "Revisaremos los valores de algunos campos"
   ]
  },
  {
   "cell_type": "code",
   "execution_count": null,
   "metadata": {
    "scrolled": true
   },
   "outputs": [],
   "source": [
    "encuesta_clean_file=\"data/E2018-full-answers-clean.csv\"\n",
    "\n",
    "encuesta_full_df=pd.read_csv(encuesta_clean_file)\n",
    "encuesta_full_df.head()"
   ]
  },
  {
   "cell_type": "code",
   "execution_count": null,
   "metadata": {},
   "outputs": [],
   "source": [
    "len(encuesta_full_df)"
   ]
  },
  {
   "cell_type": "code",
   "execution_count": null,
   "metadata": {},
   "outputs": [],
   "source": [
    "encuesta_full_df.dtypes.to_frame().transpose()"
   ]
  },
  {
   "cell_type": "markdown",
   "metadata": {},
   "source": [
    "## 2. Análisis exploratorio"
   ]
  },
  {
   "cell_type": "code",
   "execution_count": null,
   "metadata": {
    "scrolled": true
   },
   "outputs": [],
   "source": [
    "field_names_full=['¿Cuál es el grado académico más alto que has obtenido?',\n",
    "                  '¿En qué año obtuviste tu pregrado?',\n",
    "                  '¿En qué disciplina y área clasificarías tu pregrado?',\n",
    "                  '¿En qué año obtuviste tu {postgrado}?',\n",
    "                  '¿En qué disciplina y área clasificarías tu {postgrado}?',\n",
    "                  '¿En qué lugar realizaste tu {postgrado}?',\n",
    "                  '¿Estás realizando o has realizado algún postdoctorado?',\n",
    "                  '¿En qué año terminaste tu postdoctorado? Si actuamente estás haciendo un postdoctorado, por favor responde \"Estoy haciendo un postdoctorado ahora\".',\n",
    "                  '¿En qué disciplina y área clasificarías tu postdoctorado?',\n",
    "                  '¿En qué lugar realizaste (o estás realizando) tu postdoctorado?',\n",
    "                  'En total, ¿cuántos artículos revisados por pares (peer-reviewed) has publicado en los últimos 5 años?',\n",
    "                  '¿Estás en Chile ahora?',\n",
    "                  'Actualmente, ¿tienes trabajo remunerado en Chile?',\n",
    "                  'Actualmente, ¿estás buscando trabajo?',\n",
    "                  '¿Crees que seguirás desempeñando este trabajo remunerado en julio de 2018?',\n",
    "                  '¿En qué institución o área realizas tu trabajo?',\n",
    "                  '¿A qué sector económico pertenece este trabajo?',\n",
    "                  '¿Qué tipo de relación laboral tienes en este trabajo?',\n",
    "                  'Respecto de tu trabajo, ¿qué tan satisfecho estás con...? [Tu estabilidad laboral]',\n",
    "                  'Respecto de tu trabajo, ¿qué tan satisfecho estás con...? [El reto intelectual que supone el trabajo]',\n",
    "                  '¿En qué región de Chile realizas este trabajo?',\n",
    "                  '¿Cuál es tu género?',\n",
    "                  '¿Cuál es tu edad?',\n",
    "                  '¿Cuál es tu nacionalidad? En caso de tener más de una nacionalidad, por favor escoge tu país de origen (donde naciste).',\n",
    "                  'Finalmente, ¿cuál es tu opinión sobre el sistema de ciencia y tecnología en Chile, y sobre el proceso de inserción de científicos en Chile?',\n",
    "                  '¿Has sufrido algún tipo de discriminación en tu(s) trabajo(s) como científico o científica? [No he sufrido discriminación]',\n",
    "                  '¿Has sufrido algún tipo de discriminación en tu(s) trabajo(s) como científico o científica? [Sí, discriminación de género]',\n",
    "                  '¿Has sufrido algún tipo de discriminación en tu(s) trabajo(s) como científico o científica? [Sí, discriminación por ser extranjero/a]',\n",
    "                  '¿Has sufrido algún tipo de discriminación en tu(s) trabajo(s) como científico o científica? [Sí, discriminación por tener discapacidad]',\n",
    "                  '¿Has sufrido algún tipo de discriminación en tu(s) trabajo(s) como científico o científica? [Sí, discriminación por tener hijos o hijas]',\n",
    "                  '¿Has sufrido algún tipo de discriminación en tu(s) trabajo(s) como científico o científica? [Sí, discriminación por estar sobrecalificado]',\n",
    "                  '¿Has sufrido algún tipo de discriminación en tu(s) trabajo(s) como científico o científica? [Otro]']\n",
    "\n",
    "field_names=['Grado académico',\n",
    "             'Año obtención pregrado',\n",
    "             'Area pregrado',\n",
    "             'Año obtención postgrado',\n",
    "             'Area postgrado',\n",
    "             'País postgrado',\n",
    "             'Postdoctorado',\n",
    "             \"Año postdoctorado\",\n",
    "             'Area postdoctorado',\n",
    "             'País postdoctorado',\n",
    "             'Número de papers',\n",
    "             'Estas en Chile',\n",
    "             'Tiene trabajo remunerado',\n",
    "             'Buscando trabajo',\n",
    "             'Permanencia trabajo',\n",
    "             'Sector empleo',\n",
    "             'Sector económico',\n",
    "             'Tipo de contrato',\n",
    "             'Estabilidad laboral',\n",
    "             'Reto intelectual',\n",
    "             'Region trabajo',\n",
    "             'Genero',\n",
    "             'Edad',\n",
    "             'Nacionalidad',\n",
    "             'Opinión sistema CTI',\n",
    "             'No he sufrido discriminación',\n",
    "             'Discriminación de género',\n",
    "             'Discriminación por ser extranjero/a',\n",
    "             'Discriminación por tener discapacidad',\n",
    "             'Discriminación por tener hijos/as',\n",
    "             'Discriminación por estar sobrecalificado',\n",
    "             'Discriminación otro']\n",
    "\n",
    "encuesta_df=encuesta_full_df[field_names_full].copy()\n",
    "encuesta_df.columns=field_names\n",
    "\n",
    "encuesta_df.head()"
   ]
  },
  {
   "cell_type": "markdown",
   "metadata": {},
   "source": [
    "Seleccionamos solo a las personas con grado académico de Doctorado"
   ]
  },
  {
   "cell_type": "code",
   "execution_count": null,
   "metadata": {},
   "outputs": [],
   "source": [
    "encuesta_df=encuesta_df[encuesta_df['Grado académico']=='Doctorado (PhD)']\n",
    "len(encuesta_df)"
   ]
  },
  {
   "cell_type": "code",
   "execution_count": null,
   "metadata": {
    "scrolled": true
   },
   "outputs": [],
   "source": [
    "for field_name in field_names:\n",
    "    if field_name != \"Opinión sistema CTI\":\n",
    "        print(\"Field: \", field_name)\n",
    "        print(encuesta_df[field_name].unique())"
   ]
  },
  {
   "cell_type": "markdown",
   "metadata": {},
   "source": [
    "Revisamos categorias del campo año de obtención de pregrado y postgrado"
   ]
  },
  {
   "cell_type": "code",
   "execution_count": null,
   "metadata": {},
   "outputs": [],
   "source": [
    "encuesta_df.loc[encuesta_df['Año obtención pregrado']=='Antes de 1990','Año obtención pregrado']=1990\n",
    "encuesta_df.loc[encuesta_df['Año obtención postgrado']=='Antes de 1990','Año obtención postgrado']=1990"
   ]
  },
  {
   "cell_type": "markdown",
   "metadata": {},
   "source": [
    "Revisamos los casos en que la persona reporta que obtuvo el postgrado dos años despues del pregrado"
   ]
  },
  {
   "cell_type": "code",
   "execution_count": null,
   "metadata": {},
   "outputs": [],
   "source": [
    "encuesta_df['Año obtención pregrado'] = encuesta_df['Año obtención pregrado'].astype(int)\n",
    "encuesta_df['Año obtención postgrado'] = encuesta_df['Año obtención postgrado'].astype(int)\n",
    "\n",
    "pregrado_incorrecto = (encuesta_df['Año obtención postgrado']-encuesta_df['Año obtención pregrado']) < 3\n",
    "print(\"Numero de pregrado incorrecto: \", len(encuesta_df[pregrado_incorrecto]))\n",
    "encuesta_df.loc[pregrado_incorrecto,'Año obtención pregrado'] = 0"
   ]
  },
  {
   "cell_type": "code",
   "execution_count": null,
   "metadata": {},
   "outputs": [],
   "source": [
    "encuesta_df['Año obtención pregrado'].unique()"
   ]
  },
  {
   "cell_type": "code",
   "execution_count": null,
   "metadata": {
    "scrolled": true
   },
   "outputs": [],
   "source": [
    "encuesta_df['Año postdoctorado'].unique()"
   ]
  },
  {
   "cell_type": "markdown",
   "metadata": {},
   "source": [
    "### Revisamos categorias del campo situación laboral"
   ]
  },
  {
   "cell_type": "code",
   "execution_count": null,
   "metadata": {},
   "outputs": [],
   "source": [
    "encuesta_df['Situacion laboral']=np.NaN\n",
    "encuesta_df.loc[encuesta_df['Tiene trabajo remunerado']=='Sí','Situacion laboral']='Ocupado'\n",
    "encuesta_df.loc[encuesta_df['Tiene trabajo remunerado']=='No','Situacion laboral']='Desempleado'\n",
    "encuesta_df.loc[(encuesta_df['Tiene trabajo remunerado']=='No') & (encuesta_df['Buscando trabajo']=='No'),'Situacion laboral']='Inactivo'"
   ]
  },
  {
   "cell_type": "code",
   "execution_count": null,
   "metadata": {
    "scrolled": true
   },
   "outputs": [],
   "source": [
    "encuesta_df.groupby('Situacion laboral').size()"
   ]
  },
  {
   "cell_type": "markdown",
   "metadata": {},
   "source": [
    "### Revisamos la discriminación en el empleo"
   ]
  },
  {
   "cell_type": "code",
   "execution_count": null,
   "metadata": {},
   "outputs": [],
   "source": [
    "encuesta_df['Discriminación']=np.NaN\n",
    "encuesta_df.loc[encuesta_df['No he sufrido discriminación']=='Sí','Discriminación']='No'\n",
    "\n",
    "encuesta_df.loc[encuesta_df['Discriminación de género']=='Sí','Discriminación']='Sí'\n",
    "encuesta_df.loc[encuesta_df['Discriminación por ser extranjero/a']=='Sí','Discriminación']='Sí'\n",
    "encuesta_df.loc[encuesta_df['Discriminación por tener discapacidad']=='Sí','Discriminación']='Sí'\n",
    "encuesta_df.loc[encuesta_df['Discriminación por tener hijos/as']=='Sí','Discriminación']='Sí'\n",
    "encuesta_df.loc[encuesta_df['Discriminación por estar sobrecalificado']=='Sí','Discriminación']='Sí'\n",
    "encuesta_df.loc[encuesta_df['Discriminación otro'].isnull() == False,'Discriminación']='Sí'"
   ]
  },
  {
   "cell_type": "code",
   "execution_count": null,
   "metadata": {},
   "outputs": [],
   "source": [
    "encuesta_df.groupby('Discriminación').size()"
   ]
  },
  {
   "cell_type": "markdown",
   "metadata": {},
   "source": [
    "## Análisis de Postdoctorado"
   ]
  },
  {
   "cell_type": "code",
   "execution_count": null,
   "metadata": {},
   "outputs": [],
   "source": [
    "encuesta_df['País postdoctorado'].unique()"
   ]
  },
  {
   "cell_type": "code",
   "execution_count": null,
   "metadata": {},
   "outputs": [],
   "source": [
    "encuesta_df['Año postdoctorado'].unique()"
   ]
  },
  {
   "cell_type": "code",
   "execution_count": null,
   "metadata": {},
   "outputs": [],
   "source": [
    "encuesta_df.groupby('Postdoctorado').size()"
   ]
  },
  {
   "cell_type": "code",
   "execution_count": null,
   "metadata": {},
   "outputs": [],
   "source": [
    "encuesta_df.groupby(['Postdoctorado',\"Genero\"]).size()"
   ]
  },
  {
   "cell_type": "code",
   "execution_count": null,
   "metadata": {},
   "outputs": [],
   "source": [
    "#encuesta_df.groupby(['Postdoctorado','Año obtención postgrado','Año postdoctorado']).size()\n",
    "encuesta_df.groupby(['Postdoctorado','Año obtención postgrado']).size()"
   ]
  },
  {
   "cell_type": "code",
   "execution_count": null,
   "metadata": {},
   "outputs": [],
   "source": [
    "encuesta_df.groupby(['Postdoctorado','Año obtención postgrado'])['Número de papers'].median()"
   ]
  },
  {
   "cell_type": "code",
   "execution_count": null,
   "metadata": {},
   "outputs": [],
   "source": [
    "encuesta_df.groupby(['Postdoctorado','Area postdoctorado']).size()#.sort_values()"
   ]
  },
  {
   "cell_type": "code",
   "execution_count": null,
   "metadata": {},
   "outputs": [],
   "source": [
    "encuesta_df.groupby(['Situacion laboral','Postdoctorado']).size()"
   ]
  },
  {
   "cell_type": "code",
   "execution_count": null,
   "metadata": {},
   "outputs": [],
   "source": [
    "pd.DataFrame(encuesta_df[encuesta_df['Año postdoctorado']=='Estoy haciendo un postdoctorado ahora'].groupby(['Situacion laboral','Postdoctorado']).size())"
   ]
  },
  {
   "cell_type": "code",
   "execution_count": null,
   "metadata": {
    "scrolled": true
   },
   "outputs": [],
   "source": [
    "pd.DataFrame(encuesta_df[encuesta_df['Año postdoctorado']=='Estoy haciendo un postdoctorado ahora'].groupby(['Situacion laboral','Postdoctorado','País postdoctorado']).size())"
   ]
  },
  {
   "cell_type": "markdown",
   "metadata": {},
   "source": [
    "Algunas personas indicaron estar haciendo un postdoctorado ahora, por lo cual están ocupados"
   ]
  },
  {
   "cell_type": "code",
   "execution_count": null,
   "metadata": {},
   "outputs": [],
   "source": [
    "encuesta_df.loc[encuesta_df['Año postdoctorado']=='Estoy haciendo un postdoctorado ahora','Situacion laboral']='Ocupado'"
   ]
  },
  {
   "cell_type": "code",
   "execution_count": null,
   "metadata": {},
   "outputs": [],
   "source": [
    "encuesta_df.groupby('Situacion laboral').size()"
   ]
  },
  {
   "cell_type": "markdown",
   "metadata": {},
   "source": [
    "Revisamos categorias del campo estabilidad laboral"
   ]
  },
  {
   "cell_type": "code",
   "execution_count": null,
   "metadata": {},
   "outputs": [],
   "source": [
    "encuesta_df.loc[encuesta_df['Estabilidad laboral']=='1 (Muy insatisfecho)','Estabilidad laboral']='1'\n",
    "encuesta_df.loc[encuesta_df['Estabilidad laboral']=='4 (Ni satisfecho ni insatisfecho)','Estabilidad laboral']='4'\n",
    "encuesta_df.loc[encuesta_df['Estabilidad laboral']=='7 (Muy satisfecho)','Estabilidad laboral']='7'"
   ]
  },
  {
   "cell_type": "markdown",
   "metadata": {},
   "source": [
    "Revisamos categorias del campo Reto intelectual"
   ]
  },
  {
   "cell_type": "code",
   "execution_count": null,
   "metadata": {},
   "outputs": [],
   "source": [
    "encuesta_df.loc[encuesta_df['Reto intelectual']=='1 (Muy insatisfecho)','Reto intelectual']='1'\n",
    "encuesta_df.loc[encuesta_df['Reto intelectual']=='4 (Ni satisfecho ni insatisfecho)','Reto intelectual']='4'\n",
    "encuesta_df.loc[encuesta_df['Reto intelectual']=='7 (Muy satisfecho)','Reto intelectual']='7'"
   ]
  },
  {
   "cell_type": "markdown",
   "metadata": {},
   "source": [
    "Acortamos el nombre de la categoría 'A honorarios (\"Boletear sin contrato\""
   ]
  },
  {
   "cell_type": "code",
   "execution_count": null,
   "metadata": {},
   "outputs": [],
   "source": [
    "encuesta_df.loc[encuesta_df['Tipo de contrato']=='A honorarios (\"Boletear sin contrato\")','Tipo de contrato']=\"Boletear sin contrato\"\n",
    "encuesta_df['Tipo de contrato'].unique()"
   ]
  },
  {
   "cell_type": "code",
   "execution_count": null,
   "metadata": {},
   "outputs": [],
   "source": []
  },
  {
   "cell_type": "markdown",
   "metadata": {},
   "source": [
    "### Corregir campo \"Estas en Chile\" para personas que obtuvieron postgrado o postdoc en Chile"
   ]
  },
  {
   "cell_type": "code",
   "execution_count": null,
   "metadata": {},
   "outputs": [],
   "source": [
    "encuesta_df.loc[encuesta_df[\"Estas en Chile\"].isnull(), \"Estas en Chile\"]=\"Postgrado en Chile\""
   ]
  },
  {
   "cell_type": "markdown",
   "metadata": {},
   "source": [
    "Agregamos la categoria inactivo al campo 'Tiene trabajo remunerado'. Es útil para identificar a personas que responden No en 'Buscando trabajo'"
   ]
  },
  {
   "cell_type": "code",
   "execution_count": null,
   "metadata": {},
   "outputs": [],
   "source": [
    "field_dtypes={'Grado académico':'category',\n",
    "              'Año obtención pregrado':int,\n",
    "              'Año obtención postgrado':int,\n",
    "              'Tiene trabajo remunerado':'category',\n",
    "              'Buscando trabajo':'category',\n",
    "              'Situacion laboral':'category',\n",
    "              'Tipo de contrato':'category',\n",
    "              'Permanencia trabajo':'category',\n",
    "              'Sector empleo':'category',\n",
    "              'Estabilidad laboral':'category',\n",
    "              'Reto intelectual':'category',\n",
    "              'Region trabajo':'category',\n",
    "              'Genero':'category',\n",
    "              'Edad':float,\n",
    "              'Nacionalidad':'category'}\n",
    "\n",
    "for name, dtype in field_dtypes.items():\n",
    "    encuesta_df[name] = encuesta_df[name].astype(dtype)\n",
    "    \n",
    "encuesta_df['Situacion laboral']=pd.Categorical(encuesta_df['Situacion laboral'], [\"Ocupado\", \"Desempleado\", \"Inactivo\"], ordered=True)\n",
    "encuesta_df['Permanencia trabajo']=pd.Categorical(encuesta_df['Permanencia trabajo'], [\"Sí\", \"No\", \"No estoy seguro(a)\"], ordered=True)"
   ]
  },
  {
   "cell_type": "code",
   "execution_count": null,
   "metadata": {},
   "outputs": [],
   "source": [
    "len(encuesta_df)"
   ]
  },
  {
   "cell_type": "markdown",
   "metadata": {},
   "source": [
    "# 2.1 Análisis demográfico"
   ]
  },
  {
   "cell_type": "code",
   "execution_count": null,
   "metadata": {},
   "outputs": [],
   "source": [
    "encuesta_df.groupby('Genero').size()"
   ]
  },
  {
   "cell_type": "code",
   "execution_count": null,
   "metadata": {},
   "outputs": [],
   "source": [
    "age_bins=[0, 34, 44, 54, 64, 69]\n",
    "age_labels=['< 35 años', '35-44 años', '45-54 años', '55-64 años', '65-69 años']\n",
    "encuesta_df['Grupo etario']=pd.cut(encuesta_df['Edad'], age_bins, labels=age_labels)\n",
    "\n",
    "data_plot=encuesta_df.groupby('Genero')['Grupo etario'].value_counts().unstack('Genero')\n",
    "data_plot=data_plot.reindex(age_labels)\n",
    "data_plot"
   ]
  },
  {
   "cell_type": "code",
   "execution_count": null,
   "metadata": {},
   "outputs": [],
   "source": [
    "data_plot.sum().sum()"
   ]
  },
  {
   "cell_type": "code",
   "execution_count": null,
   "metadata": {},
   "outputs": [],
   "source": [
    "data_plot_pct=(100*data_plot/data_plot.sum().sum()).round(1)\n",
    "data_plot_pct"
   ]
  },
  {
   "cell_type": "code",
   "execution_count": null,
   "metadata": {},
   "outputs": [],
   "source": [
    "data_plot_pct.sum(axis=0)"
   ]
  },
  {
   "cell_type": "code",
   "execution_count": null,
   "metadata": {},
   "outputs": [],
   "source": [
    "data_plot_pct.sum(axis=1)"
   ]
  },
  {
   "cell_type": "code",
   "execution_count": null,
   "metadata": {},
   "outputs": [],
   "source": [
    "plot_classes=[\"Masculino\",\"Femenino\"]\n",
    "\n",
    "fig, ax = plt.subplots(1,1, figsize=(12,6))\n",
    "data_plot_pct[plot_classes].plot(kind='bar', ax=ax,\n",
    "               fontsize=12, rot=0, width=0.8)\n",
    "\n",
    "ax.spines['right'].set_visible(False)\n",
    "ax.spines['top'].set_visible(False)\n",
    "ax.legend(frameon=False)\n",
    "\n",
    "ax.set_ylim(0,40)\n",
    "ax.set_xlabel('Edad')\n",
    "plt.title(\"Distribución de grupos etarios\\nProfesionales con grado de Doctorado\")\n",
    "\n",
    "vals = ax.get_yticks()\n",
    "ax.set_yticklabels(['{:3.0f}%'.format(x) for x in vals])\n",
    "\n",
    "for p in ax.patches:\n",
    "    ax.annotate(\"{:.1f}%\".format(p.get_height()), (p.get_x() + 0.2, p.get_height() + 1),\n",
    "               fontsize=12, horizontalalignment='center')\n",
    "\n",
    "plt.savefig('figures/doctorado/figura_1_distribucion_grupo_etario.png', bbox_inches='tight')\n",
    "plt.savefig('figures/doctorado/figura_1_distribucion_grupo_etario.pdf', bbox_inches='tight')"
   ]
  },
  {
   "cell_type": "markdown",
   "metadata": {},
   "source": [
    "## 4.2 Año obtención de pregrado"
   ]
  },
  {
   "cell_type": "code",
   "execution_count": null,
   "metadata": {},
   "outputs": [],
   "source": [
    "data_plot=pd.DataFrame(encuesta_df.groupby('Año obtención pregrado').size(), columns=['Número de egresados'])\n",
    "data_plot=data_plot[data_plot.index > 0]\n",
    "data_plot.head()"
   ]
  },
  {
   "cell_type": "code",
   "execution_count": null,
   "metadata": {},
   "outputs": [],
   "source": [
    "data_plot.sum()"
   ]
  },
  {
   "cell_type": "code",
   "execution_count": null,
   "metadata": {},
   "outputs": [],
   "source": [
    "data_plot['Percentage']=(100*data_plot/data_plot.sum().sum()).round(2)\n",
    "data_plot"
   ]
  },
  {
   "cell_type": "code",
   "execution_count": null,
   "metadata": {},
   "outputs": [],
   "source": [
    "data_plot['CumSum']=data_plot['Percentage'].cumsum()\n",
    "data_plot"
   ]
  },
  {
   "cell_type": "code",
   "execution_count": null,
   "metadata": {},
   "outputs": [],
   "source": [
    "data_plot['CumSum']"
   ]
  },
  {
   "cell_type": "code",
   "execution_count": null,
   "metadata": {},
   "outputs": [],
   "source": [
    "print(data_plot.loc[2007:,'Percentage'].sum())\n",
    "print(data_plot.loc[2007:,\"Número de egresados\"].sum())\n",
    "\n",
    "print(\"Total de doctores que reportan año pregrado: \", data_plot[\"Número de egresados\"].sum())"
   ]
  },
  {
   "cell_type": "code",
   "execution_count": null,
   "metadata": {},
   "outputs": [],
   "source": [
    "encuesta_df[encuesta_df['Año obtención pregrado']>0]['Año obtención pregrado'].median()"
   ]
  },
  {
   "cell_type": "code",
   "execution_count": null,
   "metadata": {},
   "outputs": [],
   "source": [
    "quartile_bins=[0, 25, 50, 75, 101]\n",
    "quartile_labels=['q1', 'q2', 'q3', 'q4']\n",
    "data_plot['Quartile']=pd.cut(data_plot['CumSum'], quartile_bins, labels=quartile_labels)\n",
    "data_plot.head()"
   ]
  },
  {
   "cell_type": "code",
   "execution_count": null,
   "metadata": {},
   "outputs": [],
   "source": [
    "colors = {'q1':current_palette[0],'q2':current_palette[1],'q3':current_palette[2],'q4':current_palette[3]}\n",
    "data_plot['color'] = data_plot['Quartile'].map(colors)\n",
    "data_plot.head()"
   ]
  },
  {
   "cell_type": "code",
   "execution_count": null,
   "metadata": {},
   "outputs": [],
   "source": [
    "plot_field=\"Número de egresados\"\n",
    "\n",
    "fig, ax = plt.subplots(1,1, figsize=(8,12))\n",
    "data_plot[plot_field].plot(kind='barh', ax=ax,\n",
    "               fontsize=12, rot=0, width=0.8, color=data_plot['color'])\n",
    "\n",
    "ax.spines['left'].set_visible(False)\n",
    "ax.spines['right'].set_visible(False)\n",
    "ax.spines['top'].set_visible(False)\n",
    "\n",
    "ax.set_xlim(0,90)\n",
    "ax.set_xlabel('Número de egresados')\n",
    "plt.title(\"Año de obtención del pregrado\\nProfesionales con grado de Doctorado\")\n",
    "\n",
    "for p in ax.patches:\n",
    "    ax.annotate(\"{:d}\".format(p.get_width()), (p.get_width() + 2, p.get_y()+0.3),\n",
    "               fontsize=14, horizontalalignment='left', verticalalignment='center')\n",
    "   \n",
    "plt.savefig('figures/doctorado/figura_2_año_obtencion_pregrado.png', bbox_inches='tight')\n",
    "plt.savefig('figures/doctorado/figura_2_año_obtencion_pregrado.pdf', bbox_inches='tight')"
   ]
  },
  {
   "cell_type": "code",
   "execution_count": null,
   "metadata": {},
   "outputs": [],
   "source": [
    "#encuesta_df.style.set_properties(subset=['Opinión sistema CTI'], **{'width': '300px'})\n",
    "#encuesta_df[encuesta_df['Año obtención pregrado']==2017]"
   ]
  },
  {
   "cell_type": "code",
   "execution_count": null,
   "metadata": {},
   "outputs": [],
   "source": [
    "#encuesta_df[(encuesta_df['Año obtención postgrado']-encuesta_df['Año obtención pregrado']) < 3]"
   ]
  },
  {
   "cell_type": "markdown",
   "metadata": {},
   "source": [
    "## 4.2 Año obtención de postgrado"
   ]
  },
  {
   "cell_type": "code",
   "execution_count": null,
   "metadata": {},
   "outputs": [],
   "source": [
    "data_plot=pd.DataFrame(encuesta_df.groupby('Año obtención postgrado').size(), columns=['Número de egresados'])\n",
    "data_plot.head()"
   ]
  },
  {
   "cell_type": "code",
   "execution_count": null,
   "metadata": {},
   "outputs": [],
   "source": [
    "data_plot['Percentage']=(100*data_plot/data_plot.sum().sum()).round(2)\n",
    "data_plot.head()"
   ]
  },
  {
   "cell_type": "code",
   "execution_count": null,
   "metadata": {},
   "outputs": [],
   "source": [
    "data_plot['CumSum']=data_plot['Percentage'].cumsum()\n",
    "data_plot.head()"
   ]
  },
  {
   "cell_type": "code",
   "execution_count": null,
   "metadata": {},
   "outputs": [],
   "source": [
    "quartile_bins=[0, 25, 50, 75, 101]\n",
    "quartile_labels=['q1', 'q2', 'q3', 'q4']\n",
    "data_plot['Quartile']=pd.cut(data_plot['CumSum'], quartile_bins, labels=quartile_labels)\n",
    "data_plot.head()"
   ]
  },
  {
   "cell_type": "code",
   "execution_count": null,
   "metadata": {},
   "outputs": [],
   "source": [
    "colors = {'q1':current_palette[0],'q2':current_palette[1],'q3':current_palette[2],'q4':current_palette[3]}\n",
    "data_plot['color'] = data_plot['Quartile'].map(colors)\n",
    "data_plot.head()"
   ]
  },
  {
   "cell_type": "code",
   "execution_count": null,
   "metadata": {},
   "outputs": [],
   "source": [
    "plot_field=\"Número de egresados\"\n",
    "\n",
    "fig, ax = plt.subplots(1,1, figsize=(8,12))\n",
    "data_plot[plot_field].plot(kind='barh', ax=ax,\n",
    "               fontsize=12, rot=0, width=0.8, color=data_plot['color'])\n",
    "\n",
    "ax.spines['left'].set_visible(False)\n",
    "ax.spines['right'].set_visible(False)\n",
    "ax.spines['top'].set_visible(False)\n",
    "\n",
    "ax.set_xlim(0,100)\n",
    "ax.set_xlabel('Número de egresados')\n",
    "plt.title(\"Año de obtención del Doctorado\")\n",
    "\n",
    "for p in ax.patches:\n",
    "    ax.annotate(\"{:d}\".format(p.get_width()), (p.get_width() + 2, p.get_y()+0.3),\n",
    "               fontsize=14, horizontalalignment='left', verticalalignment='center')\n",
    "\n",
    "plt.savefig('figures/doctorado/figura_3_año_obtencion_postgrado.png', bbox_inches='tight')\n",
    "plt.savefig('figures/doctorado/figura_3_año_obtencion_postgrado.pdf', bbox_inches='tight')"
   ]
  },
  {
   "cell_type": "markdown",
   "metadata": {},
   "source": [
    "## 4.3 Situación laboral"
   ]
  },
  {
   "cell_type": "code",
   "execution_count": null,
   "metadata": {},
   "outputs": [],
   "source": [
    "data_plot=encuesta_df.groupby('Genero')['Situacion laboral'].value_counts().unstack('Genero')\n",
    "data_plot=data_plot.reindex(['Ocupado','Desempleado','Inactivo'])\n",
    "data_plot"
   ]
  },
  {
   "cell_type": "code",
   "execution_count": null,
   "metadata": {},
   "outputs": [],
   "source": [
    "data_plot.sum().sum()"
   ]
  },
  {
   "cell_type": "code",
   "execution_count": null,
   "metadata": {},
   "outputs": [],
   "source": [
    "data_plot_pct=(100*data_plot/data_plot.sum()).round(1)\n",
    "data_plot_pct.head()"
   ]
  },
  {
   "cell_type": "code",
   "execution_count": null,
   "metadata": {},
   "outputs": [],
   "source": [
    "plot_classes=[\"Masculino\",\"Femenino\"]\n",
    "\n",
    "fig, ax = plt.subplots(1,1, figsize=(12,6))\n",
    "data_plot_pct[plot_classes].plot(kind='bar', ax=ax,\n",
    "               fontsize=12, rot=0, width=0.8)\n",
    "\n",
    "ax.spines['right'].set_visible(False)\n",
    "ax.spines['top'].set_visible(False)\n",
    "ax.legend(frameon=False)\n",
    "\n",
    "ax.set_ylim(0,100)\n",
    "ax.set_xlabel('Situación laboral')\n",
    "plt.title(\"Situación laboral por género\\nProfesionales con grado de Doctor\")\n",
    "\n",
    "vals = ax.get_yticks()\n",
    "ax.set_yticklabels(['{:3.0f}%'.format(x) for x in vals])\n",
    "\n",
    "for p in ax.patches:\n",
    "    ax.annotate(\"{:.1f}%\".format(p.get_height()), (p.get_x() + 0.2, p.get_height() + 4),\n",
    "               fontsize=12, horizontalalignment='center')\n",
    "\n",
    "plt.savefig('figures/doctorado/figura_4_situacion_laboral_genero.png', bbox_inches='tight')\n",
    "plt.savefig('figures/doctorado/figura_4_situacion_laboral_genero.pdf', bbox_inches='tight')"
   ]
  },
  {
   "cell_type": "code",
   "execution_count": null,
   "metadata": {},
   "outputs": [],
   "source": [
    "data_plot=encuesta_df[(encuesta_df['Situacion laboral']==\"Desempleado\") & (encuesta_df['Genero']==\"Femenino\")]\n",
    "data_plot\n",
    "pd.DataFrame(data_plot.groupby([\"País postgrado\",\"Estas en Chile\",\"Area postgrado\",\"Postdoctorado\"]).size())\n",
    "pd.DataFrame(data_plot.groupby([\"País postgrado\",\"Postdoctorado\"]).size(), columns=[\"Nº desocupados\"])"
   ]
  },
  {
   "cell_type": "code",
   "execution_count": null,
   "metadata": {},
   "outputs": [],
   "source": [
    "pd.DataFrame(encuesta_df.groupby([\"Situacion laboral\",\"Area postgrado\"]).size()).sort_values([\"Situacion laboral\",0], ascending=False)\n",
    "encuesta_df[encuesta_df[\"Area postgrado\"]==\"Ciencias Naturales:Ciencias Biológicas\"].groupby([\"Situacion laboral\",\"Area postgrado\"]).size()"
   ]
  },
  {
   "cell_type": "markdown",
   "metadata": {},
   "source": [
    "## Repetimos análisis pero sin separar por género"
   ]
  },
  {
   "cell_type": "code",
   "execution_count": null,
   "metadata": {},
   "outputs": [],
   "source": [
    "data_plot=encuesta_df.groupby('Situacion laboral').size()\n",
    "data_plot=data_plot.reindex(['Ocupado','Desempleado','Inactivo'])\n",
    "data_plot"
   ]
  },
  {
   "cell_type": "code",
   "execution_count": null,
   "metadata": {},
   "outputs": [],
   "source": [
    "data_plot_pct=(100*data_plot/data_plot.sum()).round(1)\n",
    "data_plot_pct.head()"
   ]
  },
  {
   "cell_type": "code",
   "execution_count": null,
   "metadata": {
    "scrolled": true
   },
   "outputs": [],
   "source": [
    "fig, ax = plt.subplots(1,1, figsize=(12,6))\n",
    "data_plot_pct.plot(kind='bar', ax=ax,\n",
    "               fontsize=12, rot=0, width=0.8)\n",
    "\n",
    "ax.spines['right'].set_visible(False)\n",
    "ax.spines['top'].set_visible(False)\n",
    "#ax.legend(frameon=False)\n",
    "\n",
    "ax.set_ylim(0,100)\n",
    "ax.set_xlabel('Situación laboral')\n",
    "plt.title(\"Situación laboral\\nProfesionales con grado de Doctor\")\n",
    "\n",
    "vals = ax.get_yticks()\n",
    "ax.set_yticklabels(['{:3.0f}%'.format(x) for x in vals])\n",
    "\n",
    "for p in ax.patches:\n",
    "    ax.annotate(\"{:.1f}%\".format(p.get_height()), (p.get_x() + 0.4, p.get_height() + 4),\n",
    "               fontsize=12, horizontalalignment='center')\n",
    "\n",
    "plt.savefig('figures/doctorado/figura_4_situacion_laboral.png', bbox_inches='tight')\n",
    "plt.savefig('figures/doctorado/figura_4_situacion_laboral.pdf', bbox_inches='tight')"
   ]
  },
  {
   "cell_type": "markdown",
   "metadata": {},
   "source": [
    "## Analisis por area de postgrado y situacion laboral"
   ]
  },
  {
   "cell_type": "code",
   "execution_count": null,
   "metadata": {},
   "outputs": [],
   "source": [
    "encuesta_df.groupby(\"Area postgrado\").size().sort_values(ascending=False)"
   ]
  },
  {
   "cell_type": "markdown",
   "metadata": {},
   "source": [
    "## 4.3 Región trabajo"
   ]
  },
  {
   "cell_type": "code",
   "execution_count": null,
   "metadata": {},
   "outputs": [],
   "source": [
    "import pandas as pd\n",
    "import geopandas as gpd\n",
    "\n",
    "import seaborn as sns\n",
    "sns.set(font='DejaVu Sans', context='poster', palette='viridis')\n",
    "%config InlineBackend.figure_format='retina'"
   ]
  },
  {
   "cell_type": "markdown",
   "metadata": {},
   "source": [
    "## Funciones Auxiliares\n",
    "\n",
    "Éstos son los métodos que utilizaremos para generar los mapas.\n",
    "\n",
    "Primero, utilizo una función que viene en la biblioteca [geopandas](http://geopandas.org/index.html), pero que debí modificar para incorporar una opción adicional de partición de datos. El código original está [aquí](https://github.com/geopandas/geopandas/blob/master/geopandas/plotting.py)."
   ]
  },
  {
   "cell_type": "code",
   "execution_count": null,
   "metadata": {},
   "outputs": [],
   "source": [
    "# from geopandas\n",
    "def __pysal_choro(values, scheme, k=5):\n",
    "    \"\"\"\n",
    "    Wrapper for choropleth schemes from PySAL for use with plot_dataframe\n",
    "    Parameters\n",
    "    ----------\n",
    "    values\n",
    "        Series to be plotted\n",
    "    scheme : str\n",
    "        One of pysal.esda.mapclassify classification schemes\n",
    "        Options are 'Equal_interval', 'Quantiles', 'Fisher_Jenks'\n",
    "    k : int\n",
    "        number of classes (2 <= k <=9)\n",
    "    Returns\n",
    "    -------\n",
    "    binning\n",
    "        Binning objects that holds the Series with values replaced with\n",
    "        class identifier and the bins.\n",
    "    \"\"\"\n",
    "    try:\n",
    "        from pysal.esda.mapclassify import (\n",
    "            Quantiles, Equal_Interval, Fisher_Jenks, User_Defined)\n",
    "        schemes = {}\n",
    "        schemes['equal_interval'] = Equal_Interval\n",
    "        schemes['quantiles'] = Quantiles\n",
    "        schemes['fisher_jenks'] = Fisher_Jenks\n",
    "        schemes['user_defined'] = User_Defined\n",
    "        scheme = scheme.lower()\n",
    "        if scheme not in schemes:\n",
    "            raise ValueError(\"Invalid scheme. Scheme must be in the\"\n",
    "                             \" set: %r\" % schemes.keys())\n",
    "        binning = schemes[scheme](values, k)\n",
    "        return binning\n",
    "    except ImportError:\n",
    "        raise ImportError(\"PySAL is required to use the 'scheme' keyword\")\n"
   ]
  },
  {
   "cell_type": "markdown",
   "metadata": {},
   "source": [
    "Aquí defino la función `choropleth` que toma los datos y genera los mapas. Está un poco fea porque es una función de uso interno, que espero algún día retocar lo suficiente como para convertir en una biblioteca que sirva a otres.\n",
    "\n",
    "Por supuesto, esto incluye código de otras fuentes también. De la misma `geopandas` hasta un código auxiliar para la escala de colores que encontré aquí: [Fix your matplotlib colorbars!](http://joseph-long.com/writing/colorbars/)."
   ]
  },
  {
   "cell_type": "code",
   "execution_count": null,
   "metadata": {},
   "outputs": [],
   "source": [
    "import numpy as np\n",
    "import matplotlib.ticker as ticker\n",
    "from matplotlib.collections import PatchCollection\n",
    "from matplotlib.colors import from_levels_and_colors\n",
    "from matplotlib.patches import Polygon, Patch\n",
    "from mpl_toolkits.axes_grid1 import make_axes_locatable\n",
    "\n",
    "def feature_to_patch(s):\n",
    "    s_arr = np.array(s.exterior.xy).T\n",
    "    return Polygon(s_arr, closed=False)\n",
    "\n",
    "def label_cbrt(x, pos):\n",
    "    return \"{:0.1f}%\".format(np.cbrt(x))\n",
    "\n",
    "def colorbar(fig, ax, collection, orientation='vertical', percent=3, **cbar_kws):\n",
    "    divider = make_axes_locatable(ax)\n",
    "    position = 'left' if orientation == 'vertical' else 'bottom'\n",
    "    label = cbar_kws.pop('label', None)\n",
    "    #cax = divider.append_axes(position, size=\"{}%\".format(percent), pad=0.05)\n",
    "    \n",
    "    bbox = ax.get_position()\n",
    "    cax = fig.add_axes([bbox.xmin, bbox.ymin+bbox.height*0.3, bbox.width*0.03, bbox.height*0.4]) \n",
    "    cbar = fig.colorbar(collection, cax=cax, orientation=orientation, format='%3.0f%%', **cbar_kws)\n",
    "    \n",
    "    cbar.set_label(label, weight='normal', size=18)\n",
    "    cbar.ax.tick_params(labelsize=18)\n",
    "\n",
    "    return cbar\n",
    "\n",
    "def choropleth(geodf, figsize=12, column=None, scheme='fisher_jenks', \n",
    "                   user_bins=None,\n",
    "                   n_colors=5, palette='viridis', alpha=0.75, cbar_orientation='vertical',\n",
    "                   img_interpolation='hanning', cbar_fig_position=None, cbar_label=None, z=None, cbar_kws=None,\n",
    "                   title=None):\n",
    "        \n",
    "    bounds = geodf.total_bounds\n",
    "    aspect = (bounds[2] - bounds[0]) / (bounds[3] - bounds[1])\n",
    "    fig, ax = plt.subplots(1,1, figsize=(figsize, figsize / aspect))\n",
    "\n",
    "    ax.set_xlim(bounds[0], bounds[2])\n",
    "    ax.set_ylim(bounds[1], bounds[3])\n",
    "    ax.set_aspect(1)\n",
    "    ax.set_title(title)\n",
    "    \n",
    "    plt.axis('off')\n",
    "    \n",
    "    cbar_kws = cbar_kws if cbar_kws else {}\n",
    "    \n",
    "    choro = []\n",
    "    patch_values = []\n",
    "        \n",
    "    for idx, row in geodf.iterrows():\n",
    "        feature = row.geometry\n",
    "        value = row[column]\n",
    "\n",
    "        if feature.geom_type == 'Polygon':\n",
    "            choro.append(feature_to_patch(feature))\n",
    "            patch_values.append(value)\n",
    "        elif feature.geom_type == 'MultiPolygon':\n",
    "            for subfeature in feature:\n",
    "                choro.append(feature_to_patch(subfeature))\n",
    "                patch_values.append(value)\n",
    "        else:\n",
    "            continue\n",
    "\n",
    "    binning = __pysal_choro(geodf[column], scheme=scheme, k=n_colors if scheme != 'user_defined' else user_bins)\n",
    "    if scheme != 'user_defined':\n",
    "        bins = np.insert(binning.bins, 0, geodf[column].min())\n",
    "    else:\n",
    "        bins = binning.bins\n",
    "\n",
    "    palette_values = sns.color_palette(palette, n_colors=n_colors)\n",
    "    cmap, norm = from_levels_and_colors(bins, palette_values, extend='neither')\n",
    "    cmap.set_over(palette_values[-1], alpha=alpha)\n",
    "\n",
    "    collection = PatchCollection(choro, linewidth=1, edgecolor='white', alpha=alpha, cmap=cmap, norm=norm)    \n",
    "    collection.set_array(np.array(patch_values))\n",
    "\n",
    "    cbar_label = cbar_label if cbar_label is not None else column\n",
    "\n",
    "    cbar_kws = dict(label=cbar_label, ticks=bins)\n",
    "    colorbar(fig, ax, collection, orientation=cbar_orientation, **cbar_kws)        \n",
    "        \n",
    "    ax.add_collection(collection)\n",
    "    plt.tight_layout()\n"
   ]
  },
  {
   "cell_type": "code",
   "execution_count": null,
   "metadata": {},
   "outputs": [],
   "source": [
    "encuesta_df[\"Region trabajo\"] = encuesta_df[\"Region trabajo\"].astype('category')\n",
    "list(encuesta_df[\"Region trabajo\"].unique())"
   ]
  },
  {
   "cell_type": "code",
   "execution_count": null,
   "metadata": {},
   "outputs": [],
   "source": [
    "mapeo_regiones = {'X de los Lagos':'Región de Los Lagos',\n",
    "                'VIII del Bío Bío':'Región del Bío-Bío',\n",
    "                'XIII Metropolitana de Santiago':'Región Metropolitana de Santiago',\n",
    "                'V de Valparaíso':'Región de Valparaíso',\n",
    "                'VII del Maule':'Región del Maule',\n",
    "                \"VI del Libertador General Bernardo O'Higgins\":\"Región del Libertador Bernardo O'Higgins\",\n",
    "                'IX de la Araucanía':'Región de La Araucanía',\n",
    "                'XIV de los Ríos':'Región de Los Ríos',\n",
    "                'I de Tarapacá':'Región de Tarapacá',\n",
    "                'IV de Coquimbo':'Región de Coquimbo',\n",
    "                'III de Atacama':'Región de Atacama',\n",
    "                'XII de Magallanes y Antártica Chilena':'Región de Magallanes y Antártica Chilena',\n",
    "                'XI Aisén del General Carlos Ibáñez del Campo':'Región de Aysén del Gral.Ibañez del Campo',\n",
    "                'XV de Arica y Parinacota':'Región de Arica y Parinacota',\n",
    "                'II de Antofagasta':'Región de Antofagasta'}\n",
    "\n",
    "encuesta_df = encuesta_df.replace({'Region trabajo': mapeo_regiones})"
   ]
  },
  {
   "cell_type": "code",
   "execution_count": null,
   "metadata": {},
   "outputs": [],
   "source": [
    "data_encuesta=encuesta_df.groupby('Region trabajo').size().sort_values(ascending=False)\n",
    "data_encuesta=pd.DataFrame(data_encuesta, columns=[\"Profesionales\"]).reset_index()\n",
    "data_encuesta['Profesionales_%']=data_encuesta['Profesionales']*100./data_encuesta['Profesionales'].sum()\n",
    "data_encuesta"
   ]
  },
  {
   "cell_type": "code",
   "execution_count": null,
   "metadata": {},
   "outputs": [],
   "source": [
    "data_geopandas_regiones = (gpd.read_file('data/bcn/division_regional/', crs={'init': 'epsg:5361'})\n",
    "               .to_crs({'init': 'epsg:4326'}))"
   ]
  },
  {
   "cell_type": "code",
   "execution_count": null,
   "metadata": {},
   "outputs": [],
   "source": [
    "fig, ax = plt.subplots(1,1, figsize=(6,18))\n",
    "\n",
    "ax.axis('off')\n",
    "ax.set_xlim(-78,-62)\n",
    "\n",
    "data_geopandas_regiones.plot(ax=ax, color=current_palette[0], edgecolor='white')"
   ]
  },
  {
   "cell_type": "code",
   "execution_count": null,
   "metadata": {},
   "outputs": [],
   "source": [
    "data_geopandas_encuesta = data_geopandas_regiones.merge(data_encuesta, how='inner', left_on='NOM_REG', right_on='Region trabajo')\n",
    "data_geopandas_encuesta.head()"
   ]
  },
  {
   "cell_type": "code",
   "execution_count": null,
   "metadata": {},
   "outputs": [],
   "source": [
    "choropleth(data_geopandas_encuesta, column='Profesionales_%', figsize=6, alpha=1.0, cbar_orientation='vertical',\n",
    "           cbar_label='Porcentaje de investigadores con doctorado', title=\"Distribución geográfica\\nProfesionales con grado de Doctorado\",)\n",
    "\n",
    "plt.savefig('figures/doctorado/figura_9_distribucion_regional.png', dpi=72, bbox_inches='tight')\n"
   ]
  },
  {
   "cell_type": "code",
   "execution_count": null,
   "metadata": {},
   "outputs": [],
   "source": []
  },
  {
   "cell_type": "code",
   "execution_count": null,
   "metadata": {},
   "outputs": [],
   "source": []
  },
  {
   "cell_type": "code",
   "execution_count": null,
   "metadata": {},
   "outputs": [],
   "source": [
    "regiones_chile.head()"
   ]
  },
  {
   "cell_type": "code",
   "execution_count": null,
   "metadata": {},
   "outputs": [],
   "source": []
  },
  {
   "cell_type": "code",
   "execution_count": null,
   "metadata": {},
   "outputs": [],
   "source": []
  },
  {
   "cell_type": "code",
   "execution_count": null,
   "metadata": {},
   "outputs": [],
   "source": []
  },
  {
   "cell_type": "code",
   "execution_count": null,
   "metadata": {},
   "outputs": [],
   "source": [
    "import vincent\n",
    "\n",
    "vincent.core.initialize_notebook()\n",
    "state_topo = \"data/us_states.topo.json\"\n",
    "geo_data = [{'name': 'states',\n",
    "             'url': state_topo,\n",
    "             'feature': 'us_states.geo'}]\n",
    "\n",
    "vis = vincent.Map(geo_data = geo_data, scale = 500, projection = 'albersUsa')\n",
    "vis.to_json('vega.json')\n",
    "vis.display()"
   ]
  },
  {
   "cell_type": "code",
   "execution_count": null,
   "metadata": {},
   "outputs": [],
   "source": [
    "import bokeh.plotting as bkp\n",
    "import bokeh.models as bkm"
   ]
  },
  {
   "cell_type": "code",
   "execution_count": null,
   "metadata": {},
   "outputs": [],
   "source": [
    "filename = \"/Users/rmunoz/Downloads/insercion_regiones_chile.html\"\n",
    "tools = \"pan,wheel_zoom,box_zoom,reset,previewsave\"\n",
    "\n",
    "with open(\"data/world-countries.json\", \"r\") as f:\n",
    "    countries = bkm.GeoJSONDataSource(geojson=f.read())\n",
    "\n",
    "p = bkp.figure(width=1000, height=600, tools=tools, title='World Countries', x_axis_label='Longitude', y_axis_label='Latitude')\n",
    "p.background_fill_color = \"aqua\"\n",
    "p.x_range = bkm.Range1d(start=-180, end=180)\n",
    "p.y_range = bkm.Range1d(start=-90, end=90)\n",
    "p.patches(\"xs\", \"ys\", color=\"white\", line_color=\"black\", source=countries)\n",
    "\n",
    "bkp.output_file(filename)\n",
    "bkp.save(p, filename)"
   ]
  },
  {
   "cell_type": "code",
   "execution_count": null,
   "metadata": {},
   "outputs": [],
   "source": [
    "import json,pandas\n",
    "from collections import OrderedDict\n",
    "from bokeh.plotting import figure, show, output_file, ColumnDataSource\n",
    "from bokeh.models import HoverTool\n",
    "import math"
   ]
  },
  {
   "cell_type": "code",
   "execution_count": null,
   "metadata": {},
   "outputs": [],
   "source": [
    "#user_by_country_count = pandas.read_csv('data.csv')\n",
    "\n",
    "with open('data/countries.json','r') as f:\n",
    "    geodata = json.load(f)\n",
    "\n",
    "geodata_features = geodata['features']\n",
    "country_xs = []\n",
    "country_ys = []\n",
    "country_names = []\n",
    "country_num_users = []\n",
    "country_colors = []\n",
    "colors = ['#CCE5FF','#CCCCFF','#9999FF','#6666FF','#3333FF',\n",
    "         '#0000FF','#0000CC','#000099','#000066','#0000CC']\n",
    "\n",
    "for aCountry in geodata_features:\n",
    "    cName = aCountry['properties']['name']\n",
    "    country_names.append(cName)\n",
    "\n",
    "    geometry_type = aCountry['geometry']['type']\n",
    "    if geometry_type == \"MultiPolygon\":\n",
    "        for poly_coords in aCountry['geometry']['coordinates']:\n",
    "            coords = poly_coords[0]\n",
    "\n",
    "            country_xs.append(map(lambda x:x[0],coords))\n",
    "            country_ys.append(map(lambda x:x[1],coords))\n",
    "    else:\n",
    "        coords = aCountry['geometry']['coordinates'][0]\n",
    "        country_xs.append(map(lambda x:x[0],coords))\n",
    "        country_ys.append(map(lambda x:x[1],coords))\n",
    "\n",
    "    '''\n",
    "    if cName in user_by_country_count['Country'].values:\n",
    "        num_users = user_by_country_count['Count'][user_by_country_count[user_by_country_count.Country==cName].index[0]]\n",
    "        country_num_users.append(num_users)\n",
    "        country_colors.append(colors[int(math.log(num_users))])\n",
    "    else:\n",
    "        country_num_users.append(0)\n",
    "        country_colors.append(\"#00FF80\")\n",
    "    '''\n",
    "    country_num_users.append(0)\n",
    "    country_colors.append(\"#00FF80\")\n",
    "\n",
    "source = ColumnDataSource(\n",
    "    data = dict(\n",
    "        x=country_xs,\n",
    "        y=country_ys,\n",
    "        color=country_colors,\n",
    "        name=country_names,\n",
    "        users=country_num_users,\n",
    "    )\n",
    ")\n",
    "\n",
    "output_file(\"global.html\", title=\"global.py example\")\n",
    "TOOLS=\"pan,wheel_zoom,box_zoom,reset,hover,save\"\n",
    "p = figure(title=\"Upwork Users Location\", tools=TOOLS)\n",
    "p.patches('x', 'y',\n",
    "    fill_color='color', fill_alpha=0.7,\n",
    "    line_color=\"white\", line_width=0.5,\n",
    "    source=source)\n",
    "hover = p.select(dict(type=HoverTool))\n",
    "hover.point_policy = \"follow_mouse\"\n",
    "hover.tooltips = OrderedDict([\n",
    "    (\"Name\", \"@name\"),\n",
    "    (\"Number of Users\", \"@users\"),\n",
    "])\n",
    "show(p)"
   ]
  },
  {
   "cell_type": "code",
   "execution_count": null,
   "metadata": {},
   "outputs": [],
   "source": []
  },
  {
   "cell_type": "code",
   "execution_count": null,
   "metadata": {},
   "outputs": [],
   "source": []
  },
  {
   "cell_type": "code",
   "execution_count": null,
   "metadata": {},
   "outputs": [],
   "source": []
  },
  {
   "cell_type": "markdown",
   "metadata": {},
   "source": [
    "## Análisis permanencia en el trabajo"
   ]
  },
  {
   "cell_type": "code",
   "execution_count": null,
   "metadata": {},
   "outputs": [],
   "source": [
    "data_plot=encuesta_df.groupby('Permanencia trabajo').size()\n",
    "data_plot"
   ]
  },
  {
   "cell_type": "code",
   "execution_count": null,
   "metadata": {},
   "outputs": [],
   "source": [
    "data_plot.sum()"
   ]
  },
  {
   "cell_type": "code",
   "execution_count": null,
   "metadata": {},
   "outputs": [],
   "source": [
    "data_plot_pct=(100*data_plot/data_plot.sum()).round(1)\n",
    "data_plot_pct.head()"
   ]
  },
  {
   "cell_type": "code",
   "execution_count": null,
   "metadata": {
    "scrolled": true
   },
   "outputs": [],
   "source": [
    "fig, ax = plt.subplots(1,1, figsize=(12,6))\n",
    "data_plot_pct.plot(kind='bar', ax=ax,\n",
    "               fontsize=12, rot=0, width=0.8)\n",
    "\n",
    "ax.spines['right'].set_visible(False)\n",
    "ax.spines['top'].set_visible(False)\n",
    "#ax.legend(frameon=False)\n",
    "\n",
    "ax.set_ylim(0,100)\n",
    "ax.set_xlabel('Respuesta')\n",
    "plt.title(\"¿Crees que seguirás desempeñando\\neste trabajo remunerado en julio de 2018?\\nProfesionales con grado de Doctorado\")\n",
    "\n",
    "vals = ax.get_yticks()\n",
    "ax.set_yticklabels(['{:3.0f}%'.format(x) for x in vals])\n",
    "\n",
    "for p in ax.patches:\n",
    "    ax.annotate(\"{:.1f}%\".format(p.get_height()), (p.get_x() + 0.4, p.get_height() + 4),\n",
    "               fontsize=12, horizontalalignment='center')\n",
    "\n",
    "plt.savefig('figures/doctorado/figura_6_permanencia_laboral.png', bbox_inches='tight')\n",
    "plt.savefig('figures/doctorado/figura_6_permanencia_laboral.pdf', bbox_inches='tight')"
   ]
  },
  {
   "cell_type": "markdown",
   "metadata": {},
   "source": [
    "## Empleo por sector laboral"
   ]
  },
  {
   "cell_type": "code",
   "execution_count": null,
   "metadata": {},
   "outputs": [],
   "source": [
    "data_plot=encuesta_df.groupby('Sector empleo').size().sort_values(ascending=False)\n",
    "data_plot"
   ]
  },
  {
   "cell_type": "code",
   "execution_count": null,
   "metadata": {},
   "outputs": [],
   "source": [
    "data_plot.sum()"
   ]
  },
  {
   "cell_type": "code",
   "execution_count": null,
   "metadata": {},
   "outputs": [],
   "source": [
    "data_plot_pct=(100*data_plot/data_plot.sum()).round(1)\n",
    "data_plot_pct"
   ]
  },
  {
   "cell_type": "code",
   "execution_count": null,
   "metadata": {},
   "outputs": [],
   "source": [
    "fig, ax = plt.subplots(1,1, figsize=(8,12))\n",
    "data_plot_pct.plot(kind='barh', ax=ax,\n",
    "               fontsize=12, rot=0, width=0.8)\n",
    "\n",
    "ax.spines['right'].set_visible(False)\n",
    "ax.spines['top'].set_visible(False)\n",
    "#ax.legend(frameon=False)\n",
    "\n",
    "ax.set_xlim(0,60)\n",
    "ax.set_ylabel('Sector de empleo')\n",
    "plt.title(\"Sector de empleo profesional\\nProfesionales con grado de Doctorado\")\n",
    "\n",
    "vals = ax.get_xticks()\n",
    "ax.set_xticklabels(['{:3.0f}%'.format(x) for x in vals])\n",
    "\n",
    "for p in ax.patches:\n",
    "    ax.annotate(\"{:.1f}%\".format(p.get_width()), (p.get_width() + 2, p.get_y()+0.3),\n",
    "               fontsize=14, horizontalalignment='left', verticalalignment='center')\n",
    "\n",
    "plt.gca().invert_yaxis() \n",
    "plt.savefig('figures/doctorado/figura_5_sector_empleo.png', bbox_inches='tight')\n",
    "plt.savefig('figures/doctorado/figura_5_sector_empleo.pdf', bbox_inches='tight')"
   ]
  },
  {
   "cell_type": "code",
   "execution_count": null,
   "metadata": {},
   "outputs": [],
   "source": []
  },
  {
   "cell_type": "markdown",
   "metadata": {},
   "source": [
    "## Tipos de contratos"
   ]
  },
  {
   "cell_type": "code",
   "execution_count": null,
   "metadata": {},
   "outputs": [],
   "source": [
    "data_plot=encuesta_df.groupby('Tipo de contrato').size().sort_values(ascending=False)\n",
    "data_plot"
   ]
  },
  {
   "cell_type": "code",
   "execution_count": null,
   "metadata": {},
   "outputs": [],
   "source": [
    "data_plot.sum()"
   ]
  },
  {
   "cell_type": "code",
   "execution_count": null,
   "metadata": {},
   "outputs": [],
   "source": [
    "data_plot_pct=(100*data_plot/data_plot.sum()).round(1)\n",
    "data_plot_pct.head()"
   ]
  },
  {
   "cell_type": "code",
   "execution_count": null,
   "metadata": {},
   "outputs": [],
   "source": [
    "fig, ax = plt.subplots(1,1, figsize=(8,12))\n",
    "data_plot_pct.plot(kind='barh', ax=ax,\n",
    "               fontsize=12, rot=0, width=0.8)\n",
    "\n",
    "ax.spines['right'].set_visible(False)\n",
    "ax.spines['top'].set_visible(False)\n",
    "#ax.legend(frameon=False)\n",
    "\n",
    "ax.set_xlim(0,50)\n",
    "ax.set_ylabel('Tipo de contrato')\n",
    "plt.title(\"Situación contractual\\nProfesionales con grado de Doctorado\")\n",
    "\n",
    "vals = ax.get_xticks()\n",
    "ax.set_xticklabels(['{:3.0f}%'.format(x) for x in vals])\n",
    "\n",
    "for p in ax.patches:\n",
    "    ax.annotate(\"{:.1f}%\".format(p.get_width()), (p.get_width() + 2, p.get_y()+0.3),\n",
    "               fontsize=14, horizontalalignment='left', verticalalignment='center')\n",
    "\n",
    "plt.gca().invert_yaxis()\n",
    "plt.savefig('figures/doctorado/figura_7_situacion_contractual.png', bbox_inches='tight')\n",
    "plt.savefig('figures/doctorado/figura_7_situacion_contractual.pdf', bbox_inches='tight')"
   ]
  },
  {
   "cell_type": "markdown",
   "metadata": {},
   "source": [
    "## Análisis de discriminación"
   ]
  },
  {
   "cell_type": "code",
   "execution_count": null,
   "metadata": {},
   "outputs": [],
   "source": [
    "data_plot=encuesta_df.groupby('Discriminación').size()\n",
    "data_plot"
   ]
  },
  {
   "cell_type": "code",
   "execution_count": null,
   "metadata": {},
   "outputs": [],
   "source": [
    "data_plot_pct=(100*data_plot/data_plot.sum()).round(1)\n",
    "data_plot_pct.head()"
   ]
  },
  {
   "cell_type": "code",
   "execution_count": null,
   "metadata": {},
   "outputs": [],
   "source": [
    "fig, ax = plt.subplots(1,1, figsize=(12,6))\n",
    "data_plot_pct.plot(kind='bar', ax=ax,\n",
    "               fontsize=12, rot=0, width=0.8)\n",
    "\n",
    "ax.spines['right'].set_visible(False)\n",
    "ax.spines['top'].set_visible(False)\n",
    "#ax.legend(frameon=False)\n",
    "\n",
    "ax.set_ylim(0,100)\n",
    "ax.set_xlabel('¿Has sufrido algún tipo de discriminación?')\n",
    "plt.title(\"Discriminación en el trabajo\\nProfesionales con grado de Doctorado\")\n",
    "\n",
    "vals = ax.get_yticks()\n",
    "ax.set_yticklabels(['{:3.0f}%'.format(x) for x in vals])\n",
    "\n",
    "for p in ax.patches:\n",
    "    ax.annotate(\"{:.1f}%\".format(p.get_height()), (p.get_x() + 0.4, p.get_height() + 4),\n",
    "               fontsize=12, horizontalalignment='center')\n",
    "\n",
    "plt.savefig('figures/doctorado/figura_8_situacion_laboral.png', bbox_inches='tight')\n",
    "plt.savefig('figures/doctorado/figura_8_situacion_laboral.pdf', bbox_inches='tight')"
   ]
  },
  {
   "cell_type": "code",
   "execution_count": null,
   "metadata": {},
   "outputs": [],
   "source": []
  },
  {
   "cell_type": "code",
   "execution_count": null,
   "metadata": {},
   "outputs": [],
   "source": []
  },
  {
   "cell_type": "code",
   "execution_count": null,
   "metadata": {},
   "outputs": [],
   "source": []
  },
  {
   "cell_type": "markdown",
   "metadata": {},
   "source": [
    "# OLD"
   ]
  },
  {
   "cell_type": "code",
   "execution_count": null,
   "metadata": {},
   "outputs": [],
   "source": [
    "data_plot=encuesta_df.groupby('Grado académico')['Sector empleo'].value_counts().unstack('Grado académico').sort_values(by='Doctorado (PhD)', ascending=False)\n",
    "data_plot"
   ]
  },
  {
   "cell_type": "code",
   "execution_count": null,
   "metadata": {},
   "outputs": [],
   "source": [
    "fig, ax = plt.subplots(n_row,n_col, figsize=(8,8))\n",
    "\n",
    "data_plot.plot(kind='pie', ax=ax, autopct=autopct_generator(3), labels=['']*len(data_plot.index),\n",
    "               pctdistance=0.8, labeldistance=1.2,\n",
    "               startangle=90, counterclock=False,\n",
    "               fontsize=14, subplots=True)\n",
    "                                                \n",
    "plt.legend(labels=data_plot.index, loc='center right',\n",
    "           bbox_to_anchor=(1.5,0.5), labelspacing=2,\n",
    "           frameon=False)\n",
    "\n",
    "ax.set_title('Sector de empleo principal', fontsize=20)\n",
    "ax.legend(labels=data_plot.index, loc='center right',\n",
    "           bbox_to_anchor=(1.5,0.5), labelspacing=2,\n",
    "           frameon=False)\n",
    "    \n",
    "plt.figtext(0.1, 0.1, '* Basado en la $2^{a}$ encuesta de inserción de investigadores científicos - ANIP 2018', horizontalalignment='left', size=14)\n",
    "\n",
    "plt.savefig('figures/doctorado/figura_5_sector_empleo.png', bbox_inches='tight')\n",
    "plt.savefig('figures/doctorado/figura_5_sector_empleo.pdf', bbox_inches='tight')"
   ]
  },
  {
   "cell_type": "markdown",
   "metadata": {},
   "source": [
    "## 4.3 Tipos de contratos por sector"
   ]
  },
  {
   "cell_type": "code",
   "execution_count": null,
   "metadata": {},
   "outputs": [],
   "source": [
    "data_plot=encuesta_df.groupby(['Grado académico','Sector empleo'])['Tipo de contrato'].value_counts().unstack(['Grado académico','Sector empleo'])#.sort_values(by='Doctorado (PhD)', ascending=False)\n",
    "data_plot"
   ]
  },
  {
   "cell_type": "code",
   "execution_count": null,
   "metadata": {},
   "outputs": [],
   "source": [
    "n_row=int(len(data_plot.columns))\n",
    "n_col=1\n",
    "\n",
    "fig, axarr = plt.subplots(n_row,n_col, figsize=(8*n_col,(8+1)*n_row))\n",
    "data_plot.plot(kind='pie', ax=axarr,\n",
    "               autopct=autopct_generator(3), labels=['']*len(data_plot.index),\n",
    "               pctdistance=0.8, labeldistance=1.2,\n",
    "               startangle=90, counterclock=False,\n",
    "               fontsize=14, subplots=True)\n",
    "\n",
    "#ax. title('Sector de empleo principal', fontsize=20)\n",
    "for ax in axarr.reshape(-1):\n",
    "    ax.set_title('Tipo de contrato', fontsize=20)\n",
    "    ax.legend(labels=data_plot.index, loc='center right',\n",
    "               bbox_to_anchor=(1.6,0.5), labelspacing=2,\n",
    "               frameon=False)\n",
    "\n",
    "plt.figtext(0.1, 0.1, '* Resultados basados en la $2^{a}$ encuesta de inserción de investigadores científicos - ANIP 2018', horizontalalignment='left')\n",
    "\n",
    "plt.savefig('figures/figura_3_tipo_de_contrato.jpg', bbox_inches='tight')\n",
    "plt.savefig('figures/figura_3_tipo_de_contrato.pdf', bbox_inches='tight')"
   ]
  },
  {
   "cell_type": "code",
   "execution_count": null,
   "metadata": {},
   "outputs": [],
   "source": [
    "data_plot=encuesta_df.groupby(['Grado académico','Sector empleo'])['Tipo de contrato'].value_counts().unstack(['Grado académico','Sector empleo'])#.sort_values(by='Doctorado (PhD)', ascending=False)\n",
    "data_plot=data_plot.loc[:,(slice(None),'Universidad pública/tradicional')]"
   ]
  },
  {
   "cell_type": "code",
   "execution_count": null,
   "metadata": {},
   "outputs": [],
   "source": [
    "n_row=int(len(data_plot.columns))\n",
    "n_col=1\n",
    "\n",
    "fig, axarr = plt.subplots(n_row,n_col, figsize=(8*n_col,(8+1)*n_row))\n",
    "data_plot.plot(kind='pie', ax=axarr,\n",
    "               autopct=autopct_generator(3), labels=['']*len(data_plot.index),\n",
    "               pctdistance=0.8, labeldistance=1.2,\n",
    "               startangle=90, counterclock=False,\n",
    "               fontsize=14, subplots=True)\n",
    "\n",
    "#ax. title('Sector de empleo principal', fontsize=20)\n",
    "for ax in axarr.reshape(-1):\n",
    "    ax.set_title('Tipo de contrato', fontsize=20)\n",
    "    ax.legend(labels=data_plot.index, loc='center right',\n",
    "               bbox_to_anchor=(1.6,0.5), labelspacing=2,\n",
    "               frameon=False)\n",
    "\n",
    "plt.figtext(0.1, 0.1, '* Resultados basados en la $2^{a}$ encuesta de inserción de investigadores científicos - ANIP 2018', horizontalalignment='left')\n",
    "\n",
    "plt.savefig('figures/figura_4_tipo_de_contrato_Universidad.jpg', bbox_inches='tight')\n",
    "plt.savefig('figures/figura_4_tipo_de_contrato_Universidad.pdf', bbox_inches='tight')"
   ]
  },
  {
   "cell_type": "markdown",
   "metadata": {},
   "source": [
    "# 4.4 Análisis calidad trabajo"
   ]
  },
  {
   "cell_type": "code",
   "execution_count": null,
   "metadata": {},
   "outputs": [],
   "source": [
    "data_plot=encuesta_df.groupby('Grado académico')['Estabilidad laboral'].value_counts().unstack('Grado académico')\n",
    "data_plot"
   ]
  },
  {
   "cell_type": "code",
   "execution_count": null,
   "metadata": {},
   "outputs": [],
   "source": [
    "n_row=int(len(data_plot.columns))\n",
    "n_col=1\n",
    "\n",
    "fig, axarr = plt.subplots(n_row,n_col, figsize=(8*n_col,6*n_row))\n",
    "data_plot.plot(kind='bar', ax=axarr, rot=0,\n",
    "               fontsize=14, subplots=True)\n",
    "\n",
    "plt.subplots_adjust(hspace=0.4)\n",
    "plt.figtext(0.1, 0.05, '* Resultados basados en la $2^{a}$ encuesta de inserción de investigadores científicos - ANIP 2018', horizontalalignment='left')\n",
    "\n",
    "for ax in axarr.reshape(-1):\n",
    "    ax.set_title('Estabilidad laboral', fontsize=20)\n",
    "    ax.set_xlabel('Grado de satisfacción. Mayor es mejor.')\n",
    "\n",
    "plt.savefig('figures/figura_5_estabilidad_laboral.jpg', bbox_inches='tight')\n",
    "plt.savefig('figures/figura_5_estabilidad_laboral.pdf', bbox_inches='tight')"
   ]
  },
  {
   "cell_type": "code",
   "execution_count": null,
   "metadata": {},
   "outputs": [],
   "source": [
    "data_plot=encuesta_df.groupby('Grado académico')['Reto intelectual'].value_counts().unstack('Grado académico')\n",
    "data_plot"
   ]
  },
  {
   "cell_type": "code",
   "execution_count": null,
   "metadata": {},
   "outputs": [],
   "source": [
    "n_row=int(len(data_plot.columns))\n",
    "n_col=1\n",
    "\n",
    "fig, axarr = plt.subplots(n_row,n_col, figsize=(8*n_col,6*n_row))\n",
    "data_plot.plot(kind='bar', ax=axarr, rot=0,\n",
    "               fontsize=14, subplots=True)\n",
    "\n",
    "plt.subplots_adjust(hspace=0.4)\n",
    "plt.figtext(0.1, 0.05, '* Resultados basados en la $2^{a}$ encuesta de inserción de investigadores científicos - ANIP 2018', horizontalalignment='left')\n",
    "\n",
    "for ax in axarr.reshape(-1):\n",
    "    ax.set_title('Reto intelectual', fontsize=20)\n",
    "    ax.set_xlabel('Grado de satisfacción. Mayor es mejor.')\n",
    "\n",
    "plt.savefig('figures/figura_6_reto_intelectual.jpg', bbox_inches='tight')\n",
    "plt.savefig('figures/figura_6_reto_intelectual.pdf', bbox_inches='tight')"
   ]
  },
  {
   "cell_type": "code",
   "execution_count": null,
   "metadata": {},
   "outputs": [],
   "source": []
  },
  {
   "cell_type": "code",
   "execution_count": null,
   "metadata": {},
   "outputs": [],
   "source": []
  },
  {
   "cell_type": "code",
   "execution_count": null,
   "metadata": {},
   "outputs": [],
   "source": []
  },
  {
   "cell_type": "markdown",
   "metadata": {},
   "source": [
    "# OLD"
   ]
  },
  {
   "cell_type": "code",
   "execution_count": null,
   "metadata": {
    "scrolled": true
   },
   "outputs": [],
   "source": [
    "for field_name in field_names:\n",
    "    encuesta_full_df[field_name] = encuesta_full_df[field_name].fillna(field_fillna[field_name]).astype(field_dtypes[field_name])"
   ]
  },
  {
   "cell_type": "code",
   "execution_count": null,
   "metadata": {
    "scrolled": true
   },
   "outputs": [],
   "source": [
    "\n",
    "for key, value in dtypes_new.items():\n",
    "    encuesta_full_df[key] = encuesta_full_df[key].astype(value)\n",
    "\n",
    "#encuesta_full_df=encuesta_full_df.infer_objects()\n",
    "#encuesta_full_df['Genero'] = encuesta_full_df.astype('str')"
   ]
  },
  {
   "cell_type": "code",
   "execution_count": null,
   "metadata": {},
   "outputs": [],
   "source": [
    "field_dtypes={'Genero':str, 'Edad':int, 'Nacionalidad':str}\n",
    "field_fillna={'Genero':'', 'Edad':0, 'Nacionalidad':''}\n",
    "\n",
    "\n"
   ]
  }
 ],
 "metadata": {
  "kernelspec": {
   "display_name": "Python 3",
   "language": "python",
   "name": "python3"
  },
  "language_info": {
   "codemirror_mode": {
    "name": "ipython",
    "version": 3
   },
   "file_extension": ".py",
   "mimetype": "text/x-python",
   "name": "python",
   "nbconvert_exporter": "python",
   "pygments_lexer": "ipython3",
   "version": "3.7.3"
  }
 },
 "nbformat": 4,
 "nbformat_minor": 4
}
