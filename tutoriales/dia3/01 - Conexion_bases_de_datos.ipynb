{
 "cells": [
  {
   "cell_type": "markdown",
   "metadata": {},
   "source": [
    "# Conexión a Bases de datos\n",
    "\n",
    "**Autor:** Roberto Muñoz <br />\n",
    "**E-mail:** <rmunoz@metricarts.com> <br />\n",
    "**Github:** <https://github.com/rpmunoz> <br />\n",
    "\n",
    "\n",
    "- Instalar el conector de MySQL para python\n",
    "\n",
    "    `!pip install mysql-connector-python`\n",
    "    \n",
    "- Crear usuario en DB y dar permisos de lectura\n",
    "\n",
    " `GRANT SELECT ON chile.* TO 'user'@'%' IDENTIFIED BY 'metric2019';`\n",
    " \n",
    " `GRANT SELECT ON censo_2017.* TO 'user'@'%' IDENTIFIED BY 'metric2019';`\n",
    " \n",
    " `GRANT SELECT ON chile.* TO 'user'@'localhost' IDENTIFIED BY 'metric2019';`"
   ]
  },
  {
   "cell_type": "code",
   "execution_count": null,
   "metadata": {},
   "outputs": [],
   "source": [
    "#!pip install mysql-connector-python"
   ]
  },
  {
   "cell_type": "code",
   "execution_count": null,
   "metadata": {},
   "outputs": [],
   "source": [
    "import numpy as np\n",
    "import pandas as pd\n",
    "import mysql.connector as sql"
   ]
  },
  {
   "cell_type": "markdown",
   "metadata": {},
   "source": [
    "# Análisis de división geográfica en Chile"
   ]
  },
  {
   "cell_type": "code",
   "execution_count": null,
   "metadata": {},
   "outputs": [],
   "source": [
    "# Database args\n",
    "db_user = 'user@tallerpython'\n",
    "db_passwd = 'metric2019'\n",
    "db_host = 'tallerpython.mysql.database.azure.com'\n",
    "db_name = 'chile'"
   ]
  },
  {
   "cell_type": "code",
   "execution_count": null,
   "metadata": {},
   "outputs": [],
   "source": [
    "cnx = sql.connect(user=db_user, password=db_passwd, host=db_host, database=db_name)"
   ]
  },
  {
   "cell_type": "markdown",
   "metadata": {},
   "source": [
    "Usando el cursor de SQL. Ojo que antes de cerrar el cursor tenemos que realizar las operaciones de lectura que necesitemos."
   ]
  },
  {
   "cell_type": "code",
   "execution_count": null,
   "metadata": {},
   "outputs": [],
   "source": [
    "query= \"SHOW TABLES;\"\n",
    "\n",
    "cursor = cnx.cursor(buffered=True)\n",
    "cursor.execute(query)\n",
    "\n",
    "for el in cursor:\n",
    "    print(el)\n",
    "\n",
    "cursor.close()"
   ]
  },
  {
   "cell_type": "markdown",
   "metadata": {},
   "source": [
    "Usando el método read_sql de Pandas"
   ]
  },
  {
   "cell_type": "code",
   "execution_count": null,
   "metadata": {},
   "outputs": [],
   "source": [
    "query= \"SHOW TABLES;\"\n",
    "tablas=pd.read_sql(query, con=cnx)\n",
    "tablas"
   ]
  },
  {
   "cell_type": "markdown",
   "metadata": {},
   "source": [
    "Hagamos un select en la tabla regiones"
   ]
  },
  {
   "cell_type": "code",
   "execution_count": null,
   "metadata": {},
   "outputs": [],
   "source": [
    "query= \"SELECT * from regiones;\"\n",
    "regiones=pd.read_sql(query, con=cnx)\n",
    "regiones"
   ]
  },
  {
   "cell_type": "markdown",
   "metadata": {},
   "source": [
    "La siguiente consulta está parametrizada. Fíjese cómo se declaran los parámetros dentro de la cadena de la consulta, y cómo después se ingresan, en el comando read_sql de Pandas."
   ]
  },
  {
   "cell_type": "code",
   "execution_count": null,
   "metadata": {},
   "outputs": [],
   "source": [
    "query= \"SELECT * from regiones WHERE region_id BETWEEN %s and %s;\"\n",
    "regiones=pd.read_sql(query, params=(2,8), con=cnx)\n",
    "regiones.head()"
   ]
  },
  {
   "cell_type": "markdown",
   "metadata": {},
   "source": [
    "Como verá en la siguiente consulta, estamos utilizando cosas aprendidas en los tutoriales anteriores. Estamos armando dinámicamente la cadena que respresenta una consulta. Específicamente, utilizamos una lista con id's de regiones que nos interesan, lo convertimos a un objeto `array` de numpy (np.array), después aplicamos la función `map` para aplicar la función `str` al array, y finalmente, concatenamos los resultados con el caracter \",\". **Todo en una línea**.\n",
    "¿En cuantas líneas podría hacer esto en Java?"
   ]
  },
  {
   "cell_type": "code",
   "execution_count": null,
   "metadata": {},
   "outputs": [],
   "source": [
    "','.join([\"Hola\",\"Mundo\",\"Como\",\"Estan\"])"
   ]
  },
  {
   "cell_type": "code",
   "execution_count": null,
   "metadata": {},
   "outputs": [],
   "source": [
    "region_ids=[5,8,10]\n",
    "query_region= ', '.join(map(str, np.array(region_ids)))\n",
    "query_region"
   ]
  },
  {
   "cell_type": "code",
   "execution_count": null,
   "metadata": {},
   "outputs": [],
   "source": [
    "region_ids=[5,8,10]\n",
    "\n",
    "query= \"SELECT * from regiones WHERE region_id IN (\"\n",
    "query_region= ', '.join(map(str, np.array(region_ids)))\n",
    "query= query + query_region + \");\"\n",
    "print(query)\n",
    "\n",
    "regiones=pd.read_sql(query, con=cnx)\n",
    "regiones"
   ]
  },
  {
   "cell_type": "markdown",
   "metadata": {},
   "source": [
    "## Uso de pandas.merge()"
   ]
  },
  {
   "cell_type": "code",
   "execution_count": null,
   "metadata": {},
   "outputs": [],
   "source": [
    "query= \"SELECT * from regiones;\"\n",
    "regiones=pd.read_sql(query, con=cnx)\n",
    "regiones"
   ]
  },
  {
   "cell_type": "code",
   "execution_count": null,
   "metadata": {},
   "outputs": [],
   "source": [
    "query= \"SELECT * from provincias;\"\n",
    "provincias=pd.read_sql(query, con=cnx)\n",
    "provincias.head()"
   ]
  },
  {
   "cell_type": "code",
   "execution_count": null,
   "metadata": {},
   "outputs": [],
   "source": [
    "query= \"SELECT * from comunas;\"\n",
    "comunas=pd.read_sql(query, con=cnx)\n",
    "comunas.head()"
   ]
  },
  {
   "cell_type": "code",
   "execution_count": null,
   "metadata": {},
   "outputs": [],
   "source": [
    "regiones_provincias=pd.merge(regiones, provincias, how='outer')\n",
    "regiones_provincias.head()"
   ]
  },
  {
   "cell_type": "markdown",
   "metadata": {},
   "source": [
    "Cerramos la conexión al servidor de MySQL."
   ]
  },
  {
   "cell_type": "code",
   "execution_count": null,
   "metadata": {},
   "outputs": [],
   "source": [
    "cnx.close()"
   ]
  },
  {
   "cell_type": "markdown",
   "metadata": {},
   "source": [
    "# Análisis los datos del Censo 2017"
   ]
  },
  {
   "cell_type": "code",
   "execution_count": null,
   "metadata": {},
   "outputs": [],
   "source": [
    "# Database args\n",
    "db_user = 'user@tallerpython'\n",
    "db_passwd = 'metric2019'\n",
    "db_host = 'tallerpython.mysql.database.azure.com'\n",
    "db_name = 'censo_2017'"
   ]
  },
  {
   "cell_type": "code",
   "execution_count": null,
   "metadata": {},
   "outputs": [],
   "source": [
    "cnx = sql.connect(user=db_user, password=db_passwd, host=db_host, database=db_name)"
   ]
  },
  {
   "cell_type": "code",
   "execution_count": null,
   "metadata": {},
   "outputs": [],
   "source": [
    "query= \"SHOW TABLES;\"\n",
    "tablas=pd.read_sql(query, con=cnx)\n",
    "tablas"
   ]
  },
  {
   "cell_type": "code",
   "execution_count": null,
   "metadata": {},
   "outputs": [],
   "source": [
    "query= \"DESCRIBE comunas;\"\n",
    "censo_describe=pd.read_sql(query, con=cnx)\n",
    "censo_describe"
   ]
  },
  {
   "cell_type": "code",
   "execution_count": null,
   "metadata": {},
   "outputs": [],
   "source": [
    "query= \"SELECT count(*) from comunas;\"\n",
    "censo_count=pd.read_sql(query, con=cnx)\n",
    "censo_count.head()"
   ]
  },
  {
   "cell_type": "code",
   "execution_count": null,
   "metadata": {},
   "outputs": [],
   "source": [
    "query= \"SELECT * from comunas;\"\n",
    "censo_df = pd.read_sql(query, con=cnx)\n",
    "censo_df.head()"
   ]
  },
  {
   "cell_type": "markdown",
   "metadata": {},
   "source": [
    "### Sumamos la poblacion en Chile por sexo"
   ]
  },
  {
   "cell_type": "code",
   "execution_count": null,
   "metadata": {},
   "outputs": [],
   "source": [
    "censo_df['hombres'].sum()"
   ]
  },
  {
   "cell_type": "code",
   "execution_count": null,
   "metadata": {},
   "outputs": [],
   "source": [
    "censo_df['mujeres'].sum()"
   ]
  },
  {
   "cell_type": "code",
   "execution_count": null,
   "metadata": {},
   "outputs": [],
   "source": []
  },
  {
   "cell_type": "markdown",
   "metadata": {},
   "source": [
    "### Extraemos la poblacion de la region metropolitana"
   ]
  },
  {
   "cell_type": "code",
   "execution_count": null,
   "metadata": {},
   "outputs": [],
   "source": [
    "censo_df['nombre region'].unique()"
   ]
  },
  {
   "cell_type": "code",
   "execution_count": null,
   "metadata": {},
   "outputs": [],
   "source": [
    "censo_rm_df = censo_df[censo_df['nombre region'] == 'metropolitana de santiago']\n",
    "censo_rm_df.head()"
   ]
  },
  {
   "cell_type": "markdown",
   "metadata": {},
   "source": [
    "Cerramos la conexión al servidor de MySQL. **¡¡No olvide hacer esto!!**"
   ]
  },
  {
   "cell_type": "code",
   "execution_count": null,
   "metadata": {},
   "outputs": [],
   "source": [
    "cnx.close()"
   ]
  },
  {
   "cell_type": "markdown",
   "metadata": {},
   "source": [
    "## Ejercicios\n",
    "\n",
    "### 1. ¿Cuáles son las 5 comunas de la Región metropolitana con mayor nñumero de habitantes?\n",
    "\n",
    "### 2. ¿Cuál es la región de Chile con el mayor porcentaje de población rural?\n",
    "\n"
   ]
  },
  {
   "cell_type": "code",
   "execution_count": null,
   "metadata": {},
   "outputs": [],
   "source": []
  },
  {
   "cell_type": "code",
   "execution_count": null,
   "metadata": {},
   "outputs": [],
   "source": []
  },
  {
   "cell_type": "code",
   "execution_count": null,
   "metadata": {},
   "outputs": [],
   "source": []
  }
 ],
 "metadata": {
  "kernelspec": {
   "display_name": "Python 3",
   "language": "python",
   "name": "python3"
  },
  "language_info": {
   "codemirror_mode": {
    "name": "ipython",
    "version": 3
   },
   "file_extension": ".py",
   "mimetype": "text/x-python",
   "name": "python",
   "nbconvert_exporter": "python",
   "pygments_lexer": "ipython3",
   "version": "3.7.3"
  }
 },
 "nbformat": 4,
 "nbformat_minor": 4
}
