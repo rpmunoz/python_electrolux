{
 "cells": [
  {
   "cell_type": "markdown",
   "metadata": {},
   "source": [
    "# Introducción a Pandas\n",
    "\n",
    "**Autor:** Roberto Muñoz <br />\n",
    "**E-mail:** <rmunoz@metricarts.com> <br />\n",
    "**Github:** <https://github.com/rpmunoz> <br />\n",
    "\n",
    "[Pandas](http://pandas.pydata.org/) es un paquete de Python que proporciona estructuras de datos similares a los dataframes de R. Pandas depende de Numpy, la librería que añade un potente tipo matricial a Python. Los principales tipos de datos que pueden representarse con pandas son:\n",
    "\n",
    "- Datos tabulares con columnas de tipo heterogéneo con etiquetas en columnas y filas.\n",
    "- Series temporales.\n",
    "\n",
    "Pandas proporciona herramientas que permiten:\n",
    "\n",
    "- leer y escribir datos en diferentes formatos: CSV, Microsoft Excel, bases SQL y formato HDF5\n",
    "- seleccionar y filtrar de manera sencilla tablas de datos en función de posición, valor o etiquetas\n",
    "- fusionar y unir datos\n",
    "- transformar datos aplicando funciones tanto en global como por ventanas\n",
    "- manipulación de series temporales\n",
    "- hacer gráficas\n",
    "\n",
    "En pandas existen tres tipos básicos de objetos todos ellos basados a su vez en Numpy:\n",
    "\n",
    "- Series (listas, 1D),\n",
    "- DataFrame (tablas, 2D) y\n",
    "- Panels (tablas 3D)."
   ]
  },
  {
   "cell_type": "code",
   "execution_count": 1,
   "metadata": {},
   "outputs": [],
   "source": [
    "import numpy as np\n",
    "import pandas as pd\n",
    "#pd.__version__"
   ]
  },
  {
   "cell_type": "markdown",
   "metadata": {},
   "source": [
    "## 1.  Series\n",
    "\n",
    "Una serie (o *Series*) Pandas es un arreglo unidimensional de datos indexados. Puede ser creado desde una lista o arreglo como sigue:"
   ]
  },
  {
   "cell_type": "code",
   "execution_count": 3,
   "metadata": {},
   "outputs": [
    {
     "data": {
      "text/plain": [
       "0    0.25\n",
       "1    0.50\n",
       "2    0.75\n",
       "3    1.00\n",
       "dtype: float64"
      ]
     },
     "execution_count": 3,
     "metadata": {},
     "output_type": "execute_result"
    }
   ],
   "source": [
    "data = pd.Series([0.25, 0.5, 0.75, 1.0])\n",
    "data"
   ]
  },
  {
   "cell_type": "markdown",
   "metadata": {},
   "source": [
    "Como vemos en la salida, la Serie contiene una secuencia de valores y una secuencia de índices, las cuales podemos acceder con los atributos `values` y `index`. Los valores son simplemente un familiar arreglo NumPy:"
   ]
  },
  {
   "cell_type": "code",
   "execution_count": 4,
   "metadata": {},
   "outputs": [
    {
     "data": {
      "text/plain": [
       "array([0.25, 0.5 , 0.75, 1.  ])"
      ]
     },
     "execution_count": 4,
     "metadata": {},
     "output_type": "execute_result"
    }
   ],
   "source": [
    "data.values"
   ]
  },
  {
   "cell_type": "markdown",
   "metadata": {},
   "source": [
    "El índice es un objeto tipo arreglo, con su nombre de tipo igual a `pd.Index`, el que discutiremos en más detalle."
   ]
  },
  {
   "cell_type": "code",
   "execution_count": 5,
   "metadata": {},
   "outputs": [
    {
     "data": {
      "text/plain": [
       "RangeIndex(start=0, stop=4, step=1)"
      ]
     },
     "execution_count": 5,
     "metadata": {},
     "output_type": "execute_result"
    }
   ],
   "source": [
    "data.index"
   ]
  },
  {
   "cell_type": "code",
   "execution_count": null,
   "metadata": {},
   "outputs": [],
   "source": [
    "#help(pd.RangeIndex)"
   ]
  },
  {
   "cell_type": "markdown",
   "metadata": {},
   "source": [
    "Al igual que con un arreglo NumPy, los datos pueden ser accedidos por el índice asociado, a través de la notación de brackets o paréntesis cuadrados:"
   ]
  },
  {
   "cell_type": "code",
   "execution_count": 6,
   "metadata": {},
   "outputs": [
    {
     "data": {
      "text/plain": [
       "RangeIndex(start=0, stop=10, step=2)"
      ]
     },
     "execution_count": 6,
     "metadata": {},
     "output_type": "execute_result"
    }
   ],
   "source": [
    "pd.RangeIndex(0,10,2)"
   ]
  },
  {
   "cell_type": "code",
   "execution_count": 7,
   "metadata": {},
   "outputs": [
    {
     "data": {
      "text/plain": [
       "[0, 2, 4, 6, 8]"
      ]
     },
     "execution_count": 7,
     "metadata": {},
     "output_type": "execute_result"
    }
   ],
   "source": [
    "list(pd.RangeIndex(0,10,2))"
   ]
  },
  {
   "cell_type": "code",
   "execution_count": 8,
   "metadata": {},
   "outputs": [
    {
     "data": {
      "text/plain": [
       "0    0.25\n",
       "1    0.50\n",
       "2    0.75\n",
       "3    1.00\n",
       "dtype: float64"
      ]
     },
     "execution_count": 8,
     "metadata": {},
     "output_type": "execute_result"
    }
   ],
   "source": [
    "data"
   ]
  },
  {
   "cell_type": "code",
   "execution_count": 12,
   "metadata": {},
   "outputs": [
    {
     "data": {
      "text/plain": [
       "1.0"
      ]
     },
     "execution_count": 12,
     "metadata": {},
     "output_type": "execute_result"
    }
   ],
   "source": [
    "data[3]"
   ]
  },
  {
   "cell_type": "code",
   "execution_count": 10,
   "metadata": {},
   "outputs": [
    {
     "data": {
      "text/plain": [
       "0    0.25\n",
       "2    0.75\n",
       "dtype: float64"
      ]
     },
     "execution_count": 10,
     "metadata": {},
     "output_type": "execute_result"
    }
   ],
   "source": [
    "data[[0,2]]"
   ]
  },
  {
   "cell_type": "markdown",
   "metadata": {},
   "source": [
    "### Series como un arreglo NumPy generalizado"
   ]
  },
  {
   "cell_type": "markdown",
   "metadata": {},
   "source": [
    "De lo que hemos visto hasta ahora, puede parecer que el objeto `Series` es básicamente intercambiable con un arreglo unidimensional NumPy. **La diferencia esencial es la presencia del índice**: mientras que el arreglo NumPy tiene un índice entero implícitamente definido, usado para acceder a los valores, la serie Pandas tiene un índice explícitamente definido con los valores."
   ]
  },
  {
   "cell_type": "code",
   "execution_count": 15,
   "metadata": {},
   "outputs": [
    {
     "data": {
      "text/plain": [
       "2018-02-01    0.25\n",
       "2018-02-02    0.50\n",
       "c             0.75\n",
       "d             1.00\n",
       "dtype: float64"
      ]
     },
     "execution_count": 15,
     "metadata": {},
     "output_type": "execute_result"
    }
   ],
   "source": [
    "data = pd.Series([0.25, 0.5, 0.75, 1.0],\n",
    "                 index=['2018-02-01', '2018-02-02', 'c', 'd'])\n",
    "data"
   ]
  },
  {
   "cell_type": "markdown",
   "metadata": {},
   "source": [
    "Y el acceso a los ítemes funciona como es esperado:"
   ]
  },
  {
   "cell_type": "code",
   "execution_count": 18,
   "metadata": {},
   "outputs": [
    {
     "data": {
      "text/plain": [
       "2018-02-01    0.25\n",
       "2018-02-02    0.50\n",
       "c             0.75\n",
       "d             1.00\n",
       "dtype: float64"
      ]
     },
     "execution_count": 18,
     "metadata": {},
     "output_type": "execute_result"
    }
   ],
   "source": [
    "data['2018-02-01':'d']"
   ]
  },
  {
   "cell_type": "code",
   "execution_count": 3,
   "metadata": {},
   "outputs": [
    {
     "name": "stdout",
     "output_type": "stream",
     "text": [
      "2011-05-03\n",
      "<class 'datetime.datetime'>\n",
      "2011-05-04\n",
      "<class 'datetime.datetime'>\n",
      "2011-05-05\n",
      "<class 'datetime.datetime'>\n",
      "2011-05-06\n",
      "<class 'datetime.datetime'>\n",
      "2011-05-07\n",
      "<class 'datetime.datetime'>\n",
      "2011-05-08\n",
      "<class 'datetime.datetime'>\n",
      "2011-05-09\n",
      "<class 'datetime.datetime'>\n",
      "2011-05-10\n",
      "<class 'datetime.datetime'>\n"
     ]
    }
   ],
   "source": [
    "import datetime\n",
    "\n",
    "date1 = '2011-05-03'\n",
    "date2 = '2011-05-10'\n",
    "start = datetime.datetime.strptime(date1, '%Y-%m-%d')\n",
    "end = datetime.datetime.strptime(date2, '%Y-%m-%d')\n",
    "step = datetime.timedelta(days=1)\n",
    "\n",
    "while start <= end:\n",
    "    print(start.date())\n",
    "    start += step\n",
    "    print(type(start))\n"
   ]
  },
  {
   "cell_type": "markdown",
   "metadata": {},
   "source": [
    "### Series como diccionario especializado\n",
    "\n",
    "In this way, you can think of a Pandas Series a bit like a specialization of a Python dictionary. A dictionary is a structure that maps arbitrary keys to a set of arbitrary values, and a Series is a structure which maps typed keys to a set of typed values. This typing is important: just as the type-specific compiled code behind a NumPy array makes it more efficient than a Python list for certain operations, the type information of a Pandas Series makes it much more efficient than Python dictionaries for certain operations.\n",
    "\n",
    "De esta manera, se puede pensar en una `Series`Pandas un poco como una especialización de un diccionario Python. Un diccionario es una estructira que mapea llaves arbitrarias a un conjunto de valores arbitrarios, y una serie es una estructura que mapea llaves tipadas a un conjunto de valores tipados. Este tipado (la exigencia de un tipo definido de dato) es importante: así como el código específico de tipos compilado detrás de un arreglo Numpy lo hace más eficiente que una lista Python para ciertas operaciones, la información de tipo de datos de una serie Pandas la hace mucho más eficiente que los diccionarios Python para ciertas operaciones."
   ]
  },
  {
   "cell_type": "code",
   "execution_count": 6,
   "metadata": {},
   "outputs": [
    {
     "data": {
      "text/plain": [
       "Arica y Parinacota                 243149\n",
       "Antofagasta                        631875\n",
       "Metropolitana de Santiago         7399042\n",
       "Valparaiso                        1842880\n",
       "Bíobío                            2127902\n",
       "Magallanes y Antártica Chilena     165547\n",
       "dtype: int64"
      ]
     },
     "execution_count": 6,
     "metadata": {},
     "output_type": "execute_result"
    }
   ],
   "source": [
    "population_dict = {'Arica y Parinacota': 243149,\n",
    "                   'Antofagasta': 631875,\n",
    "                   'Metropolitana de Santiago': 7399042,\n",
    "                   'Valparaiso': 1842880,\n",
    "                   'Bíobío': 2127902,\n",
    "                   'Magallanes y Antártica Chilena': 165547}\n",
    "\n",
    "population = pd.Series(population_dict)\n",
    "population"
   ]
  },
  {
   "cell_type": "markdown",
   "metadata": {},
   "source": [
    "You can notice the indexes were sorted lexicographically. That's the default behaviour in Pandas"
   ]
  },
  {
   "cell_type": "code",
   "execution_count": 9,
   "metadata": {},
   "outputs": [
    {
     "data": {
      "text/plain": [
       "243149"
      ]
     },
     "execution_count": 9,
     "metadata": {},
     "output_type": "execute_result"
    }
   ],
   "source": [
    "population['Arica y Parinacota']"
   ]
  },
  {
   "cell_type": "markdown",
   "metadata": {},
   "source": [
    "Unlike a dictionary, though, the Series also supports array-style operations such as slicing:"
   ]
  },
  {
   "cell_type": "code",
   "execution_count": null,
   "metadata": {},
   "outputs": [],
   "source": [
    "population['Arica y Parinacota':'Metropolitana de Santiago']"
   ]
  },
  {
   "cell_type": "markdown",
   "metadata": {},
   "source": [
    "## 2. DataFrame\n",
    "\n",
    "La siguiente estructura fundamental en Pandas es el **`DataFrame`**. Como el objeto `Series` discutido en la sección anterior, el `DataFrame` puede pensarse ya sea como una generalización del arreglo NumPy, o como una especialización de un diccionario Python. Lo miraremos desde ambas perspectivas."
   ]
  },
  {
   "cell_type": "markdown",
   "metadata": {},
   "source": [
    "### DataFrame como un arreglo NumPy generalizado\n",
    "\n",
    "Si una `Series` es el análogo de un arreglo unidimensional con índices flexibles, un `DataFrame` es el análogo de un arreglo bidimensional con índices de fila flexible y nombres de columna flexibles."
   ]
  },
  {
   "cell_type": "code",
   "execution_count": 16,
   "metadata": {},
   "outputs": [
    {
     "data": {
      "text/plain": [
       "Arica y Parinacota                  16873.3\n",
       "Antofagasta                        126049.1\n",
       "Metropolitana de Santiago           15403.2\n",
       "Valparaiso                          16396.1\n",
       "Bíobío                              37068.7\n",
       "Magallanes y Antártica Chilena    1382291.1\n",
       "dtype: float64"
      ]
     },
     "execution_count": 16,
     "metadata": {},
     "output_type": "execute_result"
    }
   ],
   "source": [
    "# Area in km^2\n",
    "area_dict = {'Arica y Parinacota': 16873.3,\n",
    "             'Antofagasta': 126049.1,\n",
    "             'Metropolitana de Santiago': 15403.2,\n",
    "             'Valparaiso': 16396.1,\n",
    "             'Bíobío': 37068.7,\n",
    "             'Magallanes y Antártica Chilena': 1382291.1}\n",
    "area = pd.Series(area_dict)\n",
    "area"
   ]
  },
  {
   "cell_type": "markdown",
   "metadata": {},
   "source": [
    "Ahora que tenemos esto junto con la serie de población de antes, podemos utilizar un diccionario para construir un único objeto bidimensional que contenga esta información:"
   ]
  },
  {
   "cell_type": "code",
   "execution_count": 11,
   "metadata": {},
   "outputs": [
    {
     "data": {
      "text/html": [
       "<div>\n",
       "<style scoped>\n",
       "    .dataframe tbody tr th:only-of-type {\n",
       "        vertical-align: middle;\n",
       "    }\n",
       "\n",
       "    .dataframe tbody tr th {\n",
       "        vertical-align: top;\n",
       "    }\n",
       "\n",
       "    .dataframe thead th {\n",
       "        text-align: right;\n",
       "    }\n",
       "</style>\n",
       "<table border=\"1\" class=\"dataframe\">\n",
       "  <thead>\n",
       "    <tr style=\"text-align: right;\">\n",
       "      <th></th>\n",
       "      <th>0</th>\n",
       "    </tr>\n",
       "  </thead>\n",
       "  <tbody>\n",
       "    <tr>\n",
       "      <th>Arica y Parinacota</th>\n",
       "      <td>243149</td>\n",
       "    </tr>\n",
       "    <tr>\n",
       "      <th>Antofagasta</th>\n",
       "      <td>631875</td>\n",
       "    </tr>\n",
       "    <tr>\n",
       "      <th>Metropolitana de Santiago</th>\n",
       "      <td>7399042</td>\n",
       "    </tr>\n",
       "    <tr>\n",
       "      <th>Valparaiso</th>\n",
       "      <td>1842880</td>\n",
       "    </tr>\n",
       "    <tr>\n",
       "      <th>Bíobío</th>\n",
       "      <td>2127902</td>\n",
       "    </tr>\n",
       "    <tr>\n",
       "      <th>Magallanes y Antártica Chilena</th>\n",
       "      <td>165547</td>\n",
       "    </tr>\n",
       "  </tbody>\n",
       "</table>\n",
       "</div>"
      ],
      "text/plain": [
       "                                      0\n",
       "Arica y Parinacota               243149\n",
       "Antofagasta                      631875\n",
       "Metropolitana de Santiago       7399042\n",
       "Valparaiso                      1842880\n",
       "Bíobío                          2127902\n",
       "Magallanes y Antártica Chilena   165547"
      ]
     },
     "execution_count": 11,
     "metadata": {},
     "output_type": "execute_result"
    }
   ],
   "source": [
    "pd.DataFrame(pd.Series(population_dict))"
   ]
  },
  {
   "cell_type": "code",
   "execution_count": 19,
   "metadata": {},
   "outputs": [
    {
     "data": {
      "text/html": [
       "<div>\n",
       "<style scoped>\n",
       "    .dataframe tbody tr th:only-of-type {\n",
       "        vertical-align: middle;\n",
       "    }\n",
       "\n",
       "    .dataframe tbody tr th {\n",
       "        vertical-align: top;\n",
       "    }\n",
       "\n",
       "    .dataframe thead th {\n",
       "        text-align: right;\n",
       "    }\n",
       "</style>\n",
       "<table border=\"1\" class=\"dataframe\">\n",
       "  <thead>\n",
       "    <tr style=\"text-align: right;\">\n",
       "      <th></th>\n",
       "      <th>population</th>\n",
       "      <th>area</th>\n",
       "    </tr>\n",
       "  </thead>\n",
       "  <tbody>\n",
       "    <tr>\n",
       "      <th>Arica y Parinacota</th>\n",
       "      <td>243149</td>\n",
       "      <td>16873.3</td>\n",
       "    </tr>\n",
       "    <tr>\n",
       "      <th>Antofagasta</th>\n",
       "      <td>631875</td>\n",
       "      <td>126049.1</td>\n",
       "    </tr>\n",
       "    <tr>\n",
       "      <th>Metropolitana de Santiago</th>\n",
       "      <td>7399042</td>\n",
       "      <td>15403.2</td>\n",
       "    </tr>\n",
       "    <tr>\n",
       "      <th>Valparaiso</th>\n",
       "      <td>1842880</td>\n",
       "      <td>16396.1</td>\n",
       "    </tr>\n",
       "    <tr>\n",
       "      <th>Bíobío</th>\n",
       "      <td>2127902</td>\n",
       "      <td>37068.7</td>\n",
       "    </tr>\n",
       "    <tr>\n",
       "      <th>Magallanes y Antártica Chilena</th>\n",
       "      <td>165547</td>\n",
       "      <td>1382291.1</td>\n",
       "    </tr>\n",
       "  </tbody>\n",
       "</table>\n",
       "</div>"
      ],
      "text/plain": [
       "                                population       area\n",
       "Arica y Parinacota                  243149    16873.3\n",
       "Antofagasta                         631875   126049.1\n",
       "Metropolitana de Santiago          7399042    15403.2\n",
       "Valparaiso                         1842880    16396.1\n",
       "Bíobío                             2127902    37068.7\n",
       "Magallanes y Antártica Chilena      165547  1382291.1"
      ]
     },
     "execution_count": 19,
     "metadata": {},
     "output_type": "execute_result"
    }
   ],
   "source": [
    "regions = pd.DataFrame({'population': population,\n",
    "                       'area': area})\n",
    "regions"
   ]
  },
  {
   "cell_type": "code",
   "execution_count": 20,
   "metadata": {
    "collapsed": true
   },
   "outputs": [],
   "source": [
    "regions['densidad'] = regions['population']/regions['area']"
   ]
  },
  {
   "cell_type": "code",
   "execution_count": 21,
   "metadata": {},
   "outputs": [
    {
     "data": {
      "text/html": [
       "<div>\n",
       "<style scoped>\n",
       "    .dataframe tbody tr th:only-of-type {\n",
       "        vertical-align: middle;\n",
       "    }\n",
       "\n",
       "    .dataframe tbody tr th {\n",
       "        vertical-align: top;\n",
       "    }\n",
       "\n",
       "    .dataframe thead th {\n",
       "        text-align: right;\n",
       "    }\n",
       "</style>\n",
       "<table border=\"1\" class=\"dataframe\">\n",
       "  <thead>\n",
       "    <tr style=\"text-align: right;\">\n",
       "      <th></th>\n",
       "      <th>population</th>\n",
       "      <th>area</th>\n",
       "      <th>densidad</th>\n",
       "    </tr>\n",
       "  </thead>\n",
       "  <tbody>\n",
       "    <tr>\n",
       "      <th>Arica y Parinacota</th>\n",
       "      <td>243149</td>\n",
       "      <td>16873.3</td>\n",
       "      <td>14.410281</td>\n",
       "    </tr>\n",
       "    <tr>\n",
       "      <th>Antofagasta</th>\n",
       "      <td>631875</td>\n",
       "      <td>126049.1</td>\n",
       "      <td>5.012928</td>\n",
       "    </tr>\n",
       "    <tr>\n",
       "      <th>Metropolitana de Santiago</th>\n",
       "      <td>7399042</td>\n",
       "      <td>15403.2</td>\n",
       "      <td>480.357458</td>\n",
       "    </tr>\n",
       "    <tr>\n",
       "      <th>Valparaiso</th>\n",
       "      <td>1842880</td>\n",
       "      <td>16396.1</td>\n",
       "      <td>112.397460</td>\n",
       "    </tr>\n",
       "    <tr>\n",
       "      <th>Bíobío</th>\n",
       "      <td>2127902</td>\n",
       "      <td>37068.7</td>\n",
       "      <td>57.404279</td>\n",
       "    </tr>\n",
       "    <tr>\n",
       "      <th>Magallanes y Antártica Chilena</th>\n",
       "      <td>165547</td>\n",
       "      <td>1382291.1</td>\n",
       "      <td>0.119763</td>\n",
       "    </tr>\n",
       "  </tbody>\n",
       "</table>\n",
       "</div>"
      ],
      "text/plain": [
       "                                population       area    densidad\n",
       "Arica y Parinacota                  243149    16873.3   14.410281\n",
       "Antofagasta                         631875   126049.1    5.012928\n",
       "Metropolitana de Santiago          7399042    15403.2  480.357458\n",
       "Valparaiso                         1842880    16396.1  112.397460\n",
       "Bíobío                             2127902    37068.7   57.404279\n",
       "Magallanes y Antártica Chilena      165547  1382291.1    0.119763"
      ]
     },
     "execution_count": 21,
     "metadata": {},
     "output_type": "execute_result"
    }
   ],
   "source": [
    "regions"
   ]
  },
  {
   "cell_type": "code",
   "execution_count": 25,
   "metadata": {},
   "outputs": [
    {
     "data": {
      "text/html": [
       "<div>\n",
       "<style scoped>\n",
       "    .dataframe tbody tr th:only-of-type {\n",
       "        vertical-align: middle;\n",
       "    }\n",
       "\n",
       "    .dataframe tbody tr th {\n",
       "        vertical-align: top;\n",
       "    }\n",
       "\n",
       "    .dataframe thead th {\n",
       "        text-align: right;\n",
       "    }\n",
       "</style>\n",
       "<table border=\"1\" class=\"dataframe\">\n",
       "  <thead>\n",
       "    <tr style=\"text-align: right;\">\n",
       "      <th></th>\n",
       "      <th>population</th>\n",
       "      <th>area</th>\n",
       "    </tr>\n",
       "  </thead>\n",
       "  <tbody>\n",
       "    <tr>\n",
       "      <th>Arica y Parinacota</th>\n",
       "      <td>243149</td>\n",
       "      <td>16873.3</td>\n",
       "    </tr>\n",
       "    <tr>\n",
       "      <th>Antofagasta</th>\n",
       "      <td>631875</td>\n",
       "      <td>126049.1</td>\n",
       "    </tr>\n",
       "    <tr>\n",
       "      <th>Metropolitana de Santiago</th>\n",
       "      <td>7399042</td>\n",
       "      <td>15403.2</td>\n",
       "    </tr>\n",
       "    <tr>\n",
       "      <th>Valparaiso</th>\n",
       "      <td>1842880</td>\n",
       "      <td>16396.1</td>\n",
       "    </tr>\n",
       "    <tr>\n",
       "      <th>Bíobío</th>\n",
       "      <td>2127902</td>\n",
       "      <td>37068.7</td>\n",
       "    </tr>\n",
       "    <tr>\n",
       "      <th>Magallanes y Antártica Chilena</th>\n",
       "      <td>165547</td>\n",
       "      <td>1382291.1</td>\n",
       "    </tr>\n",
       "  </tbody>\n",
       "</table>\n",
       "</div>"
      ],
      "text/plain": [
       "                                population       area\n",
       "Arica y Parinacota                  243149    16873.3\n",
       "Antofagasta                         631875   126049.1\n",
       "Metropolitana de Santiago          7399042    15403.2\n",
       "Valparaiso                         1842880    16396.1\n",
       "Bíobío                             2127902    37068.7\n",
       "Magallanes y Antártica Chilena      165547  1382291.1"
      ]
     },
     "execution_count": 25,
     "metadata": {},
     "output_type": "execute_result"
    }
   ],
   "source": [
    "nuevo = regions[ ['population','area'] ]\n",
    "nuevo"
   ]
  },
  {
   "cell_type": "code",
   "execution_count": 22,
   "metadata": {},
   "outputs": [
    {
     "data": {
      "text/plain": [
       "5.0129275020607045"
      ]
     },
     "execution_count": 22,
     "metadata": {},
     "output_type": "execute_result"
    }
   ],
   "source": [
    "regions['densidad']['Antofagasta']"
   ]
  },
  {
   "cell_type": "code",
   "execution_count": 33,
   "metadata": {},
   "outputs": [
    {
     "data": {
      "text/plain": [
       "Arica y Parinacota                 14.410281\n",
       "Antofagasta                         5.012928\n",
       "Metropolitana de Santiago         480.357458\n",
       "Valparaiso                        112.397460\n",
       "Bíobío                             57.404279\n",
       "Magallanes y Antártica Chilena      0.119763\n",
       "Name: densidad, dtype: float64"
      ]
     },
     "execution_count": 33,
     "metadata": {},
     "output_type": "execute_result"
    }
   ],
   "source": [
    "regions['densidad']\n",
    "#print(type(regions['densidad']))"
   ]
  },
  {
   "cell_type": "code",
   "execution_count": 44,
   "metadata": {},
   "outputs": [
    {
     "data": {
      "text/html": [
       "<div>\n",
       "<style scoped>\n",
       "    .dataframe tbody tr th:only-of-type {\n",
       "        vertical-align: middle;\n",
       "    }\n",
       "\n",
       "    .dataframe tbody tr th {\n",
       "        vertical-align: top;\n",
       "    }\n",
       "\n",
       "    .dataframe thead th {\n",
       "        text-align: right;\n",
       "    }\n",
       "</style>\n",
       "<table border=\"1\" class=\"dataframe\">\n",
       "  <thead>\n",
       "    <tr style=\"text-align: right;\">\n",
       "      <th></th>\n",
       "      <th>densidad</th>\n",
       "    </tr>\n",
       "  </thead>\n",
       "  <tbody>\n",
       "    <tr>\n",
       "      <th>Arica y Parinacota</th>\n",
       "      <td>14.410281</td>\n",
       "    </tr>\n",
       "    <tr>\n",
       "      <th>Antofagasta</th>\n",
       "      <td>5.012928</td>\n",
       "    </tr>\n",
       "    <tr>\n",
       "      <th>Metropolitana de Santiago</th>\n",
       "      <td>480.357458</td>\n",
       "    </tr>\n",
       "    <tr>\n",
       "      <th>Valparaiso</th>\n",
       "      <td>112.397460</td>\n",
       "    </tr>\n",
       "    <tr>\n",
       "      <th>Bíobío</th>\n",
       "      <td>57.404279</td>\n",
       "    </tr>\n",
       "    <tr>\n",
       "      <th>Magallanes y Antártica Chilena</th>\n",
       "      <td>0.119763</td>\n",
       "    </tr>\n",
       "  </tbody>\n",
       "</table>\n",
       "</div>"
      ],
      "text/plain": [
       "                                  densidad\n",
       "Arica y Parinacota               14.410281\n",
       "Antofagasta                       5.012928\n",
       "Metropolitana de Santiago       480.357458\n",
       "Valparaiso                      112.397460\n",
       "Bíobío                           57.404279\n",
       "Magallanes y Antártica Chilena    0.119763"
      ]
     },
     "execution_count": 44,
     "metadata": {},
     "output_type": "execute_result"
    }
   ],
   "source": [
    "tabla = pd.DataFrame(regions['densidad'])\n",
    "tabla\n",
    "#tabla.index"
   ]
  },
  {
   "cell_type": "code",
   "execution_count": 40,
   "metadata": {},
   "outputs": [
    {
     "data": {
      "text/plain": [
       "5.0129275020607045"
      ]
     },
     "execution_count": 40,
     "metadata": {},
     "output_type": "execute_result"
    }
   ],
   "source": [
    "tabla['densidad']['Antofagasta']"
   ]
  },
  {
   "cell_type": "code",
   "execution_count": 47,
   "metadata": {},
   "outputs": [
    {
     "data": {
      "text/plain": [
       "<pandas.core.indexing._iLocIndexer at 0x12251f2c8>"
      ]
     },
     "execution_count": 47,
     "metadata": {},
     "output_type": "execute_result"
    }
   ],
   "source": [
    "tabla.iloc(0)"
   ]
  },
  {
   "cell_type": "code",
   "execution_count": null,
   "metadata": {},
   "outputs": [],
   "source": [
    "regions.index"
   ]
  },
  {
   "cell_type": "code",
   "execution_count": null,
   "metadata": {},
   "outputs": [],
   "source": [
    "regions.columns"
   ]
  },
  {
   "cell_type": "markdown",
   "metadata": {},
   "source": [
    "### DataFrame como diccionario especializado\n",
    "\n",
    "Similarmente, podemos pensar el `DataFrame` como la especialización de un diccionario. Donde un diccionario mapea una llave a un valor, un `DataFrame` mapea un nombre de columna a una serie de datos de columna. Por ejemplo, preguntar por el atributo 'área' retorna el objeto Serie conteniendo las áreas que vimos antes:"
   ]
  },
  {
   "cell_type": "code",
   "execution_count": null,
   "metadata": {
    "collapsed": true
   },
   "outputs": [],
   "source": [
    "regions['area']"
   ]
  },
  {
   "cell_type": "code",
   "execution_count": null,
   "metadata": {
    "collapsed": true
   },
   "outputs": [],
   "source": [
    "regions['population']"
   ]
  },
  {
   "cell_type": "markdown",
   "metadata": {},
   "source": [
    "### Construyendo objetos DataFrame\n",
    "Un `DataFrame` Pandas puede ser construido de una variedad de formas. Veremos algunos ejemplos."
   ]
  },
  {
   "cell_type": "markdown",
   "metadata": {},
   "source": [
    "### Desde un único objeto `Series`\n",
    "Un `DataFrame` es una colección de objetos `Series`, y un `DataFrame` de una sóla columna puede ser construido de una serie individual:"
   ]
  },
  {
   "cell_type": "code",
   "execution_count": null,
   "metadata": {
    "collapsed": true
   },
   "outputs": [],
   "source": [
    "pd.DataFrame(population, columns=['poblacion'])\n",
    "pd.DataFrame(area, columns=['superficie'])"
   ]
  },
  {
   "cell_type": "markdown",
   "metadata": {},
   "source": [
    "### Desde un diccionario de objetos `Series`\n",
    "Como vimos antes, un `DataFrame` puede ser construido a partir de un diccionario de objetos `Series` también:"
   ]
  },
  {
   "cell_type": "code",
   "execution_count": null,
   "metadata": {
    "collapsed": true
   },
   "outputs": [],
   "source": [
    "pd.DataFrame({'poblacion': population,\n",
    "              'area': area}, columns=['poblacion', 'area'])"
   ]
  },
  {
   "cell_type": "markdown",
   "metadata": {},
   "source": [
    "## 3. Leyendo un archivo CSV y haciendo operaciones comunes Pandas"
   ]
  },
  {
   "cell_type": "code",
   "execution_count": null,
   "metadata": {},
   "outputs": [],
   "source": [
    "!cat data/chile_regiones.csv"
   ]
  },
  {
   "cell_type": "code",
   "execution_count": 2,
   "metadata": {
    "collapsed": true
   },
   "outputs": [],
   "source": [
    "regiones_file='data/chile_regiones.csv'\n",
    "provincias_file='data/chile_provincias.csv'\n",
    "comunas_file='data/chile_comunas.csv'\n",
    "\n",
    "regiones=pd.read_csv(regiones_file, header=0, sep=',')\n",
    "provincias=pd.read_csv(provincias_file, header=0, sep=',')\n",
    "comunas=pd.read_csv(comunas_file, header=0, sep=',')"
   ]
  },
  {
   "cell_type": "code",
   "execution_count": 3,
   "metadata": {},
   "outputs": [
    {
     "data": {
      "text/html": [
       "<div>\n",
       "<style scoped>\n",
       "    .dataframe tbody tr th:only-of-type {\n",
       "        vertical-align: middle;\n",
       "    }\n",
       "\n",
       "    .dataframe tbody tr th {\n",
       "        vertical-align: top;\n",
       "    }\n",
       "\n",
       "    .dataframe thead th {\n",
       "        text-align: right;\n",
       "    }\n",
       "</style>\n",
       "<table border=\"1\" class=\"dataframe\">\n",
       "  <thead>\n",
       "    <tr style=\"text-align: right;\">\n",
       "      <th></th>\n",
       "      <th>RegionID</th>\n",
       "      <th>RegionNombre</th>\n",
       "      <th>RegionOrdinal</th>\n",
       "    </tr>\n",
       "  </thead>\n",
       "  <tbody>\n",
       "    <tr>\n",
       "      <th>0</th>\n",
       "      <td>1</td>\n",
       "      <td>'Arica y Parinacota'</td>\n",
       "      <td>'XV'</td>\n",
       "    </tr>\n",
       "    <tr>\n",
       "      <th>1</th>\n",
       "      <td>2</td>\n",
       "      <td>'Tarapacá'</td>\n",
       "      <td>'I'</td>\n",
       "    </tr>\n",
       "    <tr>\n",
       "      <th>2</th>\n",
       "      <td>3</td>\n",
       "      <td>'Antofagasta'</td>\n",
       "      <td>'II'</td>\n",
       "    </tr>\n",
       "    <tr>\n",
       "      <th>3</th>\n",
       "      <td>4</td>\n",
       "      <td>'Atacama'</td>\n",
       "      <td>'III'</td>\n",
       "    </tr>\n",
       "    <tr>\n",
       "      <th>4</th>\n",
       "      <td>5</td>\n",
       "      <td>'Coquimbo'</td>\n",
       "      <td>'IV'</td>\n",
       "    </tr>\n",
       "    <tr>\n",
       "      <th>5</th>\n",
       "      <td>6</td>\n",
       "      <td>'Valparaiso'</td>\n",
       "      <td>'V'</td>\n",
       "    </tr>\n",
       "    <tr>\n",
       "      <th>6</th>\n",
       "      <td>7</td>\n",
       "      <td>'Metropolitana de Santiago'</td>\n",
       "      <td>'RM'</td>\n",
       "    </tr>\n",
       "    <tr>\n",
       "      <th>7</th>\n",
       "      <td>8</td>\n",
       "      <td>'Libertador General Bernardo O\\'Higgins'</td>\n",
       "      <td>'VI'</td>\n",
       "    </tr>\n",
       "    <tr>\n",
       "      <th>8</th>\n",
       "      <td>9</td>\n",
       "      <td>'Maule'</td>\n",
       "      <td>'VII'</td>\n",
       "    </tr>\n",
       "    <tr>\n",
       "      <th>9</th>\n",
       "      <td>10</td>\n",
       "      <td>'Biobío'</td>\n",
       "      <td>'VIII'</td>\n",
       "    </tr>\n",
       "    <tr>\n",
       "      <th>10</th>\n",
       "      <td>11</td>\n",
       "      <td>'La Araucanía'</td>\n",
       "      <td>'IX'</td>\n",
       "    </tr>\n",
       "    <tr>\n",
       "      <th>11</th>\n",
       "      <td>12</td>\n",
       "      <td>'Los Ríos'</td>\n",
       "      <td>'XIV'</td>\n",
       "    </tr>\n",
       "    <tr>\n",
       "      <th>12</th>\n",
       "      <td>13</td>\n",
       "      <td>'Los Lagos'</td>\n",
       "      <td>'X'</td>\n",
       "    </tr>\n",
       "    <tr>\n",
       "      <th>13</th>\n",
       "      <td>14</td>\n",
       "      <td>'Aisén del General Carlos Ibáñez del Campo'</td>\n",
       "      <td>'XI'</td>\n",
       "    </tr>\n",
       "    <tr>\n",
       "      <th>14</th>\n",
       "      <td>15</td>\n",
       "      <td>'Magallanes y de la Antártica Chilena'</td>\n",
       "      <td>'XII'</td>\n",
       "    </tr>\n",
       "  </tbody>\n",
       "</table>\n",
       "</div>"
      ],
      "text/plain": [
       "    RegionID                                 RegionNombre RegionOrdinal\n",
       "0          1                         'Arica y Parinacota'          'XV'\n",
       "1          2                                   'Tarapacá'           'I'\n",
       "2          3                                'Antofagasta'          'II'\n",
       "3          4                                    'Atacama'         'III'\n",
       "4          5                                   'Coquimbo'          'IV'\n",
       "5          6                                 'Valparaiso'           'V'\n",
       "6          7                  'Metropolitana de Santiago'          'RM'\n",
       "7          8     'Libertador General Bernardo O\\'Higgins'          'VI'\n",
       "8          9                                      'Maule'         'VII'\n",
       "9         10                                     'Biobío'        'VIII'\n",
       "10        11                               'La Araucanía'          'IX'\n",
       "11        12                                   'Los Ríos'         'XIV'\n",
       "12        13                                  'Los Lagos'           'X'\n",
       "13        14  'Aisén del General Carlos Ibáñez del Campo'          'XI'\n",
       "14        15       'Magallanes y de la Antártica Chilena'         'XII'"
      ]
     },
     "execution_count": 3,
     "metadata": {},
     "output_type": "execute_result"
    }
   ],
   "source": [
    "regiones"
   ]
  },
  {
   "cell_type": "code",
   "execution_count": null,
   "metadata": {},
   "outputs": [],
   "source": [
    "regions.columns.values.tolist()"
   ]
  },
  {
   "cell_type": "code",
   "execution_count": null,
   "metadata": {},
   "outputs": [],
   "source": [
    "print('regiones table: ', regiones.columns.values.tolist())\n",
    "#print('provincias table: ', provincias.columns.values.tolist())\n",
    "#print('comunas table: ', comunas.columns.values.tolist())"
   ]
  },
  {
   "cell_type": "code",
   "execution_count": 7,
   "metadata": {},
   "outputs": [
    {
     "data": {
      "text/html": [
       "<div>\n",
       "<style scoped>\n",
       "    .dataframe tbody tr th:only-of-type {\n",
       "        vertical-align: middle;\n",
       "    }\n",
       "\n",
       "    .dataframe tbody tr th {\n",
       "        vertical-align: top;\n",
       "    }\n",
       "\n",
       "    .dataframe thead th {\n",
       "        text-align: right;\n",
       "    }\n",
       "</style>\n",
       "<table border=\"1\" class=\"dataframe\">\n",
       "  <thead>\n",
       "    <tr style=\"text-align: right;\">\n",
       "      <th></th>\n",
       "      <th>RegionID</th>\n",
       "      <th>RegionNombre</th>\n",
       "      <th>RegionOrdinal</th>\n",
       "    </tr>\n",
       "  </thead>\n",
       "  <tbody>\n",
       "    <tr>\n",
       "      <th>0</th>\n",
       "      <td>1</td>\n",
       "      <td>'Arica y Parinacota'</td>\n",
       "      <td>'XV'</td>\n",
       "    </tr>\n",
       "    <tr>\n",
       "      <th>1</th>\n",
       "      <td>2</td>\n",
       "      <td>'Tarapacá'</td>\n",
       "      <td>'I'</td>\n",
       "    </tr>\n",
       "    <tr>\n",
       "      <th>2</th>\n",
       "      <td>3</td>\n",
       "      <td>'Antofagasta'</td>\n",
       "      <td>'II'</td>\n",
       "    </tr>\n",
       "    <tr>\n",
       "      <th>3</th>\n",
       "      <td>4</td>\n",
       "      <td>'Atacama'</td>\n",
       "      <td>'III'</td>\n",
       "    </tr>\n",
       "    <tr>\n",
       "      <th>4</th>\n",
       "      <td>5</td>\n",
       "      <td>'Coquimbo'</td>\n",
       "      <td>'IV'</td>\n",
       "    </tr>\n",
       "  </tbody>\n",
       "</table>\n",
       "</div>"
      ],
      "text/plain": [
       "   RegionID          RegionNombre RegionOrdinal\n",
       "0         1  'Arica y Parinacota'          'XV'\n",
       "1         2            'Tarapacá'           'I'\n",
       "2         3         'Antofagasta'          'II'\n",
       "3         4             'Atacama'         'III'\n",
       "4         5            'Coquimbo'          'IV'"
      ]
     },
     "execution_count": 7,
     "metadata": {},
     "output_type": "execute_result"
    }
   ],
   "source": [
    "regiones.head()"
   ]
  },
  {
   "cell_type": "code",
   "execution_count": 5,
   "metadata": {},
   "outputs": [
    {
     "data": {
      "text/html": [
       "<div>\n",
       "<style scoped>\n",
       "    .dataframe tbody tr th:only-of-type {\n",
       "        vertical-align: middle;\n",
       "    }\n",
       "\n",
       "    .dataframe tbody tr th {\n",
       "        vertical-align: top;\n",
       "    }\n",
       "\n",
       "    .dataframe thead th {\n",
       "        text-align: right;\n",
       "    }\n",
       "</style>\n",
       "<table border=\"1\" class=\"dataframe\">\n",
       "  <thead>\n",
       "    <tr style=\"text-align: right;\">\n",
       "      <th></th>\n",
       "      <th>ProvinciaID</th>\n",
       "      <th>ProvinciaNombre</th>\n",
       "      <th>RegionID</th>\n",
       "    </tr>\n",
       "  </thead>\n",
       "  <tbody>\n",
       "    <tr>\n",
       "      <th>0</th>\n",
       "      <td>1</td>\n",
       "      <td>'Arica'</td>\n",
       "      <td>1</td>\n",
       "    </tr>\n",
       "    <tr>\n",
       "      <th>1</th>\n",
       "      <td>2</td>\n",
       "      <td>'Parinacota'</td>\n",
       "      <td>1</td>\n",
       "    </tr>\n",
       "    <tr>\n",
       "      <th>2</th>\n",
       "      <td>3</td>\n",
       "      <td>'Iquique'</td>\n",
       "      <td>2</td>\n",
       "    </tr>\n",
       "    <tr>\n",
       "      <th>3</th>\n",
       "      <td>4</td>\n",
       "      <td>'El Tamarugal'</td>\n",
       "      <td>2</td>\n",
       "    </tr>\n",
       "    <tr>\n",
       "      <th>4</th>\n",
       "      <td>5</td>\n",
       "      <td>'Antofagasta'</td>\n",
       "      <td>3</td>\n",
       "    </tr>\n",
       "  </tbody>\n",
       "</table>\n",
       "</div>"
      ],
      "text/plain": [
       "   ProvinciaID ProvinciaNombre  RegionID\n",
       "0            1         'Arica'         1\n",
       "1            2    'Parinacota'         1\n",
       "2            3       'Iquique'         2\n",
       "3            4  'El Tamarugal'         2\n",
       "4            5   'Antofagasta'         3"
      ]
     },
     "execution_count": 5,
     "metadata": {},
     "output_type": "execute_result"
    }
   ],
   "source": [
    "provincias.head()"
   ]
  },
  {
   "cell_type": "code",
   "execution_count": 8,
   "metadata": {},
   "outputs": [
    {
     "data": {
      "text/html": [
       "<div>\n",
       "<style scoped>\n",
       "    .dataframe tbody tr th:only-of-type {\n",
       "        vertical-align: middle;\n",
       "    }\n",
       "\n",
       "    .dataframe tbody tr th {\n",
       "        vertical-align: top;\n",
       "    }\n",
       "\n",
       "    .dataframe thead th {\n",
       "        text-align: right;\n",
       "    }\n",
       "</style>\n",
       "<table border=\"1\" class=\"dataframe\">\n",
       "  <thead>\n",
       "    <tr style=\"text-align: right;\">\n",
       "      <th></th>\n",
       "      <th>ComunaID</th>\n",
       "      <th>ComunaNombre</th>\n",
       "      <th>ProvinciaID</th>\n",
       "    </tr>\n",
       "  </thead>\n",
       "  <tbody>\n",
       "    <tr>\n",
       "      <th>0</th>\n",
       "      <td>1</td>\n",
       "      <td>'Arica'</td>\n",
       "      <td>1</td>\n",
       "    </tr>\n",
       "    <tr>\n",
       "      <th>1</th>\n",
       "      <td>2</td>\n",
       "      <td>'Camarones'</td>\n",
       "      <td>1</td>\n",
       "    </tr>\n",
       "    <tr>\n",
       "      <th>2</th>\n",
       "      <td>3</td>\n",
       "      <td>'General Lagos'</td>\n",
       "      <td>2</td>\n",
       "    </tr>\n",
       "    <tr>\n",
       "      <th>3</th>\n",
       "      <td>4</td>\n",
       "      <td>'Putre'</td>\n",
       "      <td>2</td>\n",
       "    </tr>\n",
       "    <tr>\n",
       "      <th>4</th>\n",
       "      <td>5</td>\n",
       "      <td>'Alto Hospicio'</td>\n",
       "      <td>3</td>\n",
       "    </tr>\n",
       "    <tr>\n",
       "      <th>5</th>\n",
       "      <td>6</td>\n",
       "      <td>'Iquique'</td>\n",
       "      <td>3</td>\n",
       "    </tr>\n",
       "    <tr>\n",
       "      <th>6</th>\n",
       "      <td>7</td>\n",
       "      <td>'Camiña'</td>\n",
       "      <td>4</td>\n",
       "    </tr>\n",
       "    <tr>\n",
       "      <th>7</th>\n",
       "      <td>8</td>\n",
       "      <td>'Colchane'</td>\n",
       "      <td>4</td>\n",
       "    </tr>\n",
       "    <tr>\n",
       "      <th>8</th>\n",
       "      <td>9</td>\n",
       "      <td>'Huara'</td>\n",
       "      <td>4</td>\n",
       "    </tr>\n",
       "    <tr>\n",
       "      <th>9</th>\n",
       "      <td>10</td>\n",
       "      <td>'Pica'</td>\n",
       "      <td>4</td>\n",
       "    </tr>\n",
       "  </tbody>\n",
       "</table>\n",
       "</div>"
      ],
      "text/plain": [
       "   ComunaID     ComunaNombre  ProvinciaID\n",
       "0         1          'Arica'            1\n",
       "1         2      'Camarones'            1\n",
       "2         3  'General Lagos'            2\n",
       "3         4          'Putre'            2\n",
       "4         5  'Alto Hospicio'            3\n",
       "5         6        'Iquique'            3\n",
       "6         7         'Camiña'            4\n",
       "7         8       'Colchane'            4\n",
       "8         9          'Huara'            4\n",
       "9        10           'Pica'            4"
      ]
     },
     "execution_count": 8,
     "metadata": {},
     "output_type": "execute_result"
    }
   ],
   "source": [
    "comunas.head(10)"
   ]
  },
  {
   "cell_type": "code",
   "execution_count": 14,
   "metadata": {},
   "outputs": [
    {
     "data": {
      "text/html": [
       "<div>\n",
       "<style scoped>\n",
       "    .dataframe tbody tr th:only-of-type {\n",
       "        vertical-align: middle;\n",
       "    }\n",
       "\n",
       "    .dataframe tbody tr th {\n",
       "        vertical-align: top;\n",
       "    }\n",
       "\n",
       "    .dataframe thead th {\n",
       "        text-align: right;\n",
       "    }\n",
       "</style>\n",
       "<table border=\"1\" class=\"dataframe\">\n",
       "  <thead>\n",
       "    <tr style=\"text-align: right;\">\n",
       "      <th></th>\n",
       "      <th>ComunaID</th>\n",
       "      <th>ComunaNombre</th>\n",
       "      <th>ProvinciaID</th>\n",
       "    </tr>\n",
       "  </thead>\n",
       "  <tbody>\n",
       "    <tr>\n",
       "      <th>114</th>\n",
       "      <td>115</td>\n",
       "      <td>'Ñuñoa'</td>\n",
       "      <td>25</td>\n",
       "    </tr>\n",
       "    <tr>\n",
       "      <th>237</th>\n",
       "      <td>238</td>\n",
       "      <td>'Ñiquen'</td>\n",
       "      <td>37</td>\n",
       "    </tr>\n",
       "    <tr>\n",
       "      <th>52</th>\n",
       "      <td>53</td>\n",
       "      <td>'Zapallar'</td>\n",
       "      <td>16</td>\n",
       "    </tr>\n",
       "    <tr>\n",
       "      <th>249</th>\n",
       "      <td>250</td>\n",
       "      <td>'Yungay'</td>\n",
       "      <td>37</td>\n",
       "    </tr>\n",
       "    <tr>\n",
       "      <th>216</th>\n",
       "      <td>217</td>\n",
       "      <td>'Yumbel'</td>\n",
       "      <td>35</td>\n",
       "    </tr>\n",
       "  </tbody>\n",
       "</table>\n",
       "</div>"
      ],
      "text/plain": [
       "     ComunaID ComunaNombre  ProvinciaID\n",
       "114       115      'Ñuñoa'           25\n",
       "237       238     'Ñiquen'           37\n",
       "52         53   'Zapallar'           16\n",
       "249       250     'Yungay'           37\n",
       "216       217     'Yumbel'           35"
      ]
     },
     "execution_count": 14,
     "metadata": {},
     "output_type": "execute_result"
    }
   ],
   "source": [
    "comunas.sort_values('ComunaNombre', ascending=False).head()"
   ]
  },
  {
   "cell_type": "code",
   "execution_count": null,
   "metadata": {},
   "outputs": [],
   "source": [
    "comunas.describe()"
   ]
  },
  {
   "cell_type": "code",
   "execution_count": null,
   "metadata": {},
   "outputs": [],
   "source": [
    "regiones.head()"
   ]
  },
  {
   "cell_type": "code",
   "execution_count": null,
   "metadata": {},
   "outputs": [],
   "source": [
    "provincias.head()"
   ]
  },
  {
   "cell_type": "code",
   "execution_count": null,
   "metadata": {},
   "outputs": [],
   "source": [
    "#help(pd.merge)"
   ]
  },
  {
   "cell_type": "code",
   "execution_count": 12,
   "metadata": {},
   "outputs": [
    {
     "data": {
      "text/html": [
       "<div>\n",
       "<style scoped>\n",
       "    .dataframe tbody tr th:only-of-type {\n",
       "        vertical-align: middle;\n",
       "    }\n",
       "\n",
       "    .dataframe tbody tr th {\n",
       "        vertical-align: top;\n",
       "    }\n",
       "\n",
       "    .dataframe thead th {\n",
       "        text-align: right;\n",
       "    }\n",
       "</style>\n",
       "<table border=\"1\" class=\"dataframe\">\n",
       "  <thead>\n",
       "    <tr style=\"text-align: right;\">\n",
       "      <th></th>\n",
       "      <th>RegionID</th>\n",
       "      <th>RegionNombre</th>\n",
       "      <th>RegionOrdinal</th>\n",
       "      <th>ProvinciaID</th>\n",
       "      <th>ProvinciaNombre</th>\n",
       "    </tr>\n",
       "  </thead>\n",
       "  <tbody>\n",
       "    <tr>\n",
       "      <th>0</th>\n",
       "      <td>1</td>\n",
       "      <td>'Arica y Parinacota'</td>\n",
       "      <td>'XV'</td>\n",
       "      <td>1</td>\n",
       "      <td>'Arica'</td>\n",
       "    </tr>\n",
       "    <tr>\n",
       "      <th>1</th>\n",
       "      <td>1</td>\n",
       "      <td>'Arica y Parinacota'</td>\n",
       "      <td>'XV'</td>\n",
       "      <td>2</td>\n",
       "      <td>'Parinacota'</td>\n",
       "    </tr>\n",
       "    <tr>\n",
       "      <th>2</th>\n",
       "      <td>2</td>\n",
       "      <td>'Tarapacá'</td>\n",
       "      <td>'I'</td>\n",
       "      <td>3</td>\n",
       "      <td>'Iquique'</td>\n",
       "    </tr>\n",
       "    <tr>\n",
       "      <th>3</th>\n",
       "      <td>2</td>\n",
       "      <td>'Tarapacá'</td>\n",
       "      <td>'I'</td>\n",
       "      <td>4</td>\n",
       "      <td>'El Tamarugal'</td>\n",
       "    </tr>\n",
       "    <tr>\n",
       "      <th>4</th>\n",
       "      <td>3</td>\n",
       "      <td>'Antofagasta'</td>\n",
       "      <td>'II'</td>\n",
       "      <td>5</td>\n",
       "      <td>'Antofagasta'</td>\n",
       "    </tr>\n",
       "    <tr>\n",
       "      <th>5</th>\n",
       "      <td>3</td>\n",
       "      <td>'Antofagasta'</td>\n",
       "      <td>'II'</td>\n",
       "      <td>6</td>\n",
       "      <td>'El Loa'</td>\n",
       "    </tr>\n",
       "    <tr>\n",
       "      <th>6</th>\n",
       "      <td>3</td>\n",
       "      <td>'Antofagasta'</td>\n",
       "      <td>'II'</td>\n",
       "      <td>7</td>\n",
       "      <td>'Tocopilla'</td>\n",
       "    </tr>\n",
       "    <tr>\n",
       "      <th>7</th>\n",
       "      <td>4</td>\n",
       "      <td>'Atacama'</td>\n",
       "      <td>'III'</td>\n",
       "      <td>8</td>\n",
       "      <td>'Chañaral'</td>\n",
       "    </tr>\n",
       "    <tr>\n",
       "      <th>8</th>\n",
       "      <td>4</td>\n",
       "      <td>'Atacama'</td>\n",
       "      <td>'III'</td>\n",
       "      <td>9</td>\n",
       "      <td>'Copiapó'</td>\n",
       "    </tr>\n",
       "    <tr>\n",
       "      <th>9</th>\n",
       "      <td>4</td>\n",
       "      <td>'Atacama'</td>\n",
       "      <td>'III'</td>\n",
       "      <td>10</td>\n",
       "      <td>'Huasco'</td>\n",
       "    </tr>\n",
       "    <tr>\n",
       "      <th>10</th>\n",
       "      <td>5</td>\n",
       "      <td>'Coquimbo'</td>\n",
       "      <td>'IV'</td>\n",
       "      <td>11</td>\n",
       "      <td>'Choapa'</td>\n",
       "    </tr>\n",
       "    <tr>\n",
       "      <th>11</th>\n",
       "      <td>5</td>\n",
       "      <td>'Coquimbo'</td>\n",
       "      <td>'IV'</td>\n",
       "      <td>12</td>\n",
       "      <td>'Elqui'</td>\n",
       "    </tr>\n",
       "    <tr>\n",
       "      <th>12</th>\n",
       "      <td>5</td>\n",
       "      <td>'Coquimbo'</td>\n",
       "      <td>'IV'</td>\n",
       "      <td>13</td>\n",
       "      <td>'Limarí'</td>\n",
       "    </tr>\n",
       "    <tr>\n",
       "      <th>13</th>\n",
       "      <td>6</td>\n",
       "      <td>'Valparaiso'</td>\n",
       "      <td>'V'</td>\n",
       "      <td>14</td>\n",
       "      <td>'Isla de Pascua'</td>\n",
       "    </tr>\n",
       "    <tr>\n",
       "      <th>14</th>\n",
       "      <td>6</td>\n",
       "      <td>'Valparaiso'</td>\n",
       "      <td>'V'</td>\n",
       "      <td>15</td>\n",
       "      <td>'Los Andes'</td>\n",
       "    </tr>\n",
       "    <tr>\n",
       "      <th>15</th>\n",
       "      <td>6</td>\n",
       "      <td>'Valparaiso'</td>\n",
       "      <td>'V'</td>\n",
       "      <td>16</td>\n",
       "      <td>'Petorca'</td>\n",
       "    </tr>\n",
       "    <tr>\n",
       "      <th>16</th>\n",
       "      <td>6</td>\n",
       "      <td>'Valparaiso'</td>\n",
       "      <td>'V'</td>\n",
       "      <td>17</td>\n",
       "      <td>'Quillota'</td>\n",
       "    </tr>\n",
       "    <tr>\n",
       "      <th>17</th>\n",
       "      <td>6</td>\n",
       "      <td>'Valparaiso'</td>\n",
       "      <td>'V'</td>\n",
       "      <td>18</td>\n",
       "      <td>'San Antonio'</td>\n",
       "    </tr>\n",
       "    <tr>\n",
       "      <th>18</th>\n",
       "      <td>6</td>\n",
       "      <td>'Valparaiso'</td>\n",
       "      <td>'V'</td>\n",
       "      <td>19</td>\n",
       "      <td>'San Felipe de Aconcagua'</td>\n",
       "    </tr>\n",
       "    <tr>\n",
       "      <th>19</th>\n",
       "      <td>6</td>\n",
       "      <td>'Valparaiso'</td>\n",
       "      <td>'V'</td>\n",
       "      <td>20</td>\n",
       "      <td>'Valparaiso'</td>\n",
       "    </tr>\n",
       "    <tr>\n",
       "      <th>20</th>\n",
       "      <td>7</td>\n",
       "      <td>'Metropolitana de Santiago'</td>\n",
       "      <td>'RM'</td>\n",
       "      <td>21</td>\n",
       "      <td>'Chacabuco'</td>\n",
       "    </tr>\n",
       "    <tr>\n",
       "      <th>21</th>\n",
       "      <td>7</td>\n",
       "      <td>'Metropolitana de Santiago'</td>\n",
       "      <td>'RM'</td>\n",
       "      <td>22</td>\n",
       "      <td>'Cordillera'</td>\n",
       "    </tr>\n",
       "    <tr>\n",
       "      <th>22</th>\n",
       "      <td>7</td>\n",
       "      <td>'Metropolitana de Santiago'</td>\n",
       "      <td>'RM'</td>\n",
       "      <td>23</td>\n",
       "      <td>'Maipo'</td>\n",
       "    </tr>\n",
       "    <tr>\n",
       "      <th>23</th>\n",
       "      <td>7</td>\n",
       "      <td>'Metropolitana de Santiago'</td>\n",
       "      <td>'RM'</td>\n",
       "      <td>24</td>\n",
       "      <td>'Melipilla'</td>\n",
       "    </tr>\n",
       "    <tr>\n",
       "      <th>24</th>\n",
       "      <td>7</td>\n",
       "      <td>'Metropolitana de Santiago'</td>\n",
       "      <td>'RM'</td>\n",
       "      <td>25</td>\n",
       "      <td>'Santiago'</td>\n",
       "    </tr>\n",
       "    <tr>\n",
       "      <th>25</th>\n",
       "      <td>7</td>\n",
       "      <td>'Metropolitana de Santiago'</td>\n",
       "      <td>'RM'</td>\n",
       "      <td>26</td>\n",
       "      <td>'Talagante'</td>\n",
       "    </tr>\n",
       "    <tr>\n",
       "      <th>26</th>\n",
       "      <td>8</td>\n",
       "      <td>'Libertador General Bernardo O\\'Higgins'</td>\n",
       "      <td>'VI'</td>\n",
       "      <td>27</td>\n",
       "      <td>'Cachapoal'</td>\n",
       "    </tr>\n",
       "    <tr>\n",
       "      <th>27</th>\n",
       "      <td>8</td>\n",
       "      <td>'Libertador General Bernardo O\\'Higgins'</td>\n",
       "      <td>'VI'</td>\n",
       "      <td>28</td>\n",
       "      <td>'Cardenal Caro'</td>\n",
       "    </tr>\n",
       "    <tr>\n",
       "      <th>28</th>\n",
       "      <td>8</td>\n",
       "      <td>'Libertador General Bernardo O\\'Higgins'</td>\n",
       "      <td>'VI'</td>\n",
       "      <td>29</td>\n",
       "      <td>'Colchagua'</td>\n",
       "    </tr>\n",
       "    <tr>\n",
       "      <th>29</th>\n",
       "      <td>9</td>\n",
       "      <td>'Maule'</td>\n",
       "      <td>'VII'</td>\n",
       "      <td>30</td>\n",
       "      <td>'Cauquenes'</td>\n",
       "    </tr>\n",
       "  </tbody>\n",
       "</table>\n",
       "</div>"
      ],
      "text/plain": [
       "    RegionID                              RegionNombre RegionOrdinal  \\\n",
       "0          1                      'Arica y Parinacota'          'XV'   \n",
       "1          1                      'Arica y Parinacota'          'XV'   \n",
       "2          2                                'Tarapacá'           'I'   \n",
       "3          2                                'Tarapacá'           'I'   \n",
       "4          3                             'Antofagasta'          'II'   \n",
       "5          3                             'Antofagasta'          'II'   \n",
       "6          3                             'Antofagasta'          'II'   \n",
       "7          4                                 'Atacama'         'III'   \n",
       "8          4                                 'Atacama'         'III'   \n",
       "9          4                                 'Atacama'         'III'   \n",
       "10         5                                'Coquimbo'          'IV'   \n",
       "11         5                                'Coquimbo'          'IV'   \n",
       "12         5                                'Coquimbo'          'IV'   \n",
       "13         6                              'Valparaiso'           'V'   \n",
       "14         6                              'Valparaiso'           'V'   \n",
       "15         6                              'Valparaiso'           'V'   \n",
       "16         6                              'Valparaiso'           'V'   \n",
       "17         6                              'Valparaiso'           'V'   \n",
       "18         6                              'Valparaiso'           'V'   \n",
       "19         6                              'Valparaiso'           'V'   \n",
       "20         7               'Metropolitana de Santiago'          'RM'   \n",
       "21         7               'Metropolitana de Santiago'          'RM'   \n",
       "22         7               'Metropolitana de Santiago'          'RM'   \n",
       "23         7               'Metropolitana de Santiago'          'RM'   \n",
       "24         7               'Metropolitana de Santiago'          'RM'   \n",
       "25         7               'Metropolitana de Santiago'          'RM'   \n",
       "26         8  'Libertador General Bernardo O\\'Higgins'          'VI'   \n",
       "27         8  'Libertador General Bernardo O\\'Higgins'          'VI'   \n",
       "28         8  'Libertador General Bernardo O\\'Higgins'          'VI'   \n",
       "29         9                                   'Maule'         'VII'   \n",
       "\n",
       "    ProvinciaID            ProvinciaNombre  \n",
       "0             1                    'Arica'  \n",
       "1             2               'Parinacota'  \n",
       "2             3                  'Iquique'  \n",
       "3             4             'El Tamarugal'  \n",
       "4             5              'Antofagasta'  \n",
       "5             6                   'El Loa'  \n",
       "6             7                'Tocopilla'  \n",
       "7             8                 'Chañaral'  \n",
       "8             9                  'Copiapó'  \n",
       "9            10                   'Huasco'  \n",
       "10           11                   'Choapa'  \n",
       "11           12                    'Elqui'  \n",
       "12           13                   'Limarí'  \n",
       "13           14           'Isla de Pascua'  \n",
       "14           15                'Los Andes'  \n",
       "15           16                  'Petorca'  \n",
       "16           17                 'Quillota'  \n",
       "17           18              'San Antonio'  \n",
       "18           19  'San Felipe de Aconcagua'  \n",
       "19           20               'Valparaiso'  \n",
       "20           21                'Chacabuco'  \n",
       "21           22               'Cordillera'  \n",
       "22           23                    'Maipo'  \n",
       "23           24                'Melipilla'  \n",
       "24           25                 'Santiago'  \n",
       "25           26                'Talagante'  \n",
       "26           27                'Cachapoal'  \n",
       "27           28            'Cardenal Caro'  \n",
       "28           29                'Colchagua'  \n",
       "29           30                'Cauquenes'  "
      ]
     },
     "execution_count": 12,
     "metadata": {},
     "output_type": "execute_result"
    }
   ],
   "source": [
    "regiones_provincias = pd.merge(regiones, provincias, how='outer', on='RegionID')\n",
    "regiones_provincias.head(30)"
   ]
  },
  {
   "cell_type": "code",
   "execution_count": 15,
   "metadata": {},
   "outputs": [
    {
     "data": {
      "text/html": [
       "<div>\n",
       "<style scoped>\n",
       "    .dataframe tbody tr th:only-of-type {\n",
       "        vertical-align: middle;\n",
       "    }\n",
       "\n",
       "    .dataframe tbody tr th {\n",
       "        vertical-align: top;\n",
       "    }\n",
       "\n",
       "    .dataframe thead th {\n",
       "        text-align: right;\n",
       "    }\n",
       "</style>\n",
       "<table border=\"1\" class=\"dataframe\">\n",
       "  <thead>\n",
       "    <tr style=\"text-align: right;\">\n",
       "      <th></th>\n",
       "      <th>ProvinciaID</th>\n",
       "      <th>ProvinciaNombre</th>\n",
       "      <th>RegionID</th>\n",
       "      <th>ComunaID</th>\n",
       "      <th>ComunaNombre</th>\n",
       "    </tr>\n",
       "  </thead>\n",
       "  <tbody>\n",
       "    <tr>\n",
       "      <th>0</th>\n",
       "      <td>1</td>\n",
       "      <td>'Arica'</td>\n",
       "      <td>1</td>\n",
       "      <td>1</td>\n",
       "      <td>'Arica'</td>\n",
       "    </tr>\n",
       "    <tr>\n",
       "      <th>1</th>\n",
       "      <td>1</td>\n",
       "      <td>'Arica'</td>\n",
       "      <td>1</td>\n",
       "      <td>2</td>\n",
       "      <td>'Camarones'</td>\n",
       "    </tr>\n",
       "    <tr>\n",
       "      <th>2</th>\n",
       "      <td>2</td>\n",
       "      <td>'Parinacota'</td>\n",
       "      <td>1</td>\n",
       "      <td>3</td>\n",
       "      <td>'General Lagos'</td>\n",
       "    </tr>\n",
       "    <tr>\n",
       "      <th>3</th>\n",
       "      <td>2</td>\n",
       "      <td>'Parinacota'</td>\n",
       "      <td>1</td>\n",
       "      <td>4</td>\n",
       "      <td>'Putre'</td>\n",
       "    </tr>\n",
       "    <tr>\n",
       "      <th>4</th>\n",
       "      <td>3</td>\n",
       "      <td>'Iquique'</td>\n",
       "      <td>2</td>\n",
       "      <td>5</td>\n",
       "      <td>'Alto Hospicio'</td>\n",
       "    </tr>\n",
       "  </tbody>\n",
       "</table>\n",
       "</div>"
      ],
      "text/plain": [
       "   ProvinciaID ProvinciaNombre  RegionID  ComunaID     ComunaNombre\n",
       "0            1         'Arica'         1         1          'Arica'\n",
       "1            1         'Arica'         1         2      'Camarones'\n",
       "2            2    'Parinacota'         1         3  'General Lagos'\n",
       "3            2    'Parinacota'         1         4          'Putre'\n",
       "4            3       'Iquique'         2         5  'Alto Hospicio'"
      ]
     },
     "execution_count": 15,
     "metadata": {},
     "output_type": "execute_result"
    }
   ],
   "source": [
    "provincias_comunas=pd.merge(provincias, comunas, how='outer')\n",
    "provincias_comunas.head()"
   ]
  },
  {
   "cell_type": "code",
   "execution_count": 16,
   "metadata": {},
   "outputs": [
    {
     "data": {
      "text/html": [
       "<div>\n",
       "<style scoped>\n",
       "    .dataframe tbody tr th:only-of-type {\n",
       "        vertical-align: middle;\n",
       "    }\n",
       "\n",
       "    .dataframe tbody tr th {\n",
       "        vertical-align: top;\n",
       "    }\n",
       "\n",
       "    .dataframe thead th {\n",
       "        text-align: right;\n",
       "    }\n",
       "</style>\n",
       "<table border=\"1\" class=\"dataframe\">\n",
       "  <thead>\n",
       "    <tr style=\"text-align: right;\">\n",
       "      <th></th>\n",
       "      <th>RegionID</th>\n",
       "      <th>RegionNombre</th>\n",
       "      <th>RegionOrdinal</th>\n",
       "      <th>ProvinciaID</th>\n",
       "      <th>ProvinciaNombre</th>\n",
       "      <th>ComunaID</th>\n",
       "      <th>ComunaNombre</th>\n",
       "    </tr>\n",
       "    <tr>\n",
       "      <th>ID</th>\n",
       "      <th></th>\n",
       "      <th></th>\n",
       "      <th></th>\n",
       "      <th></th>\n",
       "      <th></th>\n",
       "      <th></th>\n",
       "      <th></th>\n",
       "    </tr>\n",
       "  </thead>\n",
       "  <tbody>\n",
       "    <tr>\n",
       "      <th>0</th>\n",
       "      <td>1</td>\n",
       "      <td>'Arica y Parinacota'</td>\n",
       "      <td>'XV'</td>\n",
       "      <td>1</td>\n",
       "      <td>'Arica'</td>\n",
       "      <td>1</td>\n",
       "      <td>'Arica'</td>\n",
       "    </tr>\n",
       "    <tr>\n",
       "      <th>1</th>\n",
       "      <td>1</td>\n",
       "      <td>'Arica y Parinacota'</td>\n",
       "      <td>'XV'</td>\n",
       "      <td>1</td>\n",
       "      <td>'Arica'</td>\n",
       "      <td>2</td>\n",
       "      <td>'Camarones'</td>\n",
       "    </tr>\n",
       "    <tr>\n",
       "      <th>2</th>\n",
       "      <td>1</td>\n",
       "      <td>'Arica y Parinacota'</td>\n",
       "      <td>'XV'</td>\n",
       "      <td>2</td>\n",
       "      <td>'Parinacota'</td>\n",
       "      <td>3</td>\n",
       "      <td>'General Lagos'</td>\n",
       "    </tr>\n",
       "    <tr>\n",
       "      <th>3</th>\n",
       "      <td>1</td>\n",
       "      <td>'Arica y Parinacota'</td>\n",
       "      <td>'XV'</td>\n",
       "      <td>2</td>\n",
       "      <td>'Parinacota'</td>\n",
       "      <td>4</td>\n",
       "      <td>'Putre'</td>\n",
       "    </tr>\n",
       "    <tr>\n",
       "      <th>4</th>\n",
       "      <td>2</td>\n",
       "      <td>'Tarapacá'</td>\n",
       "      <td>'I'</td>\n",
       "      <td>3</td>\n",
       "      <td>'Iquique'</td>\n",
       "      <td>5</td>\n",
       "      <td>'Alto Hospicio'</td>\n",
       "    </tr>\n",
       "  </tbody>\n",
       "</table>\n",
       "</div>"
      ],
      "text/plain": [
       "    RegionID          RegionNombre RegionOrdinal  ProvinciaID ProvinciaNombre  \\\n",
       "ID                                                                              \n",
       "0          1  'Arica y Parinacota'          'XV'            1         'Arica'   \n",
       "1          1  'Arica y Parinacota'          'XV'            1         'Arica'   \n",
       "2          1  'Arica y Parinacota'          'XV'            2    'Parinacota'   \n",
       "3          1  'Arica y Parinacota'          'XV'            2    'Parinacota'   \n",
       "4          2            'Tarapacá'           'I'            3       'Iquique'   \n",
       "\n",
       "    ComunaID     ComunaNombre  \n",
       "ID                             \n",
       "0          1          'Arica'  \n",
       "1          2      'Camarones'  \n",
       "2          3  'General Lagos'  \n",
       "3          4          'Putre'  \n",
       "4          5  'Alto Hospicio'  "
      ]
     },
     "execution_count": 16,
     "metadata": {},
     "output_type": "execute_result"
    }
   ],
   "source": [
    "regiones_provincias_comunas=pd.merge(regiones_provincias, comunas, how='outer')\n",
    "regiones_provincias_comunas.index.name='ID'\n",
    "regiones_provincias_comunas.head()"
   ]
  },
  {
   "cell_type": "code",
   "execution_count": 17,
   "metadata": {},
   "outputs": [
    {
     "data": {
      "text/html": [
       "<div>\n",
       "<style scoped>\n",
       "    .dataframe tbody tr th:only-of-type {\n",
       "        vertical-align: middle;\n",
       "    }\n",
       "\n",
       "    .dataframe tbody tr th {\n",
       "        vertical-align: top;\n",
       "    }\n",
       "\n",
       "    .dataframe thead th {\n",
       "        text-align: right;\n",
       "    }\n",
       "</style>\n",
       "<table border=\"1\" class=\"dataframe\">\n",
       "  <thead>\n",
       "    <tr style=\"text-align: right;\">\n",
       "      <th></th>\n",
       "      <th>RegionID</th>\n",
       "      <th>RegionNombre</th>\n",
       "      <th>RegionOrdinal</th>\n",
       "      <th>ProvinciaID</th>\n",
       "      <th>ProvinciaNombre</th>\n",
       "    </tr>\n",
       "  </thead>\n",
       "  <tbody>\n",
       "    <tr>\n",
       "      <th>0</th>\n",
       "      <td>1</td>\n",
       "      <td>'Arica y Parinacota'</td>\n",
       "      <td>'XV'</td>\n",
       "      <td>1</td>\n",
       "      <td>'Arica'</td>\n",
       "    </tr>\n",
       "    <tr>\n",
       "      <th>1</th>\n",
       "      <td>1</td>\n",
       "      <td>'Arica y Parinacota'</td>\n",
       "      <td>'XV'</td>\n",
       "      <td>2</td>\n",
       "      <td>'Parinacota'</td>\n",
       "    </tr>\n",
       "    <tr>\n",
       "      <th>2</th>\n",
       "      <td>2</td>\n",
       "      <td>'Tarapacá'</td>\n",
       "      <td>'I'</td>\n",
       "      <td>3</td>\n",
       "      <td>'Iquique'</td>\n",
       "    </tr>\n",
       "    <tr>\n",
       "      <th>3</th>\n",
       "      <td>2</td>\n",
       "      <td>'Tarapacá'</td>\n",
       "      <td>'I'</td>\n",
       "      <td>4</td>\n",
       "      <td>'El Tamarugal'</td>\n",
       "    </tr>\n",
       "    <tr>\n",
       "      <th>4</th>\n",
       "      <td>3</td>\n",
       "      <td>'Antofagasta'</td>\n",
       "      <td>'II'</td>\n",
       "      <td>5</td>\n",
       "      <td>'Antofagasta'</td>\n",
       "    </tr>\n",
       "    <tr>\n",
       "      <th>5</th>\n",
       "      <td>3</td>\n",
       "      <td>'Antofagasta'</td>\n",
       "      <td>'II'</td>\n",
       "      <td>6</td>\n",
       "      <td>'El Loa'</td>\n",
       "    </tr>\n",
       "    <tr>\n",
       "      <th>6</th>\n",
       "      <td>3</td>\n",
       "      <td>'Antofagasta'</td>\n",
       "      <td>'II'</td>\n",
       "      <td>7</td>\n",
       "      <td>'Tocopilla'</td>\n",
       "    </tr>\n",
       "    <tr>\n",
       "      <th>7</th>\n",
       "      <td>4</td>\n",
       "      <td>'Atacama'</td>\n",
       "      <td>'III'</td>\n",
       "      <td>8</td>\n",
       "      <td>'Chañaral'</td>\n",
       "    </tr>\n",
       "    <tr>\n",
       "      <th>8</th>\n",
       "      <td>4</td>\n",
       "      <td>'Atacama'</td>\n",
       "      <td>'III'</td>\n",
       "      <td>9</td>\n",
       "      <td>'Copiapó'</td>\n",
       "    </tr>\n",
       "    <tr>\n",
       "      <th>9</th>\n",
       "      <td>4</td>\n",
       "      <td>'Atacama'</td>\n",
       "      <td>'III'</td>\n",
       "      <td>10</td>\n",
       "      <td>'Huasco'</td>\n",
       "    </tr>\n",
       "    <tr>\n",
       "      <th>10</th>\n",
       "      <td>5</td>\n",
       "      <td>'Coquimbo'</td>\n",
       "      <td>'IV'</td>\n",
       "      <td>11</td>\n",
       "      <td>'Choapa'</td>\n",
       "    </tr>\n",
       "    <tr>\n",
       "      <th>11</th>\n",
       "      <td>5</td>\n",
       "      <td>'Coquimbo'</td>\n",
       "      <td>'IV'</td>\n",
       "      <td>12</td>\n",
       "      <td>'Elqui'</td>\n",
       "    </tr>\n",
       "    <tr>\n",
       "      <th>12</th>\n",
       "      <td>5</td>\n",
       "      <td>'Coquimbo'</td>\n",
       "      <td>'IV'</td>\n",
       "      <td>13</td>\n",
       "      <td>'Limarí'</td>\n",
       "    </tr>\n",
       "    <tr>\n",
       "      <th>13</th>\n",
       "      <td>6</td>\n",
       "      <td>'Valparaiso'</td>\n",
       "      <td>'V'</td>\n",
       "      <td>14</td>\n",
       "      <td>'Isla de Pascua'</td>\n",
       "    </tr>\n",
       "    <tr>\n",
       "      <th>14</th>\n",
       "      <td>6</td>\n",
       "      <td>'Valparaiso'</td>\n",
       "      <td>'V'</td>\n",
       "      <td>15</td>\n",
       "      <td>'Los Andes'</td>\n",
       "    </tr>\n",
       "    <tr>\n",
       "      <th>15</th>\n",
       "      <td>6</td>\n",
       "      <td>'Valparaiso'</td>\n",
       "      <td>'V'</td>\n",
       "      <td>16</td>\n",
       "      <td>'Petorca'</td>\n",
       "    </tr>\n",
       "    <tr>\n",
       "      <th>16</th>\n",
       "      <td>6</td>\n",
       "      <td>'Valparaiso'</td>\n",
       "      <td>'V'</td>\n",
       "      <td>17</td>\n",
       "      <td>'Quillota'</td>\n",
       "    </tr>\n",
       "    <tr>\n",
       "      <th>17</th>\n",
       "      <td>6</td>\n",
       "      <td>'Valparaiso'</td>\n",
       "      <td>'V'</td>\n",
       "      <td>18</td>\n",
       "      <td>'San Antonio'</td>\n",
       "    </tr>\n",
       "    <tr>\n",
       "      <th>18</th>\n",
       "      <td>6</td>\n",
       "      <td>'Valparaiso'</td>\n",
       "      <td>'V'</td>\n",
       "      <td>19</td>\n",
       "      <td>'San Felipe de Aconcagua'</td>\n",
       "    </tr>\n",
       "    <tr>\n",
       "      <th>19</th>\n",
       "      <td>6</td>\n",
       "      <td>'Valparaiso'</td>\n",
       "      <td>'V'</td>\n",
       "      <td>20</td>\n",
       "      <td>'Valparaiso'</td>\n",
       "    </tr>\n",
       "    <tr>\n",
       "      <th>20</th>\n",
       "      <td>7</td>\n",
       "      <td>'Metropolitana de Santiago'</td>\n",
       "      <td>'RM'</td>\n",
       "      <td>21</td>\n",
       "      <td>'Chacabuco'</td>\n",
       "    </tr>\n",
       "    <tr>\n",
       "      <th>21</th>\n",
       "      <td>7</td>\n",
       "      <td>'Metropolitana de Santiago'</td>\n",
       "      <td>'RM'</td>\n",
       "      <td>22</td>\n",
       "      <td>'Cordillera'</td>\n",
       "    </tr>\n",
       "    <tr>\n",
       "      <th>22</th>\n",
       "      <td>7</td>\n",
       "      <td>'Metropolitana de Santiago'</td>\n",
       "      <td>'RM'</td>\n",
       "      <td>23</td>\n",
       "      <td>'Maipo'</td>\n",
       "    </tr>\n",
       "    <tr>\n",
       "      <th>23</th>\n",
       "      <td>7</td>\n",
       "      <td>'Metropolitana de Santiago'</td>\n",
       "      <td>'RM'</td>\n",
       "      <td>24</td>\n",
       "      <td>'Melipilla'</td>\n",
       "    </tr>\n",
       "    <tr>\n",
       "      <th>24</th>\n",
       "      <td>7</td>\n",
       "      <td>'Metropolitana de Santiago'</td>\n",
       "      <td>'RM'</td>\n",
       "      <td>25</td>\n",
       "      <td>'Santiago'</td>\n",
       "    </tr>\n",
       "    <tr>\n",
       "      <th>25</th>\n",
       "      <td>7</td>\n",
       "      <td>'Metropolitana de Santiago'</td>\n",
       "      <td>'RM'</td>\n",
       "      <td>26</td>\n",
       "      <td>'Talagante'</td>\n",
       "    </tr>\n",
       "    <tr>\n",
       "      <th>26</th>\n",
       "      <td>8</td>\n",
       "      <td>'Libertador General Bernardo O\\'Higgins'</td>\n",
       "      <td>'VI'</td>\n",
       "      <td>27</td>\n",
       "      <td>'Cachapoal'</td>\n",
       "    </tr>\n",
       "    <tr>\n",
       "      <th>27</th>\n",
       "      <td>8</td>\n",
       "      <td>'Libertador General Bernardo O\\'Higgins'</td>\n",
       "      <td>'VI'</td>\n",
       "      <td>28</td>\n",
       "      <td>'Cardenal Caro'</td>\n",
       "    </tr>\n",
       "    <tr>\n",
       "      <th>28</th>\n",
       "      <td>8</td>\n",
       "      <td>'Libertador General Bernardo O\\'Higgins'</td>\n",
       "      <td>'VI'</td>\n",
       "      <td>29</td>\n",
       "      <td>'Colchagua'</td>\n",
       "    </tr>\n",
       "    <tr>\n",
       "      <th>29</th>\n",
       "      <td>9</td>\n",
       "      <td>'Maule'</td>\n",
       "      <td>'VII'</td>\n",
       "      <td>30</td>\n",
       "      <td>'Cauquenes'</td>\n",
       "    </tr>\n",
       "    <tr>\n",
       "      <th>30</th>\n",
       "      <td>9</td>\n",
       "      <td>'Maule'</td>\n",
       "      <td>'VII'</td>\n",
       "      <td>31</td>\n",
       "      <td>'Curicó'</td>\n",
       "    </tr>\n",
       "    <tr>\n",
       "      <th>31</th>\n",
       "      <td>9</td>\n",
       "      <td>'Maule'</td>\n",
       "      <td>'VII'</td>\n",
       "      <td>32</td>\n",
       "      <td>'Linares'</td>\n",
       "    </tr>\n",
       "    <tr>\n",
       "      <th>32</th>\n",
       "      <td>9</td>\n",
       "      <td>'Maule'</td>\n",
       "      <td>'VII'</td>\n",
       "      <td>33</td>\n",
       "      <td>'Talca'</td>\n",
       "    </tr>\n",
       "    <tr>\n",
       "      <th>33</th>\n",
       "      <td>10</td>\n",
       "      <td>'Biobío'</td>\n",
       "      <td>'VIII'</td>\n",
       "      <td>34</td>\n",
       "      <td>'Arauco'</td>\n",
       "    </tr>\n",
       "    <tr>\n",
       "      <th>34</th>\n",
       "      <td>10</td>\n",
       "      <td>'Biobío'</td>\n",
       "      <td>'VIII'</td>\n",
       "      <td>35</td>\n",
       "      <td>'Bio Bío'</td>\n",
       "    </tr>\n",
       "    <tr>\n",
       "      <th>35</th>\n",
       "      <td>10</td>\n",
       "      <td>'Biobío'</td>\n",
       "      <td>'VIII'</td>\n",
       "      <td>36</td>\n",
       "      <td>'Concepción'</td>\n",
       "    </tr>\n",
       "    <tr>\n",
       "      <th>36</th>\n",
       "      <td>10</td>\n",
       "      <td>'Biobío'</td>\n",
       "      <td>'VIII'</td>\n",
       "      <td>37</td>\n",
       "      <td>'Ñuble'</td>\n",
       "    </tr>\n",
       "    <tr>\n",
       "      <th>37</th>\n",
       "      <td>11</td>\n",
       "      <td>'La Araucanía'</td>\n",
       "      <td>'IX'</td>\n",
       "      <td>38</td>\n",
       "      <td>'Cautín'</td>\n",
       "    </tr>\n",
       "    <tr>\n",
       "      <th>38</th>\n",
       "      <td>11</td>\n",
       "      <td>'La Araucanía'</td>\n",
       "      <td>'IX'</td>\n",
       "      <td>39</td>\n",
       "      <td>'Malleco'</td>\n",
       "    </tr>\n",
       "    <tr>\n",
       "      <th>39</th>\n",
       "      <td>12</td>\n",
       "      <td>'Los Ríos'</td>\n",
       "      <td>'XIV'</td>\n",
       "      <td>40</td>\n",
       "      <td>'Valdivia'</td>\n",
       "    </tr>\n",
       "    <tr>\n",
       "      <th>40</th>\n",
       "      <td>12</td>\n",
       "      <td>'Los Ríos'</td>\n",
       "      <td>'XIV'</td>\n",
       "      <td>41</td>\n",
       "      <td>'Ranco'</td>\n",
       "    </tr>\n",
       "    <tr>\n",
       "      <th>41</th>\n",
       "      <td>13</td>\n",
       "      <td>'Los Lagos'</td>\n",
       "      <td>'X'</td>\n",
       "      <td>42</td>\n",
       "      <td>'Chiloé'</td>\n",
       "    </tr>\n",
       "    <tr>\n",
       "      <th>42</th>\n",
       "      <td>13</td>\n",
       "      <td>'Los Lagos'</td>\n",
       "      <td>'X'</td>\n",
       "      <td>43</td>\n",
       "      <td>'Llanquihue'</td>\n",
       "    </tr>\n",
       "    <tr>\n",
       "      <th>43</th>\n",
       "      <td>13</td>\n",
       "      <td>'Los Lagos'</td>\n",
       "      <td>'X'</td>\n",
       "      <td>44</td>\n",
       "      <td>'Osorno'</td>\n",
       "    </tr>\n",
       "    <tr>\n",
       "      <th>44</th>\n",
       "      <td>13</td>\n",
       "      <td>'Los Lagos'</td>\n",
       "      <td>'X'</td>\n",
       "      <td>45</td>\n",
       "      <td>'Palena'</td>\n",
       "    </tr>\n",
       "    <tr>\n",
       "      <th>45</th>\n",
       "      <td>14</td>\n",
       "      <td>'Aisén del General Carlos Ibáñez del Campo'</td>\n",
       "      <td>'XI'</td>\n",
       "      <td>46</td>\n",
       "      <td>'Aisén'</td>\n",
       "    </tr>\n",
       "    <tr>\n",
       "      <th>46</th>\n",
       "      <td>14</td>\n",
       "      <td>'Aisén del General Carlos Ibáñez del Campo'</td>\n",
       "      <td>'XI'</td>\n",
       "      <td>47</td>\n",
       "      <td>'Capitán Prat'</td>\n",
       "    </tr>\n",
       "    <tr>\n",
       "      <th>47</th>\n",
       "      <td>14</td>\n",
       "      <td>'Aisén del General Carlos Ibáñez del Campo'</td>\n",
       "      <td>'XI'</td>\n",
       "      <td>48</td>\n",
       "      <td>'Coihaique'</td>\n",
       "    </tr>\n",
       "    <tr>\n",
       "      <th>48</th>\n",
       "      <td>14</td>\n",
       "      <td>'Aisén del General Carlos Ibáñez del Campo'</td>\n",
       "      <td>'XI'</td>\n",
       "      <td>49</td>\n",
       "      <td>'General Carrera'</td>\n",
       "    </tr>\n",
       "    <tr>\n",
       "      <th>49</th>\n",
       "      <td>15</td>\n",
       "      <td>'Magallanes y de la Antártica Chilena'</td>\n",
       "      <td>'XII'</td>\n",
       "      <td>50</td>\n",
       "      <td>'Antártica Chilena'</td>\n",
       "    </tr>\n",
       "    <tr>\n",
       "      <th>50</th>\n",
       "      <td>15</td>\n",
       "      <td>'Magallanes y de la Antártica Chilena'</td>\n",
       "      <td>'XII'</td>\n",
       "      <td>51</td>\n",
       "      <td>'Magallanes'</td>\n",
       "    </tr>\n",
       "    <tr>\n",
       "      <th>51</th>\n",
       "      <td>15</td>\n",
       "      <td>'Magallanes y de la Antártica Chilena'</td>\n",
       "      <td>'XII'</td>\n",
       "      <td>52</td>\n",
       "      <td>'Tierra del Fuego'</td>\n",
       "    </tr>\n",
       "    <tr>\n",
       "      <th>52</th>\n",
       "      <td>15</td>\n",
       "      <td>'Magallanes y de la Antártica Chilena'</td>\n",
       "      <td>'XII'</td>\n",
       "      <td>53</td>\n",
       "      <td>'Última Esperanza'</td>\n",
       "    </tr>\n",
       "  </tbody>\n",
       "</table>\n",
       "</div>"
      ],
      "text/plain": [
       "    RegionID                                 RegionNombre RegionOrdinal  \\\n",
       "0          1                         'Arica y Parinacota'          'XV'   \n",
       "1          1                         'Arica y Parinacota'          'XV'   \n",
       "2          2                                   'Tarapacá'           'I'   \n",
       "3          2                                   'Tarapacá'           'I'   \n",
       "4          3                                'Antofagasta'          'II'   \n",
       "5          3                                'Antofagasta'          'II'   \n",
       "6          3                                'Antofagasta'          'II'   \n",
       "7          4                                    'Atacama'         'III'   \n",
       "8          4                                    'Atacama'         'III'   \n",
       "9          4                                    'Atacama'         'III'   \n",
       "10         5                                   'Coquimbo'          'IV'   \n",
       "11         5                                   'Coquimbo'          'IV'   \n",
       "12         5                                   'Coquimbo'          'IV'   \n",
       "13         6                                 'Valparaiso'           'V'   \n",
       "14         6                                 'Valparaiso'           'V'   \n",
       "15         6                                 'Valparaiso'           'V'   \n",
       "16         6                                 'Valparaiso'           'V'   \n",
       "17         6                                 'Valparaiso'           'V'   \n",
       "18         6                                 'Valparaiso'           'V'   \n",
       "19         6                                 'Valparaiso'           'V'   \n",
       "20         7                  'Metropolitana de Santiago'          'RM'   \n",
       "21         7                  'Metropolitana de Santiago'          'RM'   \n",
       "22         7                  'Metropolitana de Santiago'          'RM'   \n",
       "23         7                  'Metropolitana de Santiago'          'RM'   \n",
       "24         7                  'Metropolitana de Santiago'          'RM'   \n",
       "25         7                  'Metropolitana de Santiago'          'RM'   \n",
       "26         8     'Libertador General Bernardo O\\'Higgins'          'VI'   \n",
       "27         8     'Libertador General Bernardo O\\'Higgins'          'VI'   \n",
       "28         8     'Libertador General Bernardo O\\'Higgins'          'VI'   \n",
       "29         9                                      'Maule'         'VII'   \n",
       "30         9                                      'Maule'         'VII'   \n",
       "31         9                                      'Maule'         'VII'   \n",
       "32         9                                      'Maule'         'VII'   \n",
       "33        10                                     'Biobío'        'VIII'   \n",
       "34        10                                     'Biobío'        'VIII'   \n",
       "35        10                                     'Biobío'        'VIII'   \n",
       "36        10                                     'Biobío'        'VIII'   \n",
       "37        11                               'La Araucanía'          'IX'   \n",
       "38        11                               'La Araucanía'          'IX'   \n",
       "39        12                                   'Los Ríos'         'XIV'   \n",
       "40        12                                   'Los Ríos'         'XIV'   \n",
       "41        13                                  'Los Lagos'           'X'   \n",
       "42        13                                  'Los Lagos'           'X'   \n",
       "43        13                                  'Los Lagos'           'X'   \n",
       "44        13                                  'Los Lagos'           'X'   \n",
       "45        14  'Aisén del General Carlos Ibáñez del Campo'          'XI'   \n",
       "46        14  'Aisén del General Carlos Ibáñez del Campo'          'XI'   \n",
       "47        14  'Aisén del General Carlos Ibáñez del Campo'          'XI'   \n",
       "48        14  'Aisén del General Carlos Ibáñez del Campo'          'XI'   \n",
       "49        15       'Magallanes y de la Antártica Chilena'         'XII'   \n",
       "50        15       'Magallanes y de la Antártica Chilena'         'XII'   \n",
       "51        15       'Magallanes y de la Antártica Chilena'         'XII'   \n",
       "52        15       'Magallanes y de la Antártica Chilena'         'XII'   \n",
       "\n",
       "    ProvinciaID            ProvinciaNombre  \n",
       "0             1                    'Arica'  \n",
       "1             2               'Parinacota'  \n",
       "2             3                  'Iquique'  \n",
       "3             4             'El Tamarugal'  \n",
       "4             5              'Antofagasta'  \n",
       "5             6                   'El Loa'  \n",
       "6             7                'Tocopilla'  \n",
       "7             8                 'Chañaral'  \n",
       "8             9                  'Copiapó'  \n",
       "9            10                   'Huasco'  \n",
       "10           11                   'Choapa'  \n",
       "11           12                    'Elqui'  \n",
       "12           13                   'Limarí'  \n",
       "13           14           'Isla de Pascua'  \n",
       "14           15                'Los Andes'  \n",
       "15           16                  'Petorca'  \n",
       "16           17                 'Quillota'  \n",
       "17           18              'San Antonio'  \n",
       "18           19  'San Felipe de Aconcagua'  \n",
       "19           20               'Valparaiso'  \n",
       "20           21                'Chacabuco'  \n",
       "21           22               'Cordillera'  \n",
       "22           23                    'Maipo'  \n",
       "23           24                'Melipilla'  \n",
       "24           25                 'Santiago'  \n",
       "25           26                'Talagante'  \n",
       "26           27                'Cachapoal'  \n",
       "27           28            'Cardenal Caro'  \n",
       "28           29                'Colchagua'  \n",
       "29           30                'Cauquenes'  \n",
       "30           31                   'Curicó'  \n",
       "31           32                  'Linares'  \n",
       "32           33                    'Talca'  \n",
       "33           34                   'Arauco'  \n",
       "34           35                  'Bio Bío'  \n",
       "35           36               'Concepción'  \n",
       "36           37                    'Ñuble'  \n",
       "37           38                   'Cautín'  \n",
       "38           39                  'Malleco'  \n",
       "39           40                 'Valdivia'  \n",
       "40           41                    'Ranco'  \n",
       "41           42                   'Chiloé'  \n",
       "42           43               'Llanquihue'  \n",
       "43           44                   'Osorno'  \n",
       "44           45                   'Palena'  \n",
       "45           46                    'Aisén'  \n",
       "46           47             'Capitán Prat'  \n",
       "47           48                'Coihaique'  \n",
       "48           49          'General Carrera'  \n",
       "49           50        'Antártica Chilena'  \n",
       "50           51               'Magallanes'  \n",
       "51           52         'Tierra del Fuego'  \n",
       "52           53         'Última Esperanza'  "
      ]
     },
     "execution_count": 17,
     "metadata": {},
     "output_type": "execute_result"
    }
   ],
   "source": [
    "regiones_provincias.dropna()"
   ]
  },
  {
   "cell_type": "code",
   "execution_count": null,
   "metadata": {},
   "outputs": [],
   "source": [
    "regiones_provincias_comunas[ regiones_provincias_comunas['ComunaNombre']==\"'Arica'\" ]"
   ]
  },
  {
   "cell_type": "code",
   "execution_count": 19,
   "metadata": {},
   "outputs": [
    {
     "data": {
      "text/html": [
       "<div>\n",
       "<style scoped>\n",
       "    .dataframe tbody tr th:only-of-type {\n",
       "        vertical-align: middle;\n",
       "    }\n",
       "\n",
       "    .dataframe tbody tr th {\n",
       "        vertical-align: top;\n",
       "    }\n",
       "\n",
       "    .dataframe thead th {\n",
       "        text-align: right;\n",
       "    }\n",
       "</style>\n",
       "<table border=\"1\" class=\"dataframe\">\n",
       "  <thead>\n",
       "    <tr style=\"text-align: right;\">\n",
       "      <th></th>\n",
       "      <th>RegionID</th>\n",
       "      <th>RegionNombre</th>\n",
       "      <th>RegionOrdinal</th>\n",
       "      <th>ProvinciaID</th>\n",
       "      <th>ProvinciaNombre</th>\n",
       "      <th>ComunaID</th>\n",
       "      <th>ComunaNombre</th>\n",
       "    </tr>\n",
       "    <tr>\n",
       "      <th>ID</th>\n",
       "      <th></th>\n",
       "      <th></th>\n",
       "      <th></th>\n",
       "      <th></th>\n",
       "      <th></th>\n",
       "      <th></th>\n",
       "      <th></th>\n",
       "    </tr>\n",
       "  </thead>\n",
       "  <tbody>\n",
       "    <tr>\n",
       "      <th>0</th>\n",
       "      <td>1</td>\n",
       "      <td>'Arica y Parinacota'</td>\n",
       "      <td>'XV'</td>\n",
       "      <td>1</td>\n",
       "      <td>'Arica'</td>\n",
       "      <td>1</td>\n",
       "      <td>'Arica'</td>\n",
       "    </tr>\n",
       "    <tr>\n",
       "      <th>1</th>\n",
       "      <td>1</td>\n",
       "      <td>'Arica y Parinacota'</td>\n",
       "      <td>'XV'</td>\n",
       "      <td>1</td>\n",
       "      <td>'Arica'</td>\n",
       "      <td>2</td>\n",
       "      <td>'Camarones'</td>\n",
       "    </tr>\n",
       "    <tr>\n",
       "      <th>2</th>\n",
       "      <td>1</td>\n",
       "      <td>'Arica y Parinacota'</td>\n",
       "      <td>'XV'</td>\n",
       "      <td>2</td>\n",
       "      <td>'Parinacota'</td>\n",
       "      <td>3</td>\n",
       "      <td>'General Lagos'</td>\n",
       "    </tr>\n",
       "    <tr>\n",
       "      <th>3</th>\n",
       "      <td>1</td>\n",
       "      <td>'Arica y Parinacota'</td>\n",
       "      <td>'XV'</td>\n",
       "      <td>2</td>\n",
       "      <td>'Parinacota'</td>\n",
       "      <td>4</td>\n",
       "      <td>'Putre'</td>\n",
       "    </tr>\n",
       "    <tr>\n",
       "      <th>4</th>\n",
       "      <td>2</td>\n",
       "      <td>'Tarapacá'</td>\n",
       "      <td>'I'</td>\n",
       "      <td>3</td>\n",
       "      <td>'Iquique'</td>\n",
       "      <td>5</td>\n",
       "      <td>'Alto Hospicio'</td>\n",
       "    </tr>\n",
       "  </tbody>\n",
       "</table>\n",
       "</div>"
      ],
      "text/plain": [
       "    RegionID          RegionNombre RegionOrdinal  ProvinciaID ProvinciaNombre  \\\n",
       "ID                                                                              \n",
       "0          1  'Arica y Parinacota'          'XV'            1         'Arica'   \n",
       "1          1  'Arica y Parinacota'          'XV'            1         'Arica'   \n",
       "2          1  'Arica y Parinacota'          'XV'            2    'Parinacota'   \n",
       "3          1  'Arica y Parinacota'          'XV'            2    'Parinacota'   \n",
       "4          2            'Tarapacá'           'I'            3       'Iquique'   \n",
       "\n",
       "    ComunaID     ComunaNombre  \n",
       "ID                             \n",
       "0          1          'Arica'  \n",
       "1          2      'Camarones'  \n",
       "2          3  'General Lagos'  \n",
       "3          4          'Putre'  \n",
       "4          5  'Alto Hospicio'  "
      ]
     },
     "execution_count": 19,
     "metadata": {},
     "output_type": "execute_result"
    }
   ],
   "source": [
    "regiones_provincias_comunas.head()"
   ]
  },
  {
   "cell_type": "code",
   "execution_count": 21,
   "metadata": {},
   "outputs": [
    {
     "data": {
      "text/plain": [
       "RegionID                                     7\n",
       "RegionNombre       'Metropolitana de Santiago'\n",
       "RegionOrdinal                             'RM'\n",
       "ProvinciaID                                 25\n",
       "ProvinciaNombre                     'Santiago'\n",
       "ComunaID                                   101\n",
       "ComunaNombre                'Estación Central'\n",
       "Name: 100, dtype: object"
      ]
     },
     "execution_count": 21,
     "metadata": {},
     "output_type": "execute_result"
    }
   ],
   "source": [
    "regiones_provincias_comunas.loc[100]"
   ]
  },
  {
   "cell_type": "code",
   "execution_count": 24,
   "metadata": {},
   "outputs": [
    {
     "data": {
      "text/html": [
       "<div>\n",
       "<style scoped>\n",
       "    .dataframe tbody tr th:only-of-type {\n",
       "        vertical-align: middle;\n",
       "    }\n",
       "\n",
       "    .dataframe tbody tr th {\n",
       "        vertical-align: top;\n",
       "    }\n",
       "\n",
       "    .dataframe thead th {\n",
       "        text-align: right;\n",
       "    }\n",
       "</style>\n",
       "<table border=\"1\" class=\"dataframe\">\n",
       "  <thead>\n",
       "    <tr style=\"text-align: right;\">\n",
       "      <th></th>\n",
       "      <th>RegionID</th>\n",
       "      <th>ProvinciaID</th>\n",
       "    </tr>\n",
       "    <tr>\n",
       "      <th>ID</th>\n",
       "      <th></th>\n",
       "      <th></th>\n",
       "    </tr>\n",
       "  </thead>\n",
       "  <tbody>\n",
       "    <tr>\n",
       "      <th>2</th>\n",
       "      <td>1</td>\n",
       "      <td>2</td>\n",
       "    </tr>\n",
       "    <tr>\n",
       "      <th>3</th>\n",
       "      <td>1</td>\n",
       "      <td>2</td>\n",
       "    </tr>\n",
       "  </tbody>\n",
       "</table>\n",
       "</div>"
      ],
      "text/plain": [
       "    RegionID  ProvinciaID\n",
       "ID                       \n",
       "2          1            2\n",
       "3          1            2"
      ]
     },
     "execution_count": 24,
     "metadata": {},
     "output_type": "execute_result"
    }
   ],
   "source": [
    "regiones_provincias_comunas[ regiones_provincias_comunas['ProvinciaID'] == 2 ] [['RegionID','ProvinciaID']]"
   ]
  },
  {
   "cell_type": "code",
   "execution_count": 26,
   "metadata": {},
   "outputs": [
    {
     "data": {
      "text/html": [
       "<div>\n",
       "<style scoped>\n",
       "    .dataframe tbody tr th:only-of-type {\n",
       "        vertical-align: middle;\n",
       "    }\n",
       "\n",
       "    .dataframe tbody tr th {\n",
       "        vertical-align: top;\n",
       "    }\n",
       "\n",
       "    .dataframe thead th {\n",
       "        text-align: right;\n",
       "    }\n",
       "</style>\n",
       "<table border=\"1\" class=\"dataframe\">\n",
       "  <thead>\n",
       "    <tr style=\"text-align: right;\">\n",
       "      <th></th>\n",
       "      <th>RegionID</th>\n",
       "      <th>ProvinciaID</th>\n",
       "    </tr>\n",
       "    <tr>\n",
       "      <th>ID</th>\n",
       "      <th></th>\n",
       "      <th></th>\n",
       "    </tr>\n",
       "  </thead>\n",
       "  <tbody>\n",
       "    <tr>\n",
       "      <th>2</th>\n",
       "      <td>1</td>\n",
       "      <td>2</td>\n",
       "    </tr>\n",
       "    <tr>\n",
       "      <th>3</th>\n",
       "      <td>1</td>\n",
       "      <td>2</td>\n",
       "    </tr>\n",
       "  </tbody>\n",
       "</table>\n",
       "</div>"
      ],
      "text/plain": [
       "    RegionID  ProvinciaID\n",
       "ID                       \n",
       "2          1            2\n",
       "3          1            2"
      ]
     },
     "execution_count": 26,
     "metadata": {},
     "output_type": "execute_result"
    }
   ],
   "source": [
    "seleccion = regiones_provincias_comunas.loc[ regiones_provincias_comunas['ProvinciaID'] == 2,  ['RegionID','ProvinciaID'] ]\n",
    "seleccion"
   ]
  },
  {
   "cell_type": "code",
   "execution_count": 29,
   "metadata": {
    "collapsed": true
   },
   "outputs": [],
   "source": [
    "seleccion.to_csv('data/chile_demographic_merge.csv', index=True)"
   ]
  },
  {
   "cell_type": "code",
   "execution_count": 30,
   "metadata": {},
   "outputs": [
    {
     "name": "stdout",
     "output_type": "stream",
     "text": [
      "ID,RegionID,ProvinciaID\n",
      "2,1,2\n",
      "3,1,2\n"
     ]
    }
   ],
   "source": [
    "!cat data/chile_demographic_merge.csv"
   ]
  },
  {
   "cell_type": "code",
   "execution_count": null,
   "metadata": {
    "collapsed": true
   },
   "outputs": [],
   "source": [
    "regiones_provincias_comunas.loc[1,\"ComunaNombre\"]"
   ]
  },
  {
   "cell_type": "markdown",
   "metadata": {},
   "source": [
    "## 4. Loading ful dataset"
   ]
  },
  {
   "cell_type": "code",
   "execution_count": 31,
   "metadata": {},
   "outputs": [
    {
     "data": {
      "text/html": [
       "<div>\n",
       "<style scoped>\n",
       "    .dataframe tbody tr th:only-of-type {\n",
       "        vertical-align: middle;\n",
       "    }\n",
       "\n",
       "    .dataframe tbody tr th {\n",
       "        vertical-align: top;\n",
       "    }\n",
       "\n",
       "    .dataframe thead th {\n",
       "        text-align: right;\n",
       "    }\n",
       "</style>\n",
       "<table border=\"1\" class=\"dataframe\">\n",
       "  <thead>\n",
       "    <tr style=\"text-align: right;\">\n",
       "      <th></th>\n",
       "      <th>RegionID</th>\n",
       "      <th>Region</th>\n",
       "      <th>Provincia</th>\n",
       "      <th>Comuna</th>\n",
       "      <th>Superficie</th>\n",
       "      <th>Poblacion</th>\n",
       "      <th>Densidad</th>\n",
       "      <th>IDH_2005</th>\n",
       "    </tr>\n",
       "  </thead>\n",
       "  <tbody>\n",
       "    <tr>\n",
       "      <th>0</th>\n",
       "      <td>1</td>\n",
       "      <td>Arica y Parinacota</td>\n",
       "      <td>Arica</td>\n",
       "      <td>Arica</td>\n",
       "      <td>4799.4</td>\n",
       "      <td>210936</td>\n",
       "      <td>38.4</td>\n",
       "      <td>0.736</td>\n",
       "    </tr>\n",
       "    <tr>\n",
       "      <th>1</th>\n",
       "      <td>1</td>\n",
       "      <td>Arica y Parinacota</td>\n",
       "      <td>Arica</td>\n",
       "      <td>Camarones</td>\n",
       "      <td>3927.0</td>\n",
       "      <td>679</td>\n",
       "      <td>0.3</td>\n",
       "      <td>0.751</td>\n",
       "    </tr>\n",
       "    <tr>\n",
       "      <th>2</th>\n",
       "      <td>1</td>\n",
       "      <td>Arica y Parinacota</td>\n",
       "      <td>Parinacota</td>\n",
       "      <td>General Lagos</td>\n",
       "      <td>2244.4</td>\n",
       "      <td>739</td>\n",
       "      <td>0.5</td>\n",
       "      <td>0.670</td>\n",
       "    </tr>\n",
       "    <tr>\n",
       "      <th>3</th>\n",
       "      <td>1</td>\n",
       "      <td>Arica y Parinacota</td>\n",
       "      <td>Parinacota</td>\n",
       "      <td>Putre</td>\n",
       "      <td>5902.5</td>\n",
       "      <td>1462</td>\n",
       "      <td>0.2</td>\n",
       "      <td>0.707</td>\n",
       "    </tr>\n",
       "    <tr>\n",
       "      <th>4</th>\n",
       "      <td>1</td>\n",
       "      <td>Arica y Parinacota</td>\n",
       "      <td>Iquique</td>\n",
       "      <td>Alto Hospicio</td>\n",
       "      <td>572.9</td>\n",
       "      <td>94455</td>\n",
       "      <td>87.6</td>\n",
       "      <td>NaN</td>\n",
       "    </tr>\n",
       "  </tbody>\n",
       "</table>\n",
       "</div>"
      ],
      "text/plain": [
       "   RegionID              Region   Provincia         Comuna  Superficie  \\\n",
       "0         1  Arica y Parinacota       Arica          Arica      4799.4   \n",
       "1         1  Arica y Parinacota       Arica      Camarones      3927.0   \n",
       "2         1  Arica y Parinacota  Parinacota  General Lagos      2244.4   \n",
       "3         1  Arica y Parinacota  Parinacota          Putre      5902.5   \n",
       "4         1  Arica y Parinacota     Iquique  Alto Hospicio       572.9   \n",
       "\n",
       "   Poblacion  Densidad  IDH_2005  \n",
       "0     210936      38.4     0.736  \n",
       "1        679       0.3     0.751  \n",
       "2        739       0.5     0.670  \n",
       "3       1462       0.2     0.707  \n",
       "4      94455      87.6       NaN  "
      ]
     },
     "execution_count": 31,
     "metadata": {},
     "output_type": "execute_result"
    }
   ],
   "source": [
    "data_file='data/chile_demographic.csv'\n",
    "data=pd.read_csv(data_file, header=0, sep=',')\n",
    "data.head()"
   ]
  },
  {
   "cell_type": "code",
   "execution_count": null,
   "metadata": {
    "scrolled": true
   },
   "outputs": [],
   "source": [
    "# Podemos ordenar el dataframe usando el campo Poblacion\n",
    "\n",
    "data_sort=data.sort_values('Poblacion')\n",
    "data_sort.head()"
   ]
  },
  {
   "cell_type": "code",
   "execution_count": null,
   "metadata": {
    "scrolled": true
   },
   "outputs": [],
   "source": [
    "# Podemos ordenarlo de mayor a menor\n",
    "\n",
    "data_sort=data.sort_values('Poblacion', ascending=False)\n",
    "data_sort.head()"
   ]
  },
  {
   "cell_type": "code",
   "execution_count": null,
   "metadata": {},
   "outputs": [],
   "source": [
    "(data.groupby(data['Region'])['Poblacion','Superficie'].sum())"
   ]
  },
  {
   "cell_type": "code",
   "execution_count": null,
   "metadata": {
    "collapsed": true,
    "scrolled": false
   },
   "outputs": [],
   "source": [
    "x=data.groupby(data['Region'])\n",
    "x['Poblacion','Superficie'].sum()"
   ]
  },
  {
   "cell_type": "code",
   "execution_count": null,
   "metadata": {},
   "outputs": [],
   "source": [
    "(data.groupby(data['Region'])['Poblacion','Superficie'].sum()) \\\n",
    "    .sort_values(['Poblacion'])"
   ]
  },
  {
   "cell_type": "code",
   "execution_count": null,
   "metadata": {
    "collapsed": true
   },
   "outputs": [],
   "source": []
  },
  {
   "cell_type": "code",
   "execution_count": null,
   "metadata": {
    "collapsed": true
   },
   "outputs": [],
   "source": []
  },
  {
   "cell_type": "code",
   "execution_count": null,
   "metadata": {},
   "outputs": [],
   "source": []
  }
 ],
 "metadata": {
  "kernelspec": {
   "display_name": "Python 3",
   "language": "python",
   "name": "python3"
  },
  "language_info": {
   "codemirror_mode": {
    "name": "ipython",
    "version": 3
   },
   "file_extension": ".py",
   "mimetype": "text/x-python",
   "name": "python",
   "nbconvert_exporter": "python",
   "pygments_lexer": "ipython3",
   "version": "3.7.3"
  }
 },
 "nbformat": 4,
 "nbformat_minor": 2
}
