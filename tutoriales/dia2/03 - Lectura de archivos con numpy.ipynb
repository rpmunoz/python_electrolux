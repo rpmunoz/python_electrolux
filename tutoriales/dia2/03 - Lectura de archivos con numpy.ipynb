{
 "cells": [
  {
   "cell_type": "markdown",
   "metadata": {},
   "source": [
    "# Lectura de archivos en Numpy\n",
    "\n",
    "**Autor:** Roberto Muñoz <br />\n",
    "**E-mail:** <rmunoz@metricarts.com> <br />\n",
    "**Github:** <https://github.com/rpmunoz> <br />"
   ]
  },
  {
   "cell_type": "code",
   "execution_count": 1,
   "metadata": {},
   "outputs": [],
   "source": [
    "import numpy as np"
   ]
  },
  {
   "cell_type": "markdown",
   "metadata": {},
   "source": [
    "Cargaremos algunos datos de estudiantes del archivo `datos_estudiantes.txt`"
   ]
  },
  {
   "cell_type": "code",
   "execution_count": 2,
   "metadata": {},
   "outputs": [
    {
     "name": "stdout",
     "output_type": "stream",
     "text": [
      "# Student data collected on 17 July 2014\n",
      "# Researcher: Dr Wicks, University College Newbury\n",
      "\n",
      "# The following data relate to N = 20 students. It\n",
      "# has been totally made up and so therefore is 100%\n",
      "# anonymous.\n",
      "\n",
      "Subject Sex    DOB      Height  Weight       BP     VO2max\n",
      "(ID)    M/F  dd/mm/yy     m       kg        mmHg  mL.kg-1.min-1\n",
      "JW-1     M    19/12/95    1.82     92.4    119/76   39.3\n",
      "JW-2     M    11/1/96     1.77     80.9    114/73   35.5\n",
      "JW-3     F    2/10/95     1.68     69.7    124/79   29.1\n",
      "JW-6     M    6/7/95      1.72     75.5    110/60   45.5\n",
      "# JW-7    F    28/3/96     1.66     72.4    101/68   -\n",
      "JW-9     F    11/12/95    1.78     82.1    115/75   32.3\n",
      "JW-10    F    7/4/96      1.60     -       -/-      30.1\n",
      "JW-11    M    22/8/95     1.72     77.2    97/63    48.8\n",
      "JW-12    M    23/5/96     1.83     88.9    105/70   37.7\n",
      "JW-14    F    12/1/96     1.56     56.3    108/72   26.0\n",
      "JW-15    F    1/6/96      1.64     65.0    99/67    35.7\n",
      "JW-16    M    10/9/95     1.63     73.0    131/84   29.9\n",
      "JW-17    M    17/2/96     1.67     89.8    101/76   40.2\n",
      "JW-18    M    31/7/96     1.66     75.1    -/-      -\n",
      "JW-19    F    30/10/95    1.59     67.3    103/69   33.5\n",
      "JW-22    F    9/3/96      1.70     -       119/80   30.9\n",
      "JW-23    M    15/5/95     1.97     89.2    124/82   -\n",
      "JW-24    F    1/12/95     1.66     63.8    100/78   -\n",
      "JW-25    F    25/10/95    1.63     64.4    -/-      28.0\n",
      "JW-26    M    17/4/96     1.69     -       121/82   39.\n",
      "       \n"
     ]
    }
   ],
   "source": [
    "!cat data/datos_estudiantes.txt"
   ]
  },
  {
   "cell_type": "markdown",
   "metadata": {},
   "source": [
    "Encontremos las alturas medias de los estudiantes masculinos y femeninos. Las columnas que necesitamos son la segunda y la cuarta, y no hay datos faltantes en estas columnas, por lo que podemos usar np.loadtxt. Primero construya un tipo de registro para los dos campos, luego lea las columnas relevantes después de omitir las primeras 9 líneas de encabezado:"
   ]
  },
  {
   "cell_type": "code",
   "execution_count": 3,
   "metadata": {},
   "outputs": [
    {
     "data": {
      "text/plain": [
       "array([(b'M', 1.82), (b'M', 1.77), (b'F', 1.68), (b'M', 1.72),\n",
       "       (b'F', 1.78), (b'F', 1.6 ), (b'M', 1.72), (b'M', 1.83),\n",
       "       (b'F', 1.56), (b'F', 1.64), (b'M', 1.63), (b'M', 1.67),\n",
       "       (b'M', 1.66), (b'F', 1.59), (b'F', 1.7 ), (b'M', 1.97),\n",
       "       (b'F', 1.66), (b'F', 1.63), (b'M', 1.69)],\n",
       "      dtype=[('gender', 'S1'), ('height', '<f8')])"
      ]
     },
     "execution_count": 3,
     "metadata": {},
     "output_type": "execute_result"
    }
   ],
   "source": [
    "data_file = 'data/datos_estudiantes.txt'\n",
    "dtype1 = np.dtype([('gender', '|S1'), ('height', 'f8')])\n",
    "\n",
    "data = np.loadtxt(data_file, dtype=dtype1, skiprows=9, usecols=(1,3))\n",
    "data"
   ]
  },
  {
   "cell_type": "markdown",
   "metadata": {},
   "source": [
    "Para encontrar las alturas promedio de los estudiantes varones, solo queremos indexar los registros con el campo de género como M, para lo cual podemos crear una matriz booleana:"
   ]
  },
  {
   "cell_type": "code",
   "execution_count": null,
   "metadata": {},
   "outputs": [],
   "source": [
    "mask_g = data['gender'] == b'M'\n",
    "mask_g"
   ]
  },
  {
   "cell_type": "markdown",
   "metadata": {},
   "source": [
    "`mask` tiene valores que son Verdadero o Falso para cada uno de los 19 registros válidos (uno está comentado) según si el estudiante es hombre o mujer. Así que las alturas de los estudiantes varones pueden verse como:"
   ]
  },
  {
   "cell_type": "code",
   "execution_count": null,
   "metadata": {},
   "outputs": [],
   "source": [
    "print(data['height'][mask_g])"
   ]
  },
  {
   "cell_type": "markdown",
   "metadata": {},
   "source": [
    "Calculamos la altura promedio para hombres y mujeres"
   ]
  },
  {
   "cell_type": "code",
   "execution_count": null,
   "metadata": {},
   "outputs": [],
   "source": [
    "hombre_av = data['height'][mask_g].mean()\n",
    "mujer_av = data['height'][~mask_g].mean()\n",
    "\n",
    "print('Promedio hombre: {:.2f} m, Promedio mujer: {:.2f} m'.format(hombre_av, mujer_av))\n"
   ]
  },
  {
   "cell_type": "markdown",
   "metadata": {},
   "source": [
    "Tenga en cuenta que ~mask_g (\"not mask_g\") es la matriz booleana inversa de mask.\n",
    "\n",
    "Para realizar el mismo análisis en los pesos de los alumnos, tenemos un poco más de trabajo por hacer porque hay algunos valores faltantes (denotados por '-'). Podríamos usar np.genfromtxt, pero escribamos un método de conversión en su lugar. Reemplazaremos los valores faltantes con el valor no-físico agradable de -99. La función parse_weight espera un argumento de cadena y devuelve un flotante:"
   ]
  },
  {
   "cell_type": "code",
   "execution_count": null,
   "metadata": {},
   "outputs": [],
   "source": [
    "def parse_weight(s):\n",
    "    try:\n",
    "        return float(s)\n",
    "    except ValueError:\n",
    "        return -99."
   ]
  },
  {
   "cell_type": "markdown",
   "metadata": {},
   "source": [
    "Esta es la función que queremos pasar como un convertidor para la columna 4:"
   ]
  },
  {
   "cell_type": "code",
   "execution_count": null,
   "metadata": {},
   "outputs": [],
   "source": [
    "dtype2 = np.dtype([('gender', '|S1'), ('weight', 'f8')])\n",
    "data = np.loadtxt(data_file, dtype=dtype2, skiprows=9, usecols=(1,4),\n",
    "                       converters={4: parse_weight})"
   ]
  },
  {
   "cell_type": "markdown",
   "metadata": {},
   "source": [
    "Ahora oculte los datos no válidos e indexe la matriz con una matriz booleana como antes:"
   ]
  },
  {
   "cell_type": "code",
   "execution_count": null,
   "metadata": {},
   "outputs": [],
   "source": [
    "mask_w = data['weight'] > 0    # elements only True for valid data\n",
    "hombre_wav = data['weight'][mask_w & mask_g].mean()      # valid and male\n",
    "mujer_wav = data['weight'][mask_w & ~mask_g].mean()     # valid and female\n",
    "print('Promedio hombre: {:.2f} kg, Promedio mujer: {:.2f} kg'.format(hombre_wav, mujer_wav))"
   ]
  },
  {
   "cell_type": "code",
   "execution_count": null,
   "metadata": {},
   "outputs": [],
   "source": []
  }
 ],
 "metadata": {
  "kernelspec": {
   "display_name": "Python 3",
   "language": "python",
   "name": "python3"
  },
  "language_info": {
   "codemirror_mode": {
    "name": "ipython",
    "version": 3
   },
   "file_extension": ".py",
   "mimetype": "text/x-python",
   "name": "python",
   "nbconvert_exporter": "python",
   "pygments_lexer": "ipython3",
   "version": "3.7.3"
  }
 },
 "nbformat": 4,
 "nbformat_minor": 2
}
