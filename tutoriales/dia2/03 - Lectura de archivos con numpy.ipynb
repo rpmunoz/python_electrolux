{
 "cells": [
  {
   "cell_type": "markdown",
   "metadata": {},
   "source": [
    "# Lectura de archivos en Numpy\n",
    "\n",
    "**Autor:** Roberto Muñoz <br />\n",
    "**E-mail:** <rmunoz@metricarts.com> <br />\n",
    "**Github:** <https://github.com/rpmunoz> <br />"
   ]
  },
  {
   "cell_type": "code",
   "execution_count": null,
   "metadata": {},
   "outputs": [],
   "source": [
    "import numpy as np"
   ]
  },
  {
   "cell_type": "markdown",
   "metadata": {},
   "source": [
    "Cargaremos algunos datos de estudiantes del archivo `datos_estudiantes.txt`"
   ]
  },
  {
   "cell_type": "code",
   "execution_count": null,
   "metadata": {},
   "outputs": [],
   "source": [
    "!cat data/datos_estudiantes.txt"
   ]
  },
  {
   "cell_type": "markdown",
   "metadata": {},
   "source": [
    "Encontremos las alturas medias de los estudiantes masculinos y femeninos. Las columnas que necesitamos son la segunda y la cuarta, y no hay datos faltantes en estas columnas, por lo que podemos usar np.loadtxt. Primero construya un tipo de registro para los dos campos, luego lea las columnas relevantes después de omitir las primeras 9 líneas de encabezado:"
   ]
  },
  {
   "cell_type": "code",
   "execution_count": null,
   "metadata": {},
   "outputs": [],
   "source": [
    "data_file = 'data/datos_estudiantes.txt'\n",
    "dtype1 = np.dtype([('gender', '|S1'), ('height', 'f8')])\n",
    "\n",
    "data = np.loadtxt(data_file, dtype=dtype1, skiprows=9, usecols=(1,3))\n",
    "data"
   ]
  },
  {
   "cell_type": "markdown",
   "metadata": {},
   "source": [
    "Para encontrar las alturas promedio de los estudiantes varones, solo queremos indexar los registros con el campo de género como M, para lo cual podemos crear una matriz booleana:"
   ]
  },
  {
   "cell_type": "code",
   "execution_count": null,
   "metadata": {},
   "outputs": [],
   "source": [
    "mask_g = data['gender'] == b'M'\n",
    "mask_g"
   ]
  },
  {
   "cell_type": "markdown",
   "metadata": {},
   "source": [
    "`mask` tiene valores que son Verdadero o Falso para cada uno de los 19 registros válidos (uno está comentado) según si el estudiante es hombre o mujer. Así que las alturas de los estudiantes varones pueden verse como:"
   ]
  },
  {
   "cell_type": "code",
   "execution_count": null,
   "metadata": {},
   "outputs": [],
   "source": [
    "print(data['height'][mask_g])"
   ]
  },
  {
   "cell_type": "markdown",
   "metadata": {},
   "source": [
    "Calculamos la altura promedio para hombres y mujeres"
   ]
  },
  {
   "cell_type": "code",
   "execution_count": null,
   "metadata": {},
   "outputs": [],
   "source": [
    "hombre_av = data['height'][mask_g].mean()\n",
    "mujer_av = data['height'][~mask_g].mean()\n",
    "\n",
    "print('Promedio hombre: {:.2f} m, Promedio mujer: {:.2f} m'.format(hombre_av, mujer_av))\n"
   ]
  },
  {
   "cell_type": "markdown",
   "metadata": {},
   "source": [
    "Tenga en cuenta que ~mask_g (\"not mask_g\") es la matriz booleana inversa de mask.\n",
    "\n",
    "Para realizar el mismo análisis en los pesos de los alumnos, tenemos un poco más de trabajo por hacer porque hay algunos valores faltantes (denotados por '-'). Podríamos usar np.genfromtxt, pero escribamos un método de conversión en su lugar. Reemplazaremos los valores faltantes con el valor no-físico agradable de -99. La función parse_weight espera un argumento de cadena y devuelve un flotante:"
   ]
  },
  {
   "cell_type": "code",
   "execution_count": null,
   "metadata": {},
   "outputs": [],
   "source": [
    "def parse_weight(s):\n",
    "    try:\n",
    "        return float(s)\n",
    "    except ValueError:\n",
    "        return -99."
   ]
  },
  {
   "cell_type": "markdown",
   "metadata": {},
   "source": [
    "Esta es la función que queremos pasar como un convertidor para la columna 4:"
   ]
  },
  {
   "cell_type": "code",
   "execution_count": null,
   "metadata": {},
   "outputs": [],
   "source": [
    "dtype2 = np.dtype([('gender', '|S1'), ('weight', 'f8')])\n",
    "data = np.loadtxt(data_file, dtype=dtype2, skiprows=9, usecols=(1,4),\n",
    "                       converters={4: parse_weight})"
   ]
  },
  {
   "cell_type": "markdown",
   "metadata": {},
   "source": [
    "Ahora oculte los datos no válidos e indexe la matriz con una matriz booleana como antes:"
   ]
  },
  {
   "cell_type": "code",
   "execution_count": null,
   "metadata": {},
   "outputs": [],
   "source": [
    "mask_w = data['weight'] > 0    # elements only True for valid data\n",
    "hombre_wav = data['weight'][mask_w & mask_g].mean()      # valid and male\n",
    "mujer_wav = data['weight'][mask_w & ~mask_g].mean()     # valid and female\n",
    "print('Promedio hombre: {:.2f} kg, Promedio mujer: {:.2f} kg'.format(hombre_wav, mujer_wav))"
   ]
  },
  {
   "cell_type": "code",
   "execution_count": null,
   "metadata": {},
   "outputs": [],
   "source": []
  }
 ],
 "metadata": {
  "kernelspec": {
   "display_name": "Python 3",
   "language": "python",
   "name": "python3"
  },
  "language_info": {
   "codemirror_mode": {
    "name": "ipython",
    "version": 3
   },
   "file_extension": ".py",
   "mimetype": "text/x-python",
   "name": "python",
   "nbconvert_exporter": "python",
   "pygments_lexer": "ipython3",
   "version": "3.7.3"
  }
 },
 "nbformat": 4,
 "nbformat_minor": 2
}
