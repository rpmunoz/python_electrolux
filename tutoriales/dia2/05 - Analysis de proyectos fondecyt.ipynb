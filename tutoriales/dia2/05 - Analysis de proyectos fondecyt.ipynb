{
 "cells": [
  {
   "cell_type": "markdown",
   "metadata": {},
   "source": [
    "# Análisis de adjudicación de proyectos de I+D por Universidades en Chile\n",
    "\n",
    "**Autor:** Roberto Muñoz <br />\n",
    "**E-mail:** <rmunoz@metricarts.com> <br />\n",
    "**Github:** <https://github.com/rpmunoz> <br />\n"
   ]
  },
  {
   "cell_type": "code",
   "execution_count": null,
   "metadata": {
    "collapsed": false
   },
   "outputs": [],
   "source": [
    "import numpy as np\n",
    "import pandas as pd\n",
    "\n",
    "from fuzzywuzzy import fuzz\n",
    "import re, unicodedata, datetime\n",
    "\n",
    "pd.set_option('display.max_columns', None)\n",
    "pd.set_option('display.max_rows', None)\n",
    "pd.set_option('display.width', None)\n",
    "pd.set_option('max_colwidth', 200)"
   ]
  },
  {
   "cell_type": "code",
   "execution_count": null,
   "metadata": {
    "collapsed": false
   },
   "outputs": [],
   "source": [
    "mineduc_file='data/Mineduc Listado IES Vigentes 05-2016.csv'\n",
    "mineduc=pd.read_csv(mineduc_file, header=0, sep=',')\n",
    "mineduc['fecha_reconocimiento']=pd.to_datetime(mineduc['fecha_reconocimiento'])\n",
    "mineduc['año_reconocimiento']=mineduc['fecha_reconocimiento'].dt.year"
   ]
  },
  {
   "cell_type": "code",
   "execution_count": null,
   "metadata": {},
   "outputs": [],
   "source": [
    "mineduc.head()"
   ]
  },
  {
   "cell_type": "code",
   "execution_count": null,
   "metadata": {
    "collapsed": false
   },
   "outputs": [],
   "source": [
    "for i in range(len(mineduc.index)):\n",
    "    old=mineduc.loc[i,'nombre']\n",
    "    new=re.sub(\" ?\\(\\+\\+\\) ?| ?\\(\\*.*\\) ?\",\"\", old)\n",
    "    print(\"OLD: \", old)\n",
    "    print(\"NEW: \", new)\n",
    "    mineduc.loc[i,'nombre']=new"
   ]
  },
  {
   "cell_type": "markdown",
   "metadata": {},
   "source": [
    "Usaremos solamente las Universidades tipo A, B y C"
   ]
  },
  {
   "cell_type": "code",
   "execution_count": null,
   "metadata": {
    "collapsed": false
   },
   "outputs": [],
   "source": [
    "mineduc_univ=mineduc.query(\"tipo=='A' | tipo=='B' | tipo=='C'\")\n",
    "mineduc_univ=mineduc_univ.loc[mineduc_univ[\"nombre\"].str.lower().sort_values(ascending=True).index]\n",
    "mineduc_univ['nombre']\n",
    "#['nombre'].sort_values(axis=0, ascending=False)"
   ]
  },
  {
   "cell_type": "markdown",
   "metadata": {},
   "source": [
    "## Cargamos los archivos Fondecyt regular\n",
    "\n",
    "Estos archivos vienen en format csv. Los nombres que aparecen en la columna nombre vienen en mayúsculas y no son completamente oficiales.\n",
    "\n",
    "El objetivo es hacer un match entre la columna nombre de estos archivos y la columna nombre de Mineduc para así quedarnos con el nombre oficial reconocido por Mineduc"
   ]
  },
  {
   "cell_type": "code",
   "execution_count": null,
   "metadata": {
    "collapsed": true
   },
   "outputs": [],
   "source": [
    "fondecyt_2010=pd.read_csv('data/fondecyt/fondecyt regular 2010.csv', header=0, sep=',')\n",
    "fondecyt_2011=pd.read_csv('data/fondecyt/fondecyt regular 2011.csv', header=0, sep=',')\n",
    "fondecyt_2012=pd.read_csv('data/fondecyt/fondecyt regular 2012.csv', header=0, sep=',')\n",
    "fondecyt_2013=pd.read_csv('data/fondecyt/fondecyt regular 2013.csv', header=0, sep=',')\n",
    "fondecyt_2014=pd.read_csv('data/fondecyt/fondecyt regular 2014.csv', header=0, sep=',')\n",
    "fondecyt_2015=pd.read_csv('data/fondecyt/fondecyt regular 2015.csv', header=0, sep=',')\n",
    "fondecyt_2016=pd.read_csv('data/fondecyt/fondecyt regular 2016.csv', header=0, sep=',')"
   ]
  },
  {
   "cell_type": "code",
   "execution_count": null,
   "metadata": {},
   "outputs": [],
   "source": [
    "fondecyt_2010.head()"
   ]
  },
  {
   "cell_type": "markdown",
   "metadata": {},
   "source": [
    "Reemplazamos algunas abreviaciones por el nombre completo"
   ]
  },
  {
   "cell_type": "code",
   "execution_count": null,
   "metadata": {
    "collapsed": false
   },
   "outputs": [],
   "source": [
    "fondecyt_regular=pd.concat([fondecyt_2010,fondecyt_2011,fondecyt_2012,fondecyt_2013,fondecyt_2014,fondecyt_2015,fondecyt_2016]).reset_index(drop=True)\n",
    "for i in range(len(fondecyt_regular.index)):\n",
    "    name=(fondecyt_regular.loc[i,'nombre']).upper()\n",
    "    name=name.replace(\"UNIV.\",\"UNIVERSIDAD\").replace(\"PONT.\",\"PONTIFICIA\").replace(\"CS.\",\"CIENCIAS\").replace(\"TEC.\",\"TECNOLOGIA\")\n",
    "    name=name.replace(\"INTERNACIONAL SEK\",\"SEK\").replace(\"UNIVERSIDAD CIENCIAS DE LA INFORMATICA\",\"UNIVERSIDAD UCINF\")\n",
    "    fondecyt_regular.loc[i,'nombre']=name.capitalize()\n",
    "\n",
    "fondecyt_regular.head()"
   ]
  },
  {
   "cell_type": "markdown",
   "metadata": {},
   "source": [
    "Hacemos el match usando el paquete fuzzyword"
   ]
  },
  {
   "cell_type": "code",
   "execution_count": null,
   "metadata": {
    "collapsed": false
   },
   "outputs": [],
   "source": [
    "for i in range(len(fondecyt_regular.index)):\n",
    "    if fondecyt_regular.loc[i,'nombre'] != 'Otras universidades':\n",
    "        d = mineduc.apply(lambda x: fuzz.ratio(x['nombre'].upper(), fondecyt_regular.loc[i, 'nombre'].upper()), axis=1)\n",
    "        if d.max()<90:\n",
    "            print(\"WARNING - Fuzz ratio lower than 90\")\n",
    "            print('Fondecyt name: ', fondecyt_regular.loc[i,'nombre'])\n",
    "            print('Mineduc name: ', mineduc.loc[d.idxmax(), 'nombre'])\n",
    "        fondecyt_regular.loc[i,'nombre']=mineduc.loc[d.idxmax(), 'nombre']\n",
    "\n",
    "fondecyt_regular.head()"
   ]
  },
  {
   "cell_type": "markdown",
   "metadata": {},
   "source": [
    "## Realizamos algunas operaciones de agregación\n",
    "\n",
    "Agrupemos por nombre de Universidad"
   ]
  },
  {
   "cell_type": "code",
   "execution_count": null,
   "metadata": {
    "collapsed": true
   },
   "outputs": [],
   "source": [
    "fondecyt_univ = fondecyt_regular.groupby(['nombre']).sum().sort_values('n_aprobados', ascending=False)\n",
    "fondecyt_univ.head()"
   ]
  },
  {
   "cell_type": "code",
   "execution_count": null,
   "metadata": {},
   "outputs": [],
   "source": [
    "fondecyt_univ.to_csv('results/Fondecyt_agrupado_por_universidades', index=False)"
   ]
  },
  {
   "cell_type": "markdown",
   "metadata": {},
   "source": [
    "Agrupemos por nombre de Universidad y año de adjudicación"
   ]
  },
  {
   "cell_type": "code",
   "execution_count": null,
   "metadata": {},
   "outputs": [],
   "source": [
    "fondecyt_univ_year=fondecyt_regular.groupby(['nombre','año']).sum()  #.sort_values('n_aprobados',ascending=False)[['n_concursados','n_aprobados']]\n",
    "fondecyt_univ_year['tasa_aprobacion']=np.round(fondecyt_univ_year['n_aprobados']/fondecyt_university['n_concursados']*100.,decimals=1)\n",
    "fondecyt_univ_year.head()"
   ]
  },
  {
   "cell_type": "markdown",
   "metadata": {},
   "source": [
    "Eliminamos las Universidades con nombre \"Otras Universidades\""
   ]
  },
  {
   "cell_type": "code",
   "execution_count": null,
   "metadata": {},
   "outputs": [],
   "source": [
    "fondecyt_regular = fondecyt_regular[fondecyt_regular['nombre']!= \"Otras universidades\"]\n",
    "fondecyt_regular.head()"
   ]
  },
  {
   "cell_type": "code",
   "execution_count": null,
   "metadata": {},
   "outputs": [],
   "source": [
    "fondecyt_univ_year=fondecyt_regular.groupby(['nombre','año']).sum()  #.sort_values('n_aprobados',ascending=False)[['n_concursados','n_aprobados']]\n",
    "fondecyt_univ_year['tasa_aprobacion']=np.round(fondecyt_univ_year['n_aprobados']/fondecyt_university['n_concursados']*100.,decimals=1)\n",
    "fondecyt_univ_year.head(10)"
   ]
  },
  {
   "cell_type": "markdown",
   "metadata": {},
   "source": [
    "Algunas veces es conveniente tener los años como campos de la tabla"
   ]
  },
  {
   "cell_type": "code",
   "execution_count": null,
   "metadata": {},
   "outputs": [],
   "source": [
    "table = pd.pivot_table(fondecyt_regular,values=['n_concursados','n_aprobados'],index=['nombre'],columns=['año'],aggfunc=np.sum,margins=True)\n",
    "#table = table.round({'tasa_aprobacion':1})\n",
    "table.sort_values(by=('n_aprobados','All'), ascending=False,inplace=True)\n",
    "table.reset_index( inplace=True)\n",
    "table\n"
   ]
  },
  {
   "cell_type": "code",
   "execution_count": null,
   "metadata": {},
   "outputs": [],
   "source": []
  }
 ],
 "metadata": {
  "kernelspec": {
   "display_name": "Python 3",
   "language": "python",
   "name": "python3"
  },
  "language_info": {
   "codemirror_mode": {
    "name": "ipython",
    "version": 3
   },
   "file_extension": ".py",
   "mimetype": "text/x-python",
   "name": "python",
   "nbconvert_exporter": "python",
   "pygments_lexer": "ipython3",
   "version": "3.7.3"
  }
 },
 "nbformat": 4,
 "nbformat_minor": 2
}
